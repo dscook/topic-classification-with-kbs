{
 "cells": [
  {
   "cell_type": "markdown",
   "metadata": {},
   "source": [
    "# Data Exploration\n",
    "\n",
    "## Load imports."
   ]
  },
  {
   "cell_type": "code",
   "execution_count": 1,
   "metadata": {},
   "outputs": [],
   "source": [
    "from collections import defaultdict\n",
    "import numpy as np\n",
    "from sklearn.naive_bayes import BernoulliNB\n",
    "\n",
    "from reuters_parser import load_data\n",
    "from sentence_utils import remove_stop_words_and_lemmatize\n",
    "from term_document_matrix import TermDocumentMatrixCreator\n",
    "from evaluation import calculate_classification_accuracy"
   ]
  },
  {
   "cell_type": "markdown",
   "metadata": {},
   "source": [
    "## Useful lookup tables."
   ]
  },
  {
   "cell_type": "code",
   "execution_count": 2,
   "metadata": {},
   "outputs": [],
   "source": [
    "topic_code_to_topic_dict = {\n",
    "    'GCRIM': 'CRIME, LAW ENFORCEMENT',\n",
    "    'E11': 'ECONOMIC PERFORMANCE',\n",
    "    'GVOTE': 'ELECTIONS',\n",
    "    'GHEA': 'HEALTH',\n",
    "    'GREL': 'RELIGION',\n",
    "    'GSPO': 'SPORTS'\n",
    "}\n",
    "\n",
    "topic_code_to_int = {\n",
    "    'GCRIM': 0,\n",
    "    'E11': 1,\n",
    "    'GVOTE': 2,\n",
    "    'GHEA': 3,\n",
    "    'GREL': 4,\n",
    "    'GSPO': 5\n",
    "}\n",
    "\n",
    "int_to_topic_code = {\n",
    "    0: 'GCRIM',\n",
    "    1: 'E11',\n",
    "    2: 'GVOTE',\n",
    "    3: 'GHEA',\n",
    "    4: 'GREL',\n",
    "    5: 'GSPO'\n",
    "}"
   ]
  },
  {
   "cell_type": "markdown",
   "metadata": {},
   "source": [
    "## Load the train and test data."
   ]
  },
  {
   "cell_type": "markdown",
   "metadata": {},
   "source": [
    "Load the articles."
   ]
  },
  {
   "cell_type": "code",
   "execution_count": 12,
   "metadata": {},
   "outputs": [
    {
     "name": "stdout",
     "output_type": "stream",
     "text": [
      "\n",
      "------------------ Data for a Year Aug 96 to Aug 97 ------------------\n",
      "\n",
      "Number of articles for topic CRIME, LAW ENFORCEMENT: 30276\n",
      "Number of articles for topic SPORTS: 35200\n",
      "Number of articles for topic RELIGION: 2287\n",
      "Number of articles for topic ELECTIONS: 10940\n",
      "Number of articles for topic ECONOMIC PERFORMANCE: 8452\n",
      "Number of articles for topic HEALTH: 4999\n",
      "\n",
      "Total number of articles: 92154\n"
     ]
    }
   ],
   "source": [
    "def print_number_of_articles_per_topic(dataset, dataset_name):\n",
    "    # Print out the number of documents in each category\n",
    "    print('')\n",
    "    print('------------------ {} ------------------'.format(dataset_name))\n",
    "    print('')\n",
    "    total_number = 0\n",
    "    for topic_code, articles in dataset.items():\n",
    "        print('Number of articles for topic {}: {}'.format(topic_code_to_topic_dict[topic_code], len(articles)))\n",
    "        total_number += len(articles)\n",
    "    print('')\n",
    "    print('Total number of articles: {}'.format(total_number))\n",
    "\n",
    "year_data = load_data('19960820', '19970819', '../../../../downloads/reuters/rcv1/', topic_code_to_topic_dict)\n",
    "\n",
    "print_number_of_articles_per_topic(year_data, 'Data for a Year August 96 to August 97')"
   ]
  },
  {
   "cell_type": "markdown",
   "metadata": {},
   "source": [
    "Lemmatize and remove stopwords from each news article."
   ]
  },
  {
   "cell_type": "code",
   "execution_count": 15,
   "metadata": {},
   "outputs": [],
   "source": [
    "def sanitise_each_topic(dataset):\n",
    "    \"\"\"\n",
    "    Removes stop words and lemmatizes all articles for each topic.\n",
    "    \"\"\"\n",
    "    data_sanitised = defaultdict(list)\n",
    "    \n",
    "    for topic_code, articles in dataset.items():\n",
    "        for article in articles:\n",
    "            article_sanitised = remove_stop_words_and_lemmatize(article)\n",
    "            data_sanitised[topic_code].append(article_sanitised)\n",
    "    \n",
    "    return data_sanitised\n",
    "\n",
    "\n",
    "year_data_sanitised = sanitise_each_topic(year_data)"
   ]
  },
  {
   "cell_type": "markdown",
   "metadata": {},
   "source": [
    "Convert dictionary to array."
   ]
  },
  {
   "cell_type": "code",
   "execution_count": 16,
   "metadata": {},
   "outputs": [],
   "source": [
    "np.random.seed(42)\n",
    "\n",
    "def convert_dictionary_to_array(dataset):\n",
    "    \"\"\"\n",
    "    Given a dataset dictionary keyed by topic code with items a list of the articles for that topic; \n",
    "    returns a tuple (x_data, y_data) where x_data is an array of all articles and y_data is the corresponding\n",
    "    topic indexes from topic_code_to_int.  The data is also shuffled.\n",
    "    \"\"\"\n",
    "    x_data = []\n",
    "    y_data = []\n",
    "    \n",
    "    for topic_code, articles in dataset.items():\n",
    "        x_data.extend(articles)\n",
    "        y_data.extend([topic_code_to_int[topic_code]] * len(articles))\n",
    "    \n",
    "    # Randomly shuffle the dataset\n",
    "    indices = np.arange(len(y_data))\n",
    "    np.random.shuffle(indices)\n",
    "    \n",
    "    x_data = np.array(x_data)\n",
    "    y_data = np.array(y_data)\n",
    "    \n",
    "    x_data = x_data[indices]\n",
    "    y_data = y_data[indices]\n",
    "    \n",
    "    return (x_data, y_data)\n",
    "\n",
    "\n",
    "# Split data into 80% train, 20% test\n",
    "x, y = convert_dictionary_to_array(year_data_sanitised)\n",
    "total_examples = len(y)\n",
    "split_point = int(total_examples * 0.8)\n",
    "train_x = x[:split_point]\n",
    "train_y = y[:split_point]\n",
    "test_x = x[split_point:]\n",
    "test_y = y[split_point:]"
   ]
  },
  {
   "cell_type": "markdown",
   "metadata": {},
   "source": [
    "## Assess Bernoulli Naive Bayes baseline classification performance."
   ]
  },
  {
   "cell_type": "markdown",
   "metadata": {},
   "source": [
    "Run Bernoulli Naive Bayes and report classification accuracy."
   ]
  },
  {
   "cell_type": "code",
   "execution_count": 17,
   "metadata": {},
   "outputs": [
    {
     "name": "stdout",
     "output_type": "stream",
     "text": [
      "Word n-grams (1, 1)\n",
      "{'GCRIM': 0.9634989548158868, 'E11': 0.9501779359430605, 'GVOTE': 0.8431641518061271, 'GHEA': 0.7994041708043694, 'GREL': 0.5161290322580645, 'GSPO': 0.9565091330820528}\n",
      "\n",
      "Word n-grams (1, 2)\n",
      "{'GCRIM': 0.9868146004180737, 'E11': 0.3232502965599051, 'GVOTE': 0.4288980338363054, 'GHEA': 0.0019860973187686196, 'GREL': 0.0, 'GSPO': 0.9878225572629747}\n",
      "\n"
     ]
    }
   ],
   "source": [
    "def run_bernoulli_naive_bayes(ngram_range):\n",
    "    print('Word n-grams {}'.format(ngram_range))\n",
    "    tdm_creator = TermDocumentMatrixCreator(train_x, ngram_range=ngram_range)\n",
    "    train_tdm = tdm_creator.create_term_document_matrix(train_x)\n",
    "    test_tdm = tdm_creator.create_term_document_matrix(test_x)\n",
    "\n",
    "    naive_bayes = BernoulliNB()\n",
    "    naive_bayes.fit(train_tdm, train_y)\n",
    "    predict = naive_bayes.predict(test_tdm)\n",
    "\n",
    "    per_class_accuracy = calculate_classification_accuracy(int_to_topic_code, predict, test_y)\n",
    "    print(per_class_accuracy)\n",
    "    print('')\n",
    "\n",
    "# 1 word n-grams\n",
    "run_bernoulli_naive_bayes(ngram_range = (1, 1))\n",
    "# 1-2 word n-grams\n",
    "run_bernoulli_naive_bayes(ngram_range = (1, 2))"
   ]
  }
 ],
 "metadata": {
  "kernelspec": {
   "display_name": "Python 3",
   "language": "python",
   "name": "python3"
  },
  "language_info": {
   "codemirror_mode": {
    "name": "ipython",
    "version": 3
   },
   "file_extension": ".py",
   "mimetype": "text/x-python",
   "name": "python",
   "nbconvert_exporter": "python",
   "pygments_lexer": "ipython3",
   "version": "3.6.8"
  }
 },
 "nbformat": 4,
 "nbformat_minor": 2
}
