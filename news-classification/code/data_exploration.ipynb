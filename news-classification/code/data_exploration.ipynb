{
 "cells": [
  {
   "cell_type": "markdown",
   "metadata": {},
   "source": [
    "# Data Exploration\n",
    "\n",
    "## Load imports."
   ]
  },
  {
   "cell_type": "code",
   "execution_count": 40,
   "metadata": {},
   "outputs": [],
   "source": [
    "from collections import defaultdict\n",
    "import numpy as np\n",
    "\n",
    "from reuters_parser import load_data\n",
    "from sentence_utils import remove_stop_words_and_lemmatize\n",
    "from term_document_matrix import TermDocumentMatrix"
   ]
  },
  {
   "cell_type": "markdown",
   "metadata": {},
   "source": [
    "## Useful lookup tables."
   ]
  },
  {
   "cell_type": "code",
   "execution_count": 32,
   "metadata": {},
   "outputs": [],
   "source": [
    "topic_code_to_topic_dict = {\n",
    "    'GCRIM': 'CRIME, LAW ENFORCEMENT',\n",
    "    'E11': 'ECONOMIC PERFORMANCE',\n",
    "    'GVOTE': 'ELECTIONS',\n",
    "    'GHEA': 'HEALTH',\n",
    "    'GREL': 'RELIGION',\n",
    "    'GSPO': 'SPORTS'\n",
    "}\n",
    "\n",
    "topic_code_to_int = {\n",
    "    'GCRIM': 0,\n",
    "    'E11': 1,\n",
    "    'GVOTE': 2,\n",
    "    'GHEA': 3,\n",
    "    'GREL': 4,\n",
    "    'GSPO': 5\n",
    "}\n",
    "\n",
    "int_to_topic_code = {\n",
    "    0: 'GCRIM',\n",
    "    1: 'E11',\n",
    "    2: 'GVOTE',\n",
    "    3: 'GHEA',\n",
    "    4: 'GREL',\n",
    "    5: 'GSPO'\n",
    "}"
   ]
  },
  {
   "cell_type": "markdown",
   "metadata": {},
   "source": [
    "## Load the train and test data."
   ]
  },
  {
   "cell_type": "code",
   "execution_count": 29,
   "metadata": {},
   "outputs": [
    {
     "name": "stdout",
     "output_type": "stream",
     "text": [
      "\n",
      "------------------ Train Data ------------------\n",
      "\n",
      "Number of articles for topic CRIME, LAW ENFORCEMENT: 470\n",
      "Number of articles for topic SPORTS: 436\n",
      "Number of articles for topic RELIGION: 26\n",
      "Number of articles for topic ELECTIONS: 132\n",
      "Number of articles for topic ECONOMIC PERFORMANCE: 103\n",
      "Number of articles for topic HEALTH: 69\n",
      "\n",
      "Total number of articles: 1236\n",
      "\n",
      "------------------ Test Data ------------------\n",
      "\n",
      "Number of articles for topic CRIME, LAW ENFORCEMENT: 666\n",
      "Number of articles for topic RELIGION: 54\n",
      "Number of articles for topic SPORTS: 649\n",
      "Number of articles for topic HEALTH: 101\n",
      "Number of articles for topic ECONOMIC PERFORMANCE: 205\n",
      "Number of articles for topic ELECTIONS: 238\n",
      "\n",
      "Total number of articles: 1913\n"
     ]
    }
   ],
   "source": [
    "def print_number_of_articles_per_topic(dataset, dataset_name):\n",
    "    # Print out the number of documents in each category\n",
    "    print('')\n",
    "    print('------------------ {} ------------------'.format(dataset_name))\n",
    "    print('')\n",
    "    total_number = 0\n",
    "    for topic_code, articles in dataset.items():\n",
    "        print('Number of articles for topic {}: {}'.format(topic_code_to_topic_dict[topic_code], len(articles)))\n",
    "        total_number += len(articles)\n",
    "    print('')\n",
    "    print('Total number of articles: {}'.format(total_number))\n",
    "\n",
    "train_data = load_data('19960820', '19960825', '../data/train/', topic_code_to_topic_dict)\n",
    "test_data = load_data('19960826', '19960902', '../data/test/', topic_code_to_topic_dict)\n",
    "\n",
    "print_number_of_articles_per_topic(train_data, 'Train Data')\n",
    "print_number_of_articles_per_topic(test_data, 'Test Data')"
   ]
  },
  {
   "cell_type": "markdown",
   "metadata": {},
   "source": [
    "## Assess Bernoulli Naive Bayes baseline classification performance.\n",
    "\n",
    "Lemmatize and remove stopwords from each news article."
   ]
  },
  {
   "cell_type": "code",
   "execution_count": 30,
   "metadata": {},
   "outputs": [],
   "source": [
    "def sanitise_each_topic(dataset):\n",
    "    \"\"\"\n",
    "    Removes stop words and lemmatizes all articles for each topic.\n",
    "    \"\"\"\n",
    "    data_sanitised = defaultdict(list)\n",
    "    \n",
    "    for topic_code, articles in dataset.items():\n",
    "        for article in articles:\n",
    "            article_sanitised = remove_stop_words_and_lemmatize(article)\n",
    "            data_sanitised[topic_code].append(article_sanitised)\n",
    "    \n",
    "    return data_sanitised\n",
    "\n",
    "\n",
    "train_data_sanitised = sanitise_each_topic(train_data)\n",
    "test_data_sanitised = sanitise_each_topic(test_data)"
   ]
  },
  {
   "cell_type": "markdown",
   "metadata": {},
   "source": [
    "Convert dictionaries to arrays."
   ]
  },
  {
   "cell_type": "code",
   "execution_count": 53,
   "metadata": {},
   "outputs": [
    {
     "name": "stdout",
     "output_type": "stream",
     "text": [
      "[0 5 3 ... 1 5 1]\n"
     ]
    }
   ],
   "source": [
    "np.random.seed(42)\n",
    "\n",
    "def convert_dictionary_to_array(dataset):\n",
    "    \"\"\"\n",
    "    Given a dataset dictionary keyed by topic code with items a list of the articles for that topic; \n",
    "    returns a tuple (x_data, y_data) where x_data is an array of all articles and y_data is the corresponding\n",
    "    topic indexes from topic_code_to_int.  The data is also shuffled.\n",
    "    \"\"\"\n",
    "    x_data = []\n",
    "    y_data = []\n",
    "    \n",
    "    for topic_code, articles in dataset.items():\n",
    "        x_data.extend(articles)\n",
    "        y_data.extend([topic_code_to_int[topic_code]] * len(articles))\n",
    "    \n",
    "    # Randomly shuffle the dataset\n",
    "    indices = np.arange(len(y_data))\n",
    "    np.random.shuffle(indices)\n",
    "    \n",
    "    x_data = np.array(x_data)\n",
    "    y_data = np.array(y_data)\n",
    "    \n",
    "    x_data = x_data[indices]\n",
    "    y_data = y_data[indices]\n",
    "    \n",
    "    return (x_data, y_data)\n",
    "\n",
    "train_x, train_y = convert_dictionary_to_array(train_data_sanitised)"
   ]
  }
 ],
 "metadata": {
  "kernelspec": {
   "display_name": "Python 3",
   "language": "python",
   "name": "python3"
  },
  "language_info": {
   "codemirror_mode": {
    "name": "ipython",
    "version": 3
   },
   "file_extension": ".py",
   "mimetype": "text/x-python",
   "name": "python",
   "nbconvert_exporter": "python",
   "pygments_lexer": "ipython3",
   "version": "3.6.8"
  }
 },
 "nbformat": 4,
 "nbformat_minor": 2
}
