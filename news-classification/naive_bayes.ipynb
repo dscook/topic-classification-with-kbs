{
 "cells": [
  {
   "cell_type": "markdown",
   "metadata": {},
   "source": [
    "# Naive Bayes\n",
    "\n",
    "## Load imports."
   ]
  },
  {
   "cell_type": "code",
   "execution_count": 8,
   "metadata": {},
   "outputs": [],
   "source": [
    "from collections import defaultdict\n",
    "import numpy as np\n",
    "from sklearn.metrics import classification_report, confusion_matrix, accuracy_score\n",
    "\n",
    "# Make common scripts visible\n",
    "import sys\n",
    "sys.path.append('../common/')\n",
    "\n",
    "from reuters_parser import load_data\n",
    "from sentence_utils import remove_stop_words_and_lemmatize\n",
    "from conversion import convert_dictionary_to_array\n",
    "from classification import run_bernoulli_naive_bayes\n",
    "from lookup_tables import topic_code_to_topic_dict, topic_code_to_int, int_to_topic_code"
   ]
  },
  {
   "cell_type": "markdown",
   "metadata": {},
   "source": [
    "## Load the train and test data."
   ]
  },
  {
   "cell_type": "markdown",
   "metadata": {},
   "source": [
    "Load the articles."
   ]
  },
  {
   "cell_type": "code",
   "execution_count": 2,
   "metadata": {},
   "outputs": [
    {
     "name": "stdout",
     "output_type": "stream",
     "text": [
      "\n",
      "------------------ Data for a Year August 96 to August 97 ------------------\n",
      "\n",
      "Number of articles for topic CRIME, LAW ENFORCEMENT: 30276\n",
      "Number of articles for topic SPORTS: 35200\n",
      "Number of articles for topic RELIGION: 2287\n",
      "Number of articles for topic ELECTIONS: 10940\n",
      "Number of articles for topic ECONOMIC PERFORMANCE: 8452\n",
      "Number of articles for topic HEALTH: 4999\n",
      "\n",
      "Total number of articles: 92154\n"
     ]
    }
   ],
   "source": [
    "def print_number_of_articles_per_topic(dataset, dataset_name):\n",
    "    # Print out the number of documents in each category\n",
    "    print('')\n",
    "    print('------------------ {} ------------------'.format(dataset_name))\n",
    "    print('')\n",
    "    total_number = 0\n",
    "    for topic_code, articles in dataset.items():\n",
    "        print('Number of articles for topic {}: {}'.format(topic_code_to_topic_dict[topic_code], len(articles)))\n",
    "        total_number += len(articles)\n",
    "    print('')\n",
    "    print('Total number of articles: {}'.format(total_number))\n",
    "\n",
    "year_data = load_data('19960820', '19970819', '../../../downloads/reuters/rcv1/', topic_code_to_topic_dict)\n",
    "#year_data = load_data('19960820', '19960830', '../../../downloads/reuters/rcv1/', topic_code_to_topic_dict)\n",
    "\n",
    "print_number_of_articles_per_topic(year_data, 'Data for a Year August 96 to August 97')"
   ]
  },
  {
   "cell_type": "markdown",
   "metadata": {},
   "source": [
    "Lemmatize and remove stopwords from each news article."
   ]
  },
  {
   "cell_type": "code",
   "execution_count": 3,
   "metadata": {},
   "outputs": [],
   "source": [
    "def sanitise_each_topic(dataset):\n",
    "    \"\"\"\n",
    "    Removes stop words and lemmatizes all articles for each topic.\n",
    "    \"\"\"\n",
    "    data_sanitised = defaultdict(list)\n",
    "    \n",
    "    for topic_code, articles in dataset.items():\n",
    "        for article in articles:\n",
    "            article_sanitised = remove_stop_words_and_lemmatize(article)\n",
    "            data_sanitised[topic_code].append(article_sanitised)\n",
    "    \n",
    "    return data_sanitised\n",
    "\n",
    "\n",
    "year_data_sanitised = sanitise_each_topic(year_data)"
   ]
  },
  {
   "cell_type": "markdown",
   "metadata": {},
   "source": [
    "Convert dictionary to array."
   ]
  },
  {
   "cell_type": "code",
   "execution_count": 4,
   "metadata": {},
   "outputs": [],
   "source": [
    "np.random.seed(42)\n",
    "\n",
    "# Split data into 80% train, 20% test\n",
    "x, y = convert_dictionary_to_array(year_data_sanitised, topic_code_to_int)\n",
    "total_examples = len(y)\n",
    "split_point = int(total_examples * 0.8)\n",
    "train_x = x[:split_point]\n",
    "train_y = y[:split_point]\n",
    "test_x = x[split_point:]\n",
    "test_y = y[split_point:]"
   ]
  },
  {
   "cell_type": "markdown",
   "metadata": {},
   "source": [
    "## Assess Bernoulli Naive Bayes baseline classification performance."
   ]
  },
  {
   "cell_type": "markdown",
   "metadata": {},
   "source": [
    "Run Bernoulli Naive Bayes and report classification accuracy."
   ]
  },
  {
   "cell_type": "code",
   "execution_count": 5,
   "metadata": {},
   "outputs": [],
   "source": [
    "predict_y = run_bernoulli_naive_bayes(train_x,\n",
    "                                      train_y,\n",
    "                                      test_x,\n",
    "                                      test_y,\n",
    "                                      ngram_range = (1, 1))"
   ]
  },
  {
   "cell_type": "code",
   "execution_count": 10,
   "metadata": {},
   "outputs": [
    {
     "name": "stdout",
     "output_type": "stream",
     "text": [
      "                        precision    recall  f1-score   support\n",
      "\n",
      "CRIME, LAW ENFORCEMENT   0.881695  0.963499  0.920784      6219\n",
      "  ECONOMIC PERFORMANCE   0.936842  0.950178  0.943463      1686\n",
      "             ELECTIONS   0.848554  0.845450  0.847000      2187\n",
      "                HEALTH   0.950237  0.796425  0.866559      1007\n",
      "              RELIGION   0.888889  0.516129  0.653061       434\n",
      "                SPORTS   0.993684  0.957959  0.975495      6898\n",
      "\n",
      "             micro avg   0.926537  0.926537  0.926537     18431\n",
      "             macro avg   0.916650  0.838273  0.867727     18431\n",
      "          weighted avg   0.928635  0.926537  0.925313     18431\n",
      "\n",
      "[[5992   24  153   20   18   12]\n",
      " [  16 1602   61    2    0    5]\n",
      " [ 251   61 1849    4    2   20]\n",
      " [ 158   19   23  802    3    2]\n",
      " [ 167    1   31    8  224    3]\n",
      " [ 212    3   62    8    5 6608]]\n",
      "\n",
      "Accuracy score of 0.9265368129781346\n"
     ]
    }
   ],
   "source": [
    "print(classification_report(test_y, predict_y, digits=6, target_names=topic_code_to_topic_dict.values()))\n",
    "print(confusion_matrix(test_y, predict_y))\n",
    "print('')\n",
    "print('Accuracy score of {}'.format(accuracy_score(test_y, predict_y)))"
   ]
  }
 ],
 "metadata": {
  "kernelspec": {
   "display_name": "Python 3",
   "language": "python",
   "name": "python3"
  },
  "language_info": {
   "codemirror_mode": {
    "name": "ipython",
    "version": 3
   },
   "file_extension": ".py",
   "mimetype": "text/x-python",
   "name": "python",
   "nbconvert_exporter": "python",
   "pygments_lexer": "ipython3",
   "version": "3.6.8"
  }
 },
 "nbformat": 4,
 "nbformat_minor": 2
}
