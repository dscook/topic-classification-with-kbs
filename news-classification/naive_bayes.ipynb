{
 "cells": [
  {
   "cell_type": "markdown",
   "metadata": {},
   "source": [
    "# Naive Bayes\n",
    "\n",
    "## Load imports."
   ]
  },
  {
   "cell_type": "code",
   "execution_count": 7,
   "metadata": {},
   "outputs": [],
   "source": [
    "from collections import defaultdict\n",
    "import numpy as np\n",
    "\n",
    "# Make common scripts visible\n",
    "import sys\n",
    "sys.path.append('../common/')\n",
    "\n",
    "from reuters_parser import load_data\n",
    "from sentence_utils import remove_stop_words_and_lemmatize\n",
    "from conversion import convert_dictionary_to_array\n",
    "from classification import run_bernoulli_naive_bayes"
   ]
  },
  {
   "cell_type": "markdown",
   "metadata": {},
   "source": [
    "## Useful lookup tables."
   ]
  },
  {
   "cell_type": "code",
   "execution_count": 2,
   "metadata": {},
   "outputs": [],
   "source": [
    "topic_code_to_topic_dict = {\n",
    "    'GCRIM': 'CRIME, LAW ENFORCEMENT',\n",
    "    'E11': 'ECONOMIC PERFORMANCE',\n",
    "    'GVOTE': 'ELECTIONS',\n",
    "    'GHEA': 'HEALTH',\n",
    "    'GREL': 'RELIGION',\n",
    "    'GSPO': 'SPORTS'\n",
    "}\n",
    "\n",
    "topic_code_to_int = {\n",
    "    'GCRIM': 0,\n",
    "    'E11': 1,\n",
    "    'GVOTE': 2,\n",
    "    'GHEA': 3,\n",
    "    'GREL': 4,\n",
    "    'GSPO': 5\n",
    "}\n",
    "\n",
    "int_to_topic_code = {\n",
    "    0: 'GCRIM',\n",
    "    1: 'E11',\n",
    "    2: 'GVOTE',\n",
    "    3: 'GHEA',\n",
    "    4: 'GREL',\n",
    "    5: 'GSPO'\n",
    "}"
   ]
  },
  {
   "cell_type": "markdown",
   "metadata": {},
   "source": [
    "## Load the train and test data."
   ]
  },
  {
   "cell_type": "markdown",
   "metadata": {},
   "source": [
    "Load the articles."
   ]
  },
  {
   "cell_type": "code",
   "execution_count": 3,
   "metadata": {},
   "outputs": [
    {
     "name": "stdout",
     "output_type": "stream",
     "text": [
      "\n",
      "------------------ Data for a Year August 96 to August 97 ------------------\n",
      "\n",
      "Number of articles for topic CRIME, LAW ENFORCEMENT: 30276\n",
      "Number of articles for topic SPORTS: 35200\n",
      "Number of articles for topic RELIGION: 2287\n",
      "Number of articles for topic ELECTIONS: 10940\n",
      "Number of articles for topic ECONOMIC PERFORMANCE: 8452\n",
      "Number of articles for topic HEALTH: 4999\n",
      "\n",
      "Total number of articles: 92154\n"
     ]
    }
   ],
   "source": [
    "def print_number_of_articles_per_topic(dataset, dataset_name):\n",
    "    # Print out the number of documents in each category\n",
    "    print('')\n",
    "    print('------------------ {} ------------------'.format(dataset_name))\n",
    "    print('')\n",
    "    total_number = 0\n",
    "    for topic_code, articles in dataset.items():\n",
    "        print('Number of articles for topic {}: {}'.format(topic_code_to_topic_dict[topic_code], len(articles)))\n",
    "        total_number += len(articles)\n",
    "    print('')\n",
    "    print('Total number of articles: {}'.format(total_number))\n",
    "\n",
    "year_data = load_data('19960820', '19970819', '../../../downloads/reuters/rcv1/', topic_code_to_topic_dict)\n",
    "#year_data = load_data('19960820', '19960830', '../../../downloads/reuters/rcv1/', topic_code_to_topic_dict)\n",
    "\n",
    "print_number_of_articles_per_topic(year_data, 'Data for a Year August 96 to August 97')"
   ]
  },
  {
   "cell_type": "markdown",
   "metadata": {},
   "source": [
    "Lemmatize and remove stopwords from each news article."
   ]
  },
  {
   "cell_type": "code",
   "execution_count": 4,
   "metadata": {},
   "outputs": [],
   "source": [
    "def sanitise_each_topic(dataset):\n",
    "    \"\"\"\n",
    "    Removes stop words and lemmatizes all articles for each topic.\n",
    "    \"\"\"\n",
    "    data_sanitised = defaultdict(list)\n",
    "    \n",
    "    for topic_code, articles in dataset.items():\n",
    "        for article in articles:\n",
    "            article_sanitised = remove_stop_words_and_lemmatize(article)\n",
    "            data_sanitised[topic_code].append(article_sanitised)\n",
    "    \n",
    "    return data_sanitised\n",
    "\n",
    "\n",
    "year_data_sanitised = sanitise_each_topic(year_data)"
   ]
  },
  {
   "cell_type": "markdown",
   "metadata": {},
   "source": [
    "Convert dictionary to array."
   ]
  },
  {
   "cell_type": "code",
   "execution_count": 5,
   "metadata": {},
   "outputs": [],
   "source": [
    "np.random.seed(42)\n",
    "\n",
    "# Split data into 80% train, 20% test\n",
    "x, y = convert_dictionary_to_array(year_data_sanitised, topic_code_to_int)\n",
    "total_examples = len(y)\n",
    "split_point = int(total_examples * 0.8)\n",
    "train_x = x[:split_point]\n",
    "train_y = y[:split_point]\n",
    "test_x = x[split_point:]\n",
    "test_y = y[split_point:]"
   ]
  },
  {
   "cell_type": "markdown",
   "metadata": {},
   "source": [
    "## Assess Bernoulli Naive Bayes baseline classification performance."
   ]
  },
  {
   "cell_type": "markdown",
   "metadata": {},
   "source": [
    "Run Bernoulli Naive Bayes and report classification accuracy."
   ]
  },
  {
   "cell_type": "code",
   "execution_count": 8,
   "metadata": {},
   "outputs": [
    {
     "name": "stdout",
     "output_type": "stream",
     "text": [
      "                        precision    recall  f1-score   support\n",
      "\n",
      "CRIME, LAW ENFORCEMENT   0.882214  0.963499  0.921067      6219\n",
      "  ECONOMIC PERFORMANCE   0.936295  0.950178  0.943185      1686\n",
      "             ELECTIONS   0.850554  0.843164  0.846843      2187\n",
      "                HEALTH   0.943728  0.799404  0.865591      1007\n",
      "              RELIGION   0.864865  0.516129  0.646465       434\n",
      "                SPORTS   0.992479  0.956509  0.974162      6898\n",
      "\n",
      "             micro avg   0.925886  0.925886  0.925886     18431\n",
      "             macro avg   0.911689  0.838147  0.866219     18431\n",
      "          weighted avg   0.927625  0.925886  0.924657     18431\n",
      "\n"
     ]
    }
   ],
   "source": [
    "report = run_bernoulli_naive_bayes(train_x,\n",
    "                                   train_y,\n",
    "                                   test_x,\n",
    "                                   test_y, \n",
    "                                   topic_code_to_topic_dict.values(),\n",
    "                                   ngram_range = (1, 1))\n",
    "print(report)"
   ]
  }
 ],
 "metadata": {
  "kernelspec": {
   "display_name": "Python 3",
   "language": "python",
   "name": "python3"
  },
  "language_info": {
   "codemirror_mode": {
    "name": "ipython",
    "version": 3
   },
   "file_extension": ".py",
   "mimetype": "text/x-python",
   "name": "python",
   "nbconvert_exporter": "python",
   "pygments_lexer": "ipython3",
   "version": "3.6.8"
  }
 },
 "nbformat": 4,
 "nbformat_minor": 2
}
