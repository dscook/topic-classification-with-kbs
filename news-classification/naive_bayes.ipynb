{
 "cells": [
  {
   "cell_type": "markdown",
   "metadata": {},
   "source": [
    "# Naive Bayes\n",
    "\n",
    "## Load imports."
   ]
  },
  {
   "cell_type": "code",
   "execution_count": 1,
   "metadata": {},
   "outputs": [],
   "source": [
    "from sklearn.metrics import classification_report, confusion_matrix\n",
    "\n",
    "# Make common scripts visible\n",
    "import sys\n",
    "sys.path.append('../common/')\n",
    "\n",
    "from loader import load_preprocessed_data\n",
    "from classification import run_bernoulli_naive_bayes\n",
    "from lookup_tables import topic_code_to_topic_dict"
   ]
  },
  {
   "cell_type": "markdown",
   "metadata": {},
   "source": [
    "## Load the train and test data."
   ]
  },
  {
   "cell_type": "markdown",
   "metadata": {},
   "source": [
    "Use already lemmatized data."
   ]
  },
  {
   "cell_type": "code",
   "execution_count": 2,
   "metadata": {},
   "outputs": [],
   "source": [
    "x, y = load_preprocessed_data('data/rcv1_lemmatized.csv')\n",
    "\n",
    "# Split data into 80% train, 20% test\n",
    "total_examples = len(y)\n",
    "split_point = int(total_examples * 0.8)\n",
    "train_x = x[:split_point]\n",
    "train_y = y[:split_point]\n",
    "test_x = x[split_point:]\n",
    "test_y = y[split_point:]"
   ]
  },
  {
   "cell_type": "markdown",
   "metadata": {},
   "source": [
    "## Assess Bernoulli Naive Bayes baseline classification performance."
   ]
  },
  {
   "cell_type": "markdown",
   "metadata": {},
   "source": [
    "Run Bernoulli Naive Bayes and report classification accuracy."
   ]
  },
  {
   "cell_type": "code",
   "execution_count": 3,
   "metadata": {},
   "outputs": [],
   "source": [
    "predict_y = run_bernoulli_naive_bayes(train_x,\n",
    "                                      train_y,\n",
    "                                      test_x,\n",
    "                                      test_y,\n",
    "                                      ngram_range = (1, 1))"
   ]
  },
  {
   "cell_type": "code",
   "execution_count": 4,
   "metadata": {},
   "outputs": [
    {
     "name": "stdout",
     "output_type": "stream",
     "text": [
      "                        precision    recall  f1-score   support\n",
      "\n",
      "CRIME, LAW ENFORCEMENT   0.886601  0.955770  0.919887      6127\n",
      "  ECONOMIC PERFORMANCE   0.922444  0.951515  0.936754      1650\n",
      "             ELECTIONS   0.842251  0.859699  0.850885      2124\n",
      "                HEALTH   0.936636  0.820383  0.874664       991\n",
      "              RELIGION   0.884000  0.522459  0.656761       423\n",
      "                SPORTS   0.992131  0.951324  0.971299      6759\n",
      "\n",
      "             micro avg   0.924864  0.924864  0.924864     18074\n",
      "             macro avg   0.910677  0.843525  0.868375     18074\n",
      "          weighted avg   0.926808  0.924864  0.923906     18074\n",
      "\n",
      "[[5856   40  168   28   12   23]\n",
      " [  20 1570   55    2    0    3]\n",
      " [ 215   65 1826    4    1   13]\n",
      " [ 137   20   14  813    2    5]\n",
      " [ 156    1   30    8  221    7]\n",
      " [ 221    6   75   13   14 6430]]\n"
     ]
    }
   ],
   "source": [
    "print(classification_report(test_y, predict_y, digits=6, target_names=topic_code_to_topic_dict.values()))\n",
    "print(confusion_matrix(test_y, predict_y))"
   ]
  }
 ],
 "metadata": {
  "kernelspec": {
   "display_name": "Python 3",
   "language": "python",
   "name": "python3"
  },
  "language_info": {
   "codemirror_mode": {
    "name": "ipython",
    "version": 3
   },
   "file_extension": ".py",
   "mimetype": "text/x-python",
   "name": "python",
   "nbconvert_exporter": "python",
   "pygments_lexer": "ipython3",
   "version": "3.6.8"
  }
 },
 "nbformat": 4,
 "nbformat_minor": 2
}
