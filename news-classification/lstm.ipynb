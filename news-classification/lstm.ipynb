{
 "cells": [
  {
   "cell_type": "markdown",
   "metadata": {},
   "source": [
    "# LSTM\n",
    "\n",
    "## Load imports."
   ]
  },
  {
   "cell_type": "code",
   "execution_count": 1,
   "metadata": {},
   "outputs": [
    {
     "name": "stderr",
     "output_type": "stream",
     "text": [
      "Using TensorFlow backend.\n"
     ]
    }
   ],
   "source": [
    "# Make common scripts visible\n",
    "import sys\n",
    "sys.path.append('../common/')\n",
    "\n",
    "from gensim.models import KeyedVectors\n",
    "import numpy as np\n",
    "\n",
    "from loader import load_preprocessed_data\n",
    "from word_embeddings import DocToIntSequenceConverter\n",
    "from lstm import LstmPredictor\n",
    "from lookup_tables import int_to_topic_code, topic_code_to_topic_dict, topic_code_to_int\n",
    "from sklearn.metrics import classification_report"
   ]
  },
  {
   "cell_type": "markdown",
   "metadata": {},
   "source": [
    "## Load the data"
   ]
  },
  {
   "cell_type": "code",
   "execution_count": 2,
   "metadata": {},
   "outputs": [
    {
     "name": "stdout",
     "output_type": "stream",
     "text": [
      "Number of training examples: 1568\n"
     ]
    }
   ],
   "source": [
    "x, y = load_preprocessed_data('data/rcv1_no_stopwords_reduced.csv')\n",
    "x = np.array(x)\n",
    "y = np.array(y)\n",
    "\n",
    "# Split data into 60% train, 20% validation, 20% test\n",
    "total_examples = len(y)\n",
    "\n",
    "split_point_1 = int(total_examples * 0.6)\n",
    "split_point_2 = int(total_examples * 0.8)\n",
    "\n",
    "train_x = x[:split_point_1]\n",
    "train_y = y[:split_point_1]\n",
    "\n",
    "val_x = x[split_point_1:split_point_2]\n",
    "val_y = y[split_point_1:split_point_2]\n",
    "\n",
    "test_x = x[split_point_2:]\n",
    "test_y = y[split_point_2:]\n",
    "\n",
    "print('Number of training examples: {}'.format(len(train_x)))"
   ]
  },
  {
   "cell_type": "markdown",
   "metadata": {},
   "source": [
    "## Pre-process the data"
   ]
  },
  {
   "cell_type": "code",
   "execution_count": 3,
   "metadata": {},
   "outputs": [
    {
     "name": "stdout",
     "output_type": "stream",
     "text": [
      "Minimum length of article in words: 7\n",
      "Maximum length of article in words: 519\n",
      "Mean length of article in words: 112.1582\n",
      "St dev of length of article in words: 72.5444\n",
      "Percentage of articles exceeding max sequence length limit: 0.3827%\n"
     ]
    }
   ],
   "source": [
    "# Find the length of a tweet in words\n",
    "article_lengths = np.array([len(article.split()) for article in train_x])\n",
    "\n",
    "print('Minimum length of article in words: {}'.format(np.min(article_lengths)))\n",
    "print('Maximum length of article in words: {}'.format(np.max(article_lengths)))\n",
    "print('Mean length of article in words: {:.4f}'.format(np.mean(article_lengths)))\n",
    "print('St dev of length of article in words: {:.4f}'.format(np.std(article_lengths)))\n",
    "\n",
    "# Set the max sequence length to mean plus 3 standard deviations (99.7% confidence)\n",
    "max_sequence_length = int(np.mean(article_lengths) + np.std(article_lengths)*3)\n",
    "\n",
    "# Confirm not many tweets exceed this limit\n",
    "articles_exceeding_limit = [article for article in train_x if len(article.split()) > max_sequence_length]\n",
    "percentage_articles_exceeding_limit = (len(articles_exceeding_limit)/len(train_x))*100\n",
    "print('Percentage of articles exceeding max sequence length limit: {:.4f}%'.format(percentage_articles_exceeding_limit))"
   ]
  },
  {
   "cell_type": "code",
   "execution_count": 4,
   "metadata": {},
   "outputs": [],
   "source": [
    "# Convert articles to sequence of integers representing the words\n",
    "article_to_int_seq_converter = DocToIntSequenceConverter(x, max_sequence_length)\n",
    "train_x_seq = article_to_int_seq_converter.convert_to_integer_sequences(train_x)\n",
    "val_x_seq = article_to_int_seq_converter.convert_to_integer_sequences(val_x)\n",
    "test_x_seq = article_to_int_seq_converter.convert_to_integer_sequences(test_x)"
   ]
  },
  {
   "cell_type": "markdown",
   "metadata": {},
   "source": [
    "## Create the LSTM and train it."
   ]
  },
  {
   "cell_type": "code",
   "execution_count": 5,
   "metadata": {},
   "outputs": [],
   "source": [
    "word_embedding_dim = 300\n",
    "word2vec_model = KeyedVectors.load_word2vec_format('../tweet-classification/embeddings/GoogleNews-vectors-negative300.bin.gz', binary=True)"
   ]
  },
  {
   "cell_type": "code",
   "execution_count": 6,
   "metadata": {},
   "outputs": [
    {
     "name": "stdout",
     "output_type": "stream",
     "text": [
      "Train on 1568 samples, validate on 523 samples\n",
      "Epoch 1/100\n",
      "1568/1568 [==============================] - 52s 33ms/step - loss: 1.2119 - acc: 0.6142 - val_loss: 0.7271 - val_acc: 0.8069\n",
      "Epoch 2/100\n",
      "1568/1568 [==============================] - 48s 31ms/step - loss: 0.5186 - acc: 0.8495 - val_loss: 0.5613 - val_acc: 0.8394\n",
      "Epoch 3/100\n",
      "1568/1568 [==============================] - 48s 31ms/step - loss: 0.3553 - acc: 0.8954 - val_loss: 0.3479 - val_acc: 0.8757\n",
      "Epoch 4/100\n",
      "1568/1568 [==============================] - 48s 31ms/step - loss: 0.3414 - acc: 0.9037 - val_loss: 0.3704 - val_acc: 0.8834\n",
      "Epoch 5/100\n",
      "1568/1568 [==============================] - 48s 31ms/step - loss: 0.3815 - acc: 0.8929 - val_loss: 0.4155 - val_acc: 0.8700\n",
      "Epoch 6/100\n",
      "1568/1568 [==============================] - 48s 31ms/step - loss: 0.3134 - acc: 0.9075 - val_loss: 0.3289 - val_acc: 0.9063\n",
      "Epoch 7/100\n",
      "1568/1568 [==============================] - 48s 31ms/step - loss: 0.2010 - acc: 0.9483 - val_loss: 0.2932 - val_acc: 0.9082\n",
      "Epoch 8/100\n",
      "1568/1568 [==============================] - 48s 31ms/step - loss: 0.2190 - acc: 0.9420 - val_loss: 0.2847 - val_acc: 0.9216\n",
      "Epoch 9/100\n",
      "1568/1568 [==============================] - 48s 31ms/step - loss: 0.1804 - acc: 0.9522 - val_loss: 0.2255 - val_acc: 0.9273\n",
      "Epoch 10/100\n",
      "1568/1568 [==============================] - 48s 31ms/step - loss: 0.1556 - acc: 0.9598 - val_loss: 0.2187 - val_acc: 0.9331\n",
      "Epoch 11/100\n",
      "1568/1568 [==============================] - 48s 31ms/step - loss: 0.1975 - acc: 0.9369 - val_loss: 0.1875 - val_acc: 0.9407\n",
      "Epoch 12/100\n",
      "1568/1568 [==============================] - 48s 31ms/step - loss: 0.1255 - acc: 0.9713 - val_loss: 0.1802 - val_acc: 0.9484\n",
      "Epoch 13/100\n",
      "1568/1568 [==============================] - 48s 31ms/step - loss: 0.1034 - acc: 0.9790 - val_loss: 0.2257 - val_acc: 0.9446\n",
      "Epoch 14/100\n",
      "1568/1568 [==============================] - 48s 30ms/step - loss: 0.0894 - acc: 0.9821 - val_loss: 0.2357 - val_acc: 0.9446\n",
      "Epoch 15/100\n",
      "1568/1568 [==============================] - 48s 31ms/step - loss: 0.1558 - acc: 0.9534 - val_loss: 0.3123 - val_acc: 0.9044\n",
      "Epoch 16/100\n",
      "1568/1568 [==============================] - 48s 31ms/step - loss: 0.2608 - acc: 0.9082 - val_loss: 0.2612 - val_acc: 0.9216\n",
      "Epoch 17/100\n",
      "1568/1568 [==============================] - 48s 31ms/step - loss: 0.1408 - acc: 0.9573 - val_loss: 0.2625 - val_acc: 0.9254\n",
      "Epoch 18/100\n",
      "1568/1568 [==============================] - 48s 31ms/step - loss: 0.1981 - acc: 0.9420 - val_loss: 0.3842 - val_acc: 0.8757\n",
      "Epoch 19/100\n",
      "1568/1568 [==============================] - 49s 31ms/step - loss: 0.1686 - acc: 0.9490 - val_loss: 0.3106 - val_acc: 0.9159\n",
      "Epoch 20/100\n",
      "1568/1568 [==============================] - 49s 31ms/step - loss: 0.1282 - acc: 0.9624 - val_loss: 0.2514 - val_acc: 0.9369\n",
      "Epoch 21/100\n",
      "1568/1568 [==============================] - 48s 31ms/step - loss: 0.2856 - acc: 0.9088 - val_loss: 0.5908 - val_acc: 0.7859\n",
      "Epoch 22/100\n",
      "1568/1568 [==============================] - 48s 31ms/step - loss: 0.2279 - acc: 0.9279 - val_loss: 0.3632 - val_acc: 0.9120\n"
     ]
    }
   ],
   "source": [
    "lstm = LstmPredictor(article_to_int_seq_converter.get_word_index(),\n",
    "                     word_embedding_dim,\n",
    "                     max_sequence_length,\n",
    "                     word2vec_model,\n",
    "                     len(int_to_topic_code.values()))\n",
    "lstm.train(train_x_seq, train_y, val_x_seq, val_y)"
   ]
  },
  {
   "cell_type": "markdown",
   "metadata": {},
   "source": [
    "## Make predictions and report classification accuracy."
   ]
  },
  {
   "cell_type": "code",
   "execution_count": 7,
   "metadata": {},
   "outputs": [
    {
     "name": "stdout",
     "output_type": "stream",
     "text": [
      "                        precision    recall  f1-score   support\n",
      "\n",
      "CRIME, LAW ENFORCEMENT   0.978495  0.952880  0.965517       191\n",
      "  ECONOMIC PERFORMANCE   0.966102  0.982759  0.974359        58\n",
      "             ELECTIONS   0.881356  0.945455  0.912281        55\n",
      "                HEALTH   0.861111  0.861111  0.861111        36\n",
      "              RELIGION   0.615385  0.727273  0.666667        11\n",
      "                SPORTS   1.000000  0.988372  0.994152       172\n",
      "\n",
      "             micro avg   0.956023  0.956023  0.956023       523\n",
      "             macro avg   0.883741  0.909641  0.895681       523\n",
      "          weighted avg   0.958260  0.956023  0.956844       523\n",
      "\n"
     ]
    }
   ],
   "source": [
    "# Re-initialise the LSTM, will use weights from the previous training run.\n",
    "lstm = LstmPredictor(article_to_int_seq_converter.get_word_index(),\n",
    "                     word_embedding_dim,\n",
    "                     max_sequence_length,\n",
    "                     word2vec_model,\n",
    "                     len(int_to_topic_code.values()),\n",
    "                     use_saved_weights=True)\n",
    "test_y_predict = lstm.predict(test_x_seq)\n",
    "print(classification_report(test_y, test_y_predict, digits=6, target_names=topic_code_to_topic_dict.values()))"
   ]
  },
  {
   "cell_type": "markdown",
   "metadata": {},
   "source": [
    "## Find examples where predictions went wrong"
   ]
  },
  {
   "cell_type": "code",
   "execution_count": 8,
   "metadata": {},
   "outputs": [
    {
     "name": "stdout",
     "output_type": "stream",
     "text": [
      "------ 5 random erroneous predictions for CRIME, LAW ENFORCEMENT ------\n",
      "\n",
      "Sir_Colin_Hope chairman asbestos-haunted components group N_Plc company possible insurance tools asbestos-linked health liabilities free shareholder value breakthrough imminent Recent press speculation N complex policy liabilities Hope firm interim results news conference premature true imminence press reports misleading breath terms speed solution way speculation new Hope reporters N years anything insurance issues Part way insurance risk rogue cases sort ring-fencing uncertain areas impossible sort economically-affordable premium industry position insurance industry asbestos years Hope data available ability future liabilities asbestos outlook insurance options Reviews situation amenable firm shareholders weight potential asbestos liabilities board objective way shareholder value N shares result sheer uncertainty N results pretax profits stg back well-signalled weaknesses company shares 134-1/2p midday Andrew_Huddart London_Newsroom\n",
      "\n",
      "Above classified as HEALTH\n",
      "\n",
      "South African parliamentarians strict apartheid-era censorship laws bans child pornography hate speech opposition National_Party NP responsible original laws political opponents publication bare breasts favour new Film Publications_Bill right-wing Freedom_Front FF pornographers charter rape liberal Democratic_Party DP prohibition publications films religions DP member Dene_Smuts clause freedom speech race politics South_Africa speech provisions vulnerable exploitation strong weak self-censorship inhibition debate legislation child pornography depictions bestiality sexual violence soft porn adults FF legislator Willem_Botha fellow members parliament availability form pornography wives daughters safe use pornography disease alcoholism gambling Magazines Playboy Penthouse Hustler previous apartheid regime available constitution guarantee freedom expression new bill senate law children material\n",
      "\n",
      "Above classified as RELIGION\n",
      "\n",
      "South African parliamentarians strict apartheid-era censorship laws bans child pornography hate speech opposition National_Party NP responsible original laws political opponents publication bare breasts favour new Film Publications_Bill right-wing Freedom_Front FF pornographers charter rape liberal Democratic_Party DP prohibition publications films religions DP member Dene_Smuts clause freedom speech race politics South_Africa speech provisions vulnerable exploitation strong weak self-censorship inhibition debate legislation child pornography depictions bestiality sexual violence soft porn adults FF legislator Willem_Botha fellow members parliament availability form pornography wives daughters safe use pornography disease alcoholism gambling Magazines Playboy Penthouse Hustler previous apartheid regime available constitution guarantee freedom expression new bill senate law children material\n",
      "\n",
      "Above classified as RELIGION\n",
      "\n",
      "Sir_Colin_Hope chairman asbestos-haunted components group N_Plc company possible insurance tools asbestos-linked health liabilities free shareholder value breakthrough imminent Recent press speculation N complex policy liabilities Hope firm interim results news conference premature true imminence press reports misleading breath terms speed solution way speculation new Hope reporters N years anything insurance issues Part way insurance risk rogue cases sort ring-fencing uncertain areas impossible sort economically-affordable premium industry position insurance industry asbestos years Hope data available ability future liabilities asbestos outlook insurance options Reviews situation amenable firm shareholders weight potential asbestos liabilities board objective way shareholder value N shares result sheer uncertainty N results pretax profits stg back well-signalled weaknesses company shares 134-1/2p midday Andrew_Huddart London_Newsroom\n",
      "\n",
      "Above classified as HEALTH\n",
      "\n",
      "Sir_Colin_Hope chairman asbestos-haunted components group N_Plc company possible insurance tools asbestos-linked health liabilities free shareholder value breakthrough imminent Recent press speculation N complex policy liabilities Hope firm interim results news conference premature true imminence press reports misleading breath terms speed solution way speculation new Hope reporters N years anything insurance issues Part way insurance risk rogue cases sort ring-fencing uncertain areas impossible sort economically-affordable premium industry position insurance industry asbestos years Hope data available ability future liabilities asbestos outlook insurance options Reviews situation amenable firm shareholders weight potential asbestos liabilities board objective way shareholder value N shares result sheer uncertainty N results pretax profits stg back well-signalled weaknesses company shares 134-1/2p midday Andrew_Huddart London_Newsroom\n",
      "\n",
      "Above classified as HEALTH\n",
      "\n",
      "\n",
      "------ 5 random erroneous predictions for ECONOMIC PERFORMANCE ------\n",
      "\n",
      "Money_Magazine ABC_News consumer comfort index unchanged week Americans faith finances economy report index survey time respondents polls consumers nationwide national economy finances willingness money poll margin error plus minus percent Thirty-nine percent respondents economy poll economic index points Fifty-eight percent finances percent good time separate question percent likely voters Presidential candidate Bob_Dole percent tax cut proposal likely Thirty-six percent likely Dole percent proposal voting plans separate question error margin plus minus percent report N.A\n",
      "\n",
      "Above classified as ELECTIONS\n",
      "\n",
      "Money_Magazine ABC_News consumer comfort index unchanged week Americans faith finances economy report index survey time respondents polls consumers nationwide national economy finances willingness money poll margin error plus minus percent Thirty-nine percent respondents economy poll economic index points Fifty-eight percent finances percent good time separate question percent likely voters Presidential candidate Bob_Dole percent tax cut proposal likely Thirty-six percent likely Dole percent proposal voting plans separate question error margin plus minus percent report N.A\n",
      "\n",
      "Above classified as ELECTIONS\n",
      "\n",
      "Money_Magazine ABC_News consumer comfort index unchanged week Americans faith finances economy report index survey time respondents polls consumers nationwide national economy finances willingness money poll margin error plus minus percent Thirty-nine percent respondents economy poll economic index points Fifty-eight percent finances percent good time separate question percent likely voters Presidential candidate Bob_Dole percent tax cut proposal likely Thirty-six percent likely Dole percent proposal voting plans separate question error margin plus minus percent report N.A\n",
      "\n",
      "Above classified as ELECTIONS\n",
      "\n",
      "Money_Magazine ABC_News consumer comfort index unchanged week Americans faith finances economy report index survey time respondents polls consumers nationwide national economy finances willingness money poll margin error plus minus percent Thirty-nine percent respondents economy poll economic index points Fifty-eight percent finances percent good time separate question percent likely voters Presidential candidate Bob_Dole percent tax cut proposal likely Thirty-six percent likely Dole percent proposal voting plans separate question error margin plus minus percent report N.A\n",
      "\n",
      "Above classified as ELECTIONS\n",
      "\n",
      "Money_Magazine ABC_News consumer comfort index unchanged week Americans faith finances economy report index survey time respondents polls consumers nationwide national economy finances willingness money poll margin error plus minus percent Thirty-nine percent respondents economy poll economic index points Fifty-eight percent finances percent good time separate question percent likely voters Presidential candidate Bob_Dole percent tax cut proposal likely Thirty-six percent likely Dole percent proposal voting plans separate question error margin plus minus percent report N.A\n",
      "\n",
      "Above classified as ELECTIONS\n",
      "\n",
      "\n",
      "------ 5 random erroneous predictions for ELECTIONS ------\n",
      "\n",
      "Mixed economic data touch political pressure recipe steady monetary policy U.S. presidential election pundits former Federal_Reserve officials Members Federal_Open_Market_Committee careful key data employment report vicissitudes political race White_House member FOMC careful Preston_Martin former Fed vice chairman odds action action action Martin chairman HomeVest_Financial_Services_Inc San_Francisco Fed short-term rates steady year fifth meeting policy-setting arm central bank target federal funds rate percent discount rate unchanged percent Analysts string economic indicators blurry economic outlook clear signs inflation Federal_Reserve pat picture await clarification economy Lyle_Gramley former Fed governor economist Mortgage_Bankers_Association America Fed year year Fed sure Gramley Gramley U.S. economy strong tightening necessary road Martin Fed likely hold election current economic scene central banker nirvana Martin positive inflation outlook main reasons Fed hold next months Recent economic indicators consumer spending labor market signs manufacturing sector scant evidence incipient inflation growth signals Fed interest rates election year solid economic justification Sung_Won_Sohn chief economist Norwest_Corp. justifications Pundits current legislative efforts Fed official mandate FOMC members careful decision monetary policy month Sen._Robert_Bennett R-Utah adviser Republican presidential candidate Bob_Dole law Fed dual mandate inflation maximum employment Bennett Sen._Connie_Mack R-Fla bill inflation U.S. central bank mandate legislation objectives Fed informal discussion role Federal_Reserve_Bank presidents Senate Martin FOMC members careful appearance overzealousness hand disregard inflation Martin event interest rate hike analysts Clinton campaign Republican challenger Bob_Dole hard Clinton administration possible Fed action months president Alan_Greenspan Fed chairman fresh four-year mandate Mr._Greenspan rates Mr._Clinton Administration awkward position Sohn analysts relationship White_House Treasury Fed amicable weekly breakfasts matches Fed Treasury frequent contact Fed White_House Treasury officials Martin tennis guys Fed tennis court mere fact presidential race Fed monetary policy past Fed rates analysts Recent history Fed rates presidential campaigns analysts\n",
      "\n",
      "Above classified as ECONOMIC PERFORMANCE\n",
      "\n",
      "decision Federal_Reserve Federal_Open_Market_Committee interest rates unchanged economists analysts central bank analysts Fed policy-makers pressures short-term rates economic data coming weeks rates year analysts former Federal_Reserve officials mixed economic data touch political pressure recipe steady monetary policy presidential election Members Federal_Open_Market_Committee careful data employment report due Sept. vicissitudes political race White_House member FOMC careful Preston_Martin former Fed vice chairman chairman HomeVest_Financial_Services_Inc. San_Francisco odds action action action Fed target federal funds rate rate banks overnight loans percent recent economic indicators consumer spending labour market signs manufacturing sector growth signals Fed interest rates election year solid economic justification Sung_Won_Sohn chief economist Norwest_Corp. justifications decision analysts string economic indicators blurry economic outlook Fed pat picture await clarification economy Lyle_Gramley former Fed governor economist Mortgage_Bankers_Association America Fed year year Fed sure Gramley Gramley U.S. economy strong tightening necessary road Martin Fed likely hold election current economic scene central banker nirvana Martin positive inflation outlook main reasons Fed hold next months everyone scenario guess rate rise right tap data Salomon_Brothers economist Brian_Jones good chance FOMC meeting signs strong economic growth inflation low Fed leaders rates absence troubling data upcoming employment data analysts Persistent job growth economy recent low-inflation trend Fed Critics Fed rates July_FOMC meeting report days new jobs month report decline new non-farm payrolls important slight drop average hourly earnings Fed officials slowdown real gross domestic product robust percent second-quarter clip dip payroll growth forecast look brilliant analysts Fed right thing powder dry Schlossberg risk Fed curve economic slowdown\n",
      "\n",
      "Above classified as ECONOMIC PERFORMANCE\n",
      "\n",
      "Mixed economic data touch political pressure recipe steady monetary policy U.S. presidential election pundits former Federal_Reserve officials Members Federal_Open_Market_Committee careful key data employment report vicissitudes political race White_House member FOMC careful Preston_Martin former Fed vice chairman odds action action action Martin chairman HomeVest_Financial_Services_Inc San_Francisco Fed short-term rates steady year fifth meeting policy-setting arm central bank target federal funds rate percent discount rate unchanged percent Analysts string economic indicators blurry economic outlook clear signs inflation Federal_Reserve pat picture await clarification economy Lyle_Gramley former Fed governor economist Mortgage_Bankers_Association America Fed year year Fed sure Gramley Gramley U.S. economy strong tightening necessary road Martin Fed likely hold election current economic scene central banker nirvana Martin positive inflation outlook main reasons Fed hold next months Recent economic indicators consumer spending labor market signs manufacturing sector scant evidence incipient inflation growth signals Fed interest rates election year solid economic justification Sung_Won_Sohn chief economist Norwest_Corp. justifications Pundits current legislative efforts Fed official mandate FOMC members careful decision monetary policy month Sen._Robert_Bennett R-Utah adviser Republican presidential candidate Bob_Dole law Fed dual mandate inflation maximum employment Bennett Sen._Connie_Mack R-Fla bill inflation U.S. central bank mandate legislation objectives Fed informal discussion role Federal_Reserve_Bank presidents Senate Martin FOMC members careful appearance overzealousness hand disregard inflation Martin event interest rate hike analysts Clinton campaign Republican challenger Bob_Dole hard Clinton administration possible Fed action months president Alan_Greenspan Fed chairman fresh four-year mandate Mr._Greenspan rates Mr._Clinton Administration awkward position Sohn analysts relationship White_House Treasury Fed amicable weekly breakfasts matches Fed Treasury frequent contact Fed White_House Treasury officials Martin tennis guys Fed tennis court mere fact presidential race Fed monetary policy past Fed rates analysts Recent history Fed rates presidential campaigns analysts\n",
      "\n",
      "Above classified as ECONOMIC PERFORMANCE\n",
      "\n",
      "Mixed economic data touch political pressure recipe steady monetary policy U.S. presidential election pundits former Federal_Reserve officials Members Federal_Open_Market_Committee careful key data employment report vicissitudes political race White_House member FOMC careful Preston_Martin former Fed vice chairman odds action action action Martin chairman HomeVest_Financial_Services_Inc San_Francisco Fed short-term rates steady year fifth meeting policy-setting arm central bank target federal funds rate percent discount rate unchanged percent Analysts string economic indicators blurry economic outlook clear signs inflation Federal_Reserve pat picture await clarification economy Lyle_Gramley former Fed governor economist Mortgage_Bankers_Association America Fed year year Fed sure Gramley Gramley U.S. economy strong tightening necessary road Martin Fed likely hold election current economic scene central banker nirvana Martin positive inflation outlook main reasons Fed hold next months Recent economic indicators consumer spending labor market signs manufacturing sector scant evidence incipient inflation growth signals Fed interest rates election year solid economic justification Sung_Won_Sohn chief economist Norwest_Corp. justifications Pundits current legislative efforts Fed official mandate FOMC members careful decision monetary policy month Sen._Robert_Bennett R-Utah adviser Republican presidential candidate Bob_Dole law Fed dual mandate inflation maximum employment Bennett Sen._Connie_Mack R-Fla bill inflation U.S. central bank mandate legislation objectives Fed informal discussion role Federal_Reserve_Bank presidents Senate Martin FOMC members careful appearance overzealousness hand disregard inflation Martin event interest rate hike analysts Clinton campaign Republican challenger Bob_Dole hard Clinton administration possible Fed action months president Alan_Greenspan Fed chairman fresh four-year mandate Mr._Greenspan rates Mr._Clinton Administration awkward position Sohn analysts relationship White_House Treasury Fed amicable weekly breakfasts matches Fed Treasury frequent contact Fed White_House Treasury officials Martin tennis guys Fed tennis court mere fact presidential race Fed monetary policy past Fed rates analysts Recent history Fed rates presidential campaigns analysts\n",
      "\n",
      "Above classified as ECONOMIC PERFORMANCE\n",
      "\n",
      "Mixed economic data touch political pressure recipe steady monetary policy U.S. presidential election pundits former Federal_Reserve officials Members Federal_Open_Market_Committee careful key data employment report vicissitudes political race White_House member FOMC careful Preston_Martin former Fed vice chairman odds action action action Martin chairman HomeVest_Financial_Services_Inc San_Francisco Fed short-term rates steady year fifth meeting policy-setting arm central bank target federal funds rate percent discount rate unchanged percent Analysts string economic indicators blurry economic outlook clear signs inflation Federal_Reserve pat picture await clarification economy Lyle_Gramley former Fed governor economist Mortgage_Bankers_Association America Fed year year Fed sure Gramley Gramley U.S. economy strong tightening necessary road Martin Fed likely hold election current economic scene central banker nirvana Martin positive inflation outlook main reasons Fed hold next months Recent economic indicators consumer spending labor market signs manufacturing sector scant evidence incipient inflation growth signals Fed interest rates election year solid economic justification Sung_Won_Sohn chief economist Norwest_Corp. justifications Pundits current legislative efforts Fed official mandate FOMC members careful decision monetary policy month Sen._Robert_Bennett R-Utah adviser Republican presidential candidate Bob_Dole law Fed dual mandate inflation maximum employment Bennett Sen._Connie_Mack R-Fla bill inflation U.S. central bank mandate legislation objectives Fed informal discussion role Federal_Reserve_Bank presidents Senate Martin FOMC members careful appearance overzealousness hand disregard inflation Martin event interest rate hike analysts Clinton campaign Republican challenger Bob_Dole hard Clinton administration possible Fed action months president Alan_Greenspan Fed chairman fresh four-year mandate Mr._Greenspan rates Mr._Clinton Administration awkward position Sohn analysts relationship White_House Treasury Fed amicable weekly breakfasts matches Fed Treasury frequent contact Fed White_House Treasury officials Martin tennis guys Fed tennis court mere fact presidential race Fed monetary policy past Fed rates analysts Recent history Fed rates presidential campaigns analysts\n",
      "\n",
      "Above classified as ECONOMIC PERFORMANCE\n",
      "\n",
      "\n",
      "------ 5 random erroneous predictions for HEALTH ------\n",
      "\n",
      "London dog-lovers pets streets cinema advertisement campaign man pavement inner-London borough Islington advertisement middle-aged man pyjamas pavement dog message man neighbour slips mess dogs humans Islington local authorities pounds year mess soft approach people Islington director leisure Ivan_Loftman ad Saatchi Saatchi election campaigns Conservative_Party party advertising agency Corrects reference party current advertising campaign agency C_Saatchi Pound\n",
      "\n",
      "Above classified as ELECTIONS\n",
      "\n",
      "President_Bill_Clinton federal role teen smoking strict rules tobacco sales advertising proof age cigarettes Cigarette smoking significant public health problem people Clinton regulations Americans year smoking-related diseases AIDS car accidents murders suicides fires plan authority Food Drug_Administration FDA Clinton powerful tobacco interests clear action courts evidence Clinton Rose_Garden announcement clear action today right thing historic action today Joe_Camel Marlboro_Man children reach Clinton popular cigarette advertising icons new FDA rules years young people photo identification age cigarettes illegal states cigarettes anyone age new rules machines cigarettes places teenagers billboards advertising cigarettes feet metres schools playgrounds Sales giveaways products caps gym bags cigarette smokeless tobacco product brand names logos FDA industry children dangers smoking White_House children adolescents United_States day election-year opposition decision tobacco-growing states Clinton gathering health care professionals accident nobody political freebies political implications decision Joe_Lockhart president campaign spokesman Republican rival Bob_Dole big decision today protect children tobacco lobby Dole Democrats contributions tobacco interests link smoking cancer spokesman Nelson_Warfield announcement election-year gimmick teen crackdown lawsuits White_House_Press_Secretary_Mike_McCurry decision Tobacco companies clear regulations court FDA authority nicotine FDA_Commissioner_David_Kessler agency legal challenges drug delivery systems Nicotine addictive drug people Tobacco companies advertising industry exception limits curbs unconstitutional breach free speech revenues Hal_Shoup executive vice president American_Association Advertising_Agencies dispute children access quarrel violation right legal products National_Centre Tobacco-Free_Kids regulations consistent First_Amendment Supreme_Court decisions right government commercial speech order important governmental interests\n",
      "\n",
      "Above classified as CRIME, LAW ENFORCEMENT\n",
      "\n",
      "President_Bill_Clinton federal role teen smoking strict rules tobacco sales advertising proof age cigarettes Cigarette smoking significant public health problem people Clinton regulations Americans year smoking-related diseases AIDS car accidents murders suicides fires plan authority Food Drug_Administration FDA Clinton powerful tobacco interests clear action courts evidence Clinton Rose_Garden announcement clear action today right thing historic action today Joe_Camel Marlboro_Man children reach Clinton popular cigarette advertising icons new FDA rules years young people photo identification age cigarettes illegal states cigarettes anyone age new rules machines cigarettes places teenagers billboards advertising cigarettes feet metres schools playgrounds Sales giveaways products caps gym bags cigarette smokeless tobacco product brand names logos FDA industry children dangers smoking White_House children adolescents United_States day election-year opposition decision tobacco-growing states Clinton gathering health care professionals accident nobody political freebies political implications decision Joe_Lockhart president campaign spokesman Republican rival Bob_Dole big decision today protect children tobacco lobby Dole Democrats contributions tobacco interests link smoking cancer spokesman Nelson_Warfield announcement election-year gimmick teen crackdown lawsuits White_House_Press_Secretary_Mike_McCurry decision Tobacco companies clear regulations court FDA authority nicotine FDA_Commissioner_David_Kessler agency legal challenges drug delivery systems Nicotine addictive drug people Tobacco companies advertising industry exception limits curbs unconstitutional breach free speech revenues Hal_Shoup executive vice president American_Association Advertising_Agencies dispute children access quarrel violation right legal products National_Centre Tobacco-Free_Kids regulations consistent First_Amendment Supreme_Court decisions right government commercial speech order important governmental interests\n",
      "\n",
      "Above classified as CRIME, LAW ENFORCEMENT\n",
      "\n",
      "London dog-lovers pets streets cinema advertisement campaign man pavement inner-London borough Islington advertisement middle-aged man pyjamas pavement dog message man neighbour slips mess dogs humans Islington local authorities pounds year mess soft approach people Islington director leisure Ivan_Loftman ad Saatchi Saatchi election campaigns Conservative_Party party advertising agency Corrects reference party current advertising campaign agency C_Saatchi Pound\n",
      "\n",
      "Above classified as ELECTIONS\n",
      "\n",
      "President_Bill_Clinton federal role teen smoking strict rules tobacco sales advertising proof age cigarettes Cigarette smoking significant public health problem people Clinton regulations Americans year smoking-related diseases AIDS car accidents murders suicides fires plan authority Food Drug_Administration FDA Clinton powerful tobacco interests clear action courts evidence Clinton Rose_Garden announcement clear action today right thing historic action today Joe_Camel Marlboro_Man children reach Clinton popular cigarette advertising icons new FDA rules years young people photo identification age cigarettes illegal states cigarettes anyone age new rules machines cigarettes places teenagers billboards advertising cigarettes feet metres schools playgrounds Sales giveaways products caps gym bags cigarette smokeless tobacco product brand names logos FDA industry children dangers smoking White_House children adolescents United_States day election-year opposition decision tobacco-growing states Clinton gathering health care professionals accident nobody political freebies political implications decision Joe_Lockhart president campaign spokesman Republican rival Bob_Dole big decision today protect children tobacco lobby Dole Democrats contributions tobacco interests link smoking cancer spokesman Nelson_Warfield announcement election-year gimmick teen crackdown lawsuits White_House_Press_Secretary_Mike_McCurry decision Tobacco companies clear regulations court FDA authority nicotine FDA_Commissioner_David_Kessler agency legal challenges drug delivery systems Nicotine addictive drug people Tobacco companies advertising industry exception limits curbs unconstitutional breach free speech revenues Hal_Shoup executive vice president American_Association Advertising_Agencies dispute children access quarrel violation right legal products National_Centre Tobacco-Free_Kids regulations consistent First_Amendment Supreme_Court decisions right government commercial speech order important governmental interests\n",
      "\n",
      "Above classified as CRIME, LAW ENFORCEMENT\n",
      "\n",
      "\n",
      "------ 5 random erroneous predictions for RELIGION ------\n",
      "\n",
      "Mother_Teresa conscious stable condition Indian nursing home heart failure condition team physicians doctor 85-year-old Roman_Catholic missionary Nobel peace prize Woodlands_Nursing_Home Calcutta temperature degrees Fahrenheit degrees Celsius severe vomiting Dr_A.K Bardhan Reuters team doctors condition condition morning conscious stable next bulletin health Bardhan cardio-respiratory complications heart failure Mother_Teresa heart pacemaker heart failure past treatment Last night cardio-respiratory complications anti-heart failure treatment respiratory support prognosis doctor difficult details condition treatment general physician New_Delhi heart failure range problems Mother_Teresa age fact pacemaker serious condition next hours treatment doctor nun Mother_Teresa religious order Missionaries Charity Calcutta speedy recovery nun order senior nuns nursing home Mother_Teresa many regard living saint next Mother_Teresa Albanian Descent network missions poor sick Calcutta India populated city Nobel_Peace_Prize health pacemaker California hospital heart disease bacterial pneumonia Rome ribs year New_Delhi award malaria heart lung problems Missionaries Charity order people needy slums cities work children homes adoptions year sick people mobile clinics\n",
      "\n",
      "Above classified as HEALTH\n",
      "\n",
      "Mother_Teresa conscious stable condition Indian nursing home heart failure condition team physicians doctor 85-year-old Roman_Catholic missionary Nobel peace prize Woodlands_Nursing_Home Calcutta temperature degrees Fahrenheit degrees Celsius severe vomiting Dr_A.K Bardhan Reuters team doctors condition condition morning conscious stable next bulletin health Bardhan cardio-respiratory complications heart failure Mother_Teresa heart pacemaker heart failure past treatment Last night cardio-respiratory complications anti-heart failure treatment respiratory support prognosis doctor difficult details condition treatment general physician New_Delhi heart failure range problems Mother_Teresa age fact pacemaker serious condition next hours treatment doctor nun Mother_Teresa religious order Missionaries Charity Calcutta speedy recovery nun order senior nuns nursing home Mother_Teresa many regard living saint next Mother_Teresa Albanian Descent network missions poor sick Calcutta India populated city Nobel_Peace_Prize health pacemaker California hospital heart disease bacterial pneumonia Rome ribs year New_Delhi award malaria heart lung problems Missionaries Charity order people needy slums cities work children homes adoptions year sick people mobile clinics\n",
      "\n",
      "Above classified as HEALTH\n",
      "\n",
      "Pope_John_Paul abdominal problem last week good health part seminar Eastern_Europe summer residence Vatican Chief Vatican spokesman Joaquin_Navarro-Valls reporters 76-year-old Pope good form spirits Castelgandolfo residence south Rome Polish Pontiff active part two-day seminar Slavic cultures academics scientists countries Eastern_Europe spokesman Pope Vatican several hours weekly general audience Pope hospital briefly checkup last week pains antibiotics unspecified abdominal problem mild infection infection Pope mild fever CAT Computed_Axial_Tomography scan nothing order relation operation intestinal tumour malignant Pontiff rosy-cheeked last public Castelgandolfo Vatican visits Hungary France\n",
      "\n",
      "Above classified as HEALTH\n",
      "\n",
      "Mother_Teresa conscious stable condition Indian nursing home heart failure condition team physicians doctor 85-year-old Roman_Catholic missionary Nobel peace prize Woodlands_Nursing_Home Calcutta temperature degrees Fahrenheit degrees Celsius severe vomiting Dr_A.K Bardhan Reuters team doctors condition condition morning conscious stable next bulletin health Bardhan cardio-respiratory complications heart failure Mother_Teresa heart pacemaker heart failure past treatment Last night cardio-respiratory complications anti-heart failure treatment respiratory support prognosis doctor difficult details condition treatment general physician New_Delhi heart failure range problems Mother_Teresa age fact pacemaker serious condition next hours treatment doctor nun Mother_Teresa religious order Missionaries Charity Calcutta speedy recovery nun order senior nuns nursing home Mother_Teresa many regard living saint next Mother_Teresa Albanian Descent network missions poor sick Calcutta India populated city Nobel_Peace_Prize health pacemaker California hospital heart disease bacterial pneumonia Rome ribs year New_Delhi award malaria heart lung problems Missionaries Charity order people needy slums cities work children homes adoptions year sick people mobile clinics\n",
      "\n",
      "Above classified as HEALTH\n",
      "\n",
      "Mother_Teresa fever malaria control Roman_Catholic missionary remains serious condition unstable heart doctor condition serious Dr_S.K Sen medical director Woodlands_Nursing_Home reporters eastern Indian city Calcutta condition unchanged conscious cardiac condition unstable local news agencies unnamed authorities condition world-renowned nun stable condition Sen doctors able malaria fever degrees Fahrenheit Celsius degrees Celsius doctor significant complications medical bulletin hospital Mother_Teresa antibiotics chest infection respiratory support Sen enormous strength age able gestures strict vigilance clock\n",
      "\n",
      "Above classified as HEALTH\n",
      "\n",
      "\n",
      "------ 5 random erroneous predictions for SPORTS ------\n",
      "\n",
      "federal appeals court Tulsa Oklahoma company trading cards major league baseball players big money contracts ruling 10th Circuit_Court Appeals attempt Major_League_Baseball_Players_Association Cardtoons_L.C cards grounds players publicity licensing rights cards likeness San_Francisco_Giants outfielder Bobby_Bonds baseball paid players Treasury_Bonds batboy golden bat Fort_Knoxville_Slugger court cards First_Amendment right speech cards important form entertainment social commentary First_Amendment protection irony MLBPA counter-claim profits cards panel judges court\n",
      "\n",
      "Above classified as CRIME, LAW ENFORCEMENT\n",
      "\n",
      "Australia security spending Sydney_Olympic_Games suggestions recent Port_Arthur massacre protests French nuclear need extra vigilance government funding Protective_Security_Coordination_Centre security diplomats VIPs percent current financial year July-June budget papers last week details local newspaper Port_Arthur shooting people storm local protest French nuclear tests Pacific recent security threats massacre Port_Arthur Tasmania fine line measures terrorism responses serious criminal incidents centre budget review year massacre former convict settlement Australia island state lone gunman national plan rapid-fire guns turn rallies gun-owners fears prime minister security angry pro-gun rally Prime_Minister_John_Howard bullet-proof vest jacket gun lobbyist ban centre budget papers anti-nuclear protests last year fire-bombing France consulate Perth centre security French missions French diplomats foreign dignatories high security centre review risk incidents Indonesian missions high Additional protection Indonesian missions Canberra Sydney Melbourne Darwin threat serious attack Indonesian interest Australia low risk incident affront dignity embarrassment Australian Indonesian governments high Relations Australia Indonesia times groups Australia Jakarta rule East_Timor former Portuguese colony centre security measures visits foreign leaders incident Australia year Malaysian_Prime_Minister_Mahathir_Mohamad protester posing journalist office Australian Attorney-General Daryl_Williams responsible nation chief security agencies centre budget review security analyst centre string recent security threats effort government funding chance review trouble parliament house last week Australian_National_University Michael_McKinley violent anti-budget riot Australia safe country free acts bombing Atlanta_Olympic_Games last month people internal disquiet McKinley Reuters Politicians moment accelerated wealth disparity Australia\n",
      "\n",
      "Above classified as CRIME, LAW ENFORCEMENT\n",
      "\n",
      "federal appeals court Tulsa Oklahoma company trading cards major league baseball players big money contracts ruling 10th Circuit_Court Appeals attempt Major_League_Baseball_Players_Association Cardtoons_L.C cards grounds players publicity licensing rights cards likeness San_Francisco_Giants outfielder Bobby_Bonds baseball paid players Treasury_Bonds batboy golden bat Fort_Knoxville_Slugger court cards First_Amendment right speech cards important form entertainment social commentary First_Amendment protection irony MLBPA counter-claim profits cards panel judges court\n",
      "\n",
      "Above classified as CRIME, LAW ENFORCEMENT\n",
      "\n",
      "federal appeals court Tulsa Oklahoma company trading cards major league baseball players big money contracts ruling 10th Circuit_Court Appeals attempt Major_League_Baseball_Players_Association Cardtoons_L.C cards grounds players publicity licensing rights cards likeness San_Francisco_Giants outfielder Bobby_Bonds baseball paid players Treasury_Bonds batboy golden bat Fort_Knoxville_Slugger court cards First_Amendment right speech cards important form entertainment social commentary First_Amendment protection irony MLBPA counter-claim profits cards panel judges court\n",
      "\n",
      "Above classified as CRIME, LAW ENFORCEMENT\n",
      "\n",
      "Australia security spending Sydney_Olympic_Games suggestions recent Port_Arthur massacre protests French nuclear need extra vigilance government funding Protective_Security_Coordination_Centre security diplomats VIPs percent current financial year July-June budget papers last week details local newspaper Port_Arthur shooting people storm local protest French nuclear tests Pacific recent security threats massacre Port_Arthur Tasmania fine line measures terrorism responses serious criminal incidents centre budget review year massacre former convict settlement Australia island state lone gunman national plan rapid-fire guns turn rallies gun-owners fears prime minister security angry pro-gun rally Prime_Minister_John_Howard bullet-proof vest jacket gun lobbyist ban centre budget papers anti-nuclear protests last year fire-bombing France consulate Perth centre security French missions French diplomats foreign dignatories high security centre review risk incidents Indonesian missions high Additional protection Indonesian missions Canberra Sydney Melbourne Darwin threat serious attack Indonesian interest Australia low risk incident affront dignity embarrassment Australian Indonesian governments high Relations Australia Indonesia times groups Australia Jakarta rule East_Timor former Portuguese colony centre security measures visits foreign leaders incident Australia year Malaysian_Prime_Minister_Mahathir_Mohamad protester posing journalist office Australian Attorney-General Daryl_Williams responsible nation chief security agencies centre budget review security analyst centre string recent security threats effort government funding chance review trouble parliament house last week Australian_National_University Michael_McKinley violent anti-budget riot Australia safe country free acts bombing Atlanta_Olympic_Games last month people internal disquiet McKinley Reuters Politicians moment accelerated wealth disparity Australia\n",
      "\n",
      "Above classified as CRIME, LAW ENFORCEMENT\n",
      "\n",
      "\n"
     ]
    }
   ],
   "source": [
    "for topic_code, index in topic_code_to_int.items():\n",
    "    topic_subset = test_y_predict[test_y == index]\n",
    "    topic_subset_incorrect = topic_subset[topic_subset != index]\n",
    "    document_subset = test_x[test_y == index]\n",
    "    document_subset = document_subset[topic_subset != index]\n",
    "    \n",
    "    print('------ 5 random erroneous predictions for {} ------'.format(topic_code_to_topic_dict[topic_code]))\n",
    "    print('')\n",
    "    random_indices = np.random.choice(np.arange(len(topic_subset_incorrect)), 5)\n",
    "    for index in random_indices:\n",
    "        print(document_subset[index])\n",
    "        print('')\n",
    "        print('Above classified as {}'.format(topic_code_to_topic_dict[int_to_topic_code[topic_subset_incorrect[index]]]))\n",
    "        print('')\n",
    "    print('')"
   ]
  }
 ],
 "metadata": {
  "kernelspec": {
   "display_name": "Python 3",
   "language": "python",
   "name": "python3"
  },
  "language_info": {
   "codemirror_mode": {
    "name": "ipython",
    "version": 3
   },
   "file_extension": ".py",
   "mimetype": "text/x-python",
   "name": "python",
   "nbconvert_exporter": "python",
   "pygments_lexer": "ipython3",
   "version": "3.6.8"
  }
 },
 "nbformat": 4,
 "nbformat_minor": 2
}
