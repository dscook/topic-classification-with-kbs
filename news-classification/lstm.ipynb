{
 "cells": [
  {
   "cell_type": "markdown",
   "metadata": {},
   "source": [
    "# LSTM\n",
    "\n",
    "## Load imports."
   ]
  },
  {
   "cell_type": "code",
   "execution_count": 1,
   "metadata": {},
   "outputs": [
    {
     "name": "stderr",
     "output_type": "stream",
     "text": [
      "Using TensorFlow backend.\n"
     ]
    }
   ],
   "source": [
    "# Make common scripts visible\n",
    "import sys\n",
    "sys.path.append('../common/')\n",
    "\n",
    "from gensim.models import KeyedVectors\n",
    "import numpy as np\n",
    "\n",
    "from loader import load_preprocessed_data\n",
    "from word_embeddings import DocToIntSequenceConverter\n",
    "from lstm import LstmPredictor\n",
    "from lookup_tables import int_to_topic_code, topic_code_to_topic_dict, topic_code_to_int\n",
    "from sklearn.metrics import classification_report\n",
    "from sklearn.utils.class_weight import compute_class_weight"
   ]
  },
  {
   "cell_type": "markdown",
   "metadata": {},
   "source": [
    "## Load the data"
   ]
  },
  {
   "cell_type": "code",
   "execution_count": 2,
   "metadata": {},
   "outputs": [
    {
     "name": "stdout",
     "output_type": "stream",
     "text": [
      "Number of training examples: 1568\n"
     ]
    }
   ],
   "source": [
    "x, y = load_preprocessed_data('data/rcv1_no_stopwords_reduced.csv')\n",
    "x = np.array(x)\n",
    "y = np.array(y)\n",
    "\n",
    "# Split data into 60% train, 20% validation, 20% test\n",
    "total_examples = len(y)\n",
    "\n",
    "split_point_1 = int(total_examples * 0.6)\n",
    "split_point_2 = int(total_examples * 0.8)\n",
    "\n",
    "train_x = x[:split_point_1]\n",
    "train_y = y[:split_point_1]\n",
    "\n",
    "val_x = x[split_point_1:split_point_2]\n",
    "val_y = y[split_point_1:split_point_2]\n",
    "\n",
    "test_x = x[split_point_2:]\n",
    "test_y = y[split_point_2:]\n",
    "\n",
    "print('Number of training examples: {}'.format(len(train_x)))"
   ]
  },
  {
   "cell_type": "markdown",
   "metadata": {},
   "source": [
    "## Pre-process the data"
   ]
  },
  {
   "cell_type": "code",
   "execution_count": 3,
   "metadata": {},
   "outputs": [
    {
     "name": "stdout",
     "output_type": "stream",
     "text": [
      "Minimum length of article in words: 7\n",
      "Maximum length of article in words: 519\n",
      "Mean length of article in words: 112.1582\n",
      "St dev of length of article in words: 72.5444\n",
      "Percentage of articles exceeding max sequence length limit: 0.3827%\n"
     ]
    }
   ],
   "source": [
    "# Find the length of a tweet in words\n",
    "article_lengths = np.array([len(article.split()) for article in train_x])\n",
    "\n",
    "print('Minimum length of article in words: {}'.format(np.min(article_lengths)))\n",
    "print('Maximum length of article in words: {}'.format(np.max(article_lengths)))\n",
    "print('Mean length of article in words: {:.4f}'.format(np.mean(article_lengths)))\n",
    "print('St dev of length of article in words: {:.4f}'.format(np.std(article_lengths)))\n",
    "\n",
    "# Set the max sequence length to mean plus 3 standard deviations (99.7% confidence)\n",
    "max_sequence_length = int(np.mean(article_lengths) + np.std(article_lengths)*3)\n",
    "\n",
    "# Confirm not many tweets exceed this limit\n",
    "articles_exceeding_limit = [article for article in train_x if len(article.split()) > max_sequence_length]\n",
    "percentage_articles_exceeding_limit = (len(articles_exceeding_limit)/len(train_x))*100\n",
    "print('Percentage of articles exceeding max sequence length limit: {:.4f}%'.format(percentage_articles_exceeding_limit))"
   ]
  },
  {
   "cell_type": "code",
   "execution_count": 4,
   "metadata": {},
   "outputs": [],
   "source": [
    "# Convert articles to sequence of integers representing the words\n",
    "article_to_int_seq_converter = DocToIntSequenceConverter(x, max_sequence_length)\n",
    "train_x_seq = article_to_int_seq_converter.convert_to_integer_sequences(train_x)\n",
    "val_x_seq = article_to_int_seq_converter.convert_to_integer_sequences(val_x)\n",
    "test_x_seq = article_to_int_seq_converter.convert_to_integer_sequences(test_x)"
   ]
  },
  {
   "cell_type": "markdown",
   "metadata": {},
   "source": [
    "## Create the LSTM and train it."
   ]
  },
  {
   "cell_type": "code",
   "execution_count": 5,
   "metadata": {},
   "outputs": [],
   "source": [
    "word_embedding_dim = 300\n",
    "word2vec_model = KeyedVectors.load_word2vec_format('../tweet-classification/embeddings/GoogleNews-vectors-negative300.bin.gz', binary=True)"
   ]
  },
  {
   "cell_type": "code",
   "execution_count": 7,
   "metadata": {},
   "outputs": [
    {
     "name": "stdout",
     "output_type": "stream",
     "text": [
      "Train on 1568 samples, validate on 523 samples\n",
      "Epoch 1/100\n",
      "1568/1568 [==============================] - 50s 32ms/step - loss: 1.3346 - acc: 0.5402 - val_loss: 1.0872 - val_acc: 0.6348\n",
      "Epoch 2/100\n",
      "1568/1568 [==============================] - 44s 28ms/step - loss: 0.7981 - acc: 0.7073 - val_loss: 0.7209 - val_acc: 0.7400\n",
      "Epoch 3/100\n",
      "1568/1568 [==============================] - 44s 28ms/step - loss: 0.5157 - acc: 0.8202 - val_loss: 0.5349 - val_acc: 0.8528\n",
      "Epoch 4/100\n",
      "1568/1568 [==============================] - 43s 28ms/step - loss: 0.3981 - acc: 0.8788 - val_loss: 0.3882 - val_acc: 0.8948\n",
      "Epoch 5/100\n",
      "1568/1568 [==============================] - 44s 28ms/step - loss: 0.3449 - acc: 0.9005 - val_loss: 0.7061 - val_acc: 0.7725\n",
      "Epoch 6/100\n",
      "1568/1568 [==============================] - 47s 30ms/step - loss: 0.4102 - acc: 0.8807 - val_loss: 0.3472 - val_acc: 0.9006\n",
      "Epoch 7/100\n",
      "1568/1568 [==============================] - 45s 29ms/step - loss: 0.2522 - acc: 0.9279 - val_loss: 0.3612 - val_acc: 0.8757\n",
      "Epoch 8/100\n",
      "1568/1568 [==============================] - 44s 28ms/step - loss: 0.2296 - acc: 0.9267 - val_loss: 0.3114 - val_acc: 0.9120\n",
      "Epoch 9/100\n",
      "1568/1568 [==============================] - 44s 28ms/step - loss: 0.4189 - acc: 0.8827 - val_loss: 0.3705 - val_acc: 0.8987\n",
      "Epoch 10/100\n",
      "1568/1568 [==============================] - 44s 28ms/step - loss: 0.2240 - acc: 0.9413 - val_loss: 0.2768 - val_acc: 0.9063\n",
      "Epoch 11/100\n",
      "1568/1568 [==============================] - 44s 28ms/step - loss: 0.1621 - acc: 0.9528 - val_loss: 0.2397 - val_acc: 0.9331\n",
      "Epoch 12/100\n",
      "1568/1568 [==============================] - 44s 28ms/step - loss: 0.1396 - acc: 0.9592 - val_loss: 0.2333 - val_acc: 0.9197\n",
      "Epoch 13/100\n",
      "1568/1568 [==============================] - 44s 28ms/step - loss: 0.1536 - acc: 0.9547 - val_loss: 0.2309 - val_acc: 0.9331\n",
      "Epoch 14/100\n",
      "1568/1568 [==============================] - 44s 28ms/step - loss: 0.1084 - acc: 0.9668 - val_loss: 0.1995 - val_acc: 0.9465\n",
      "Epoch 15/100\n",
      "1568/1568 [==============================] - 44s 28ms/step - loss: 0.1431 - acc: 0.9554 - val_loss: 0.2475 - val_acc: 0.9254\n",
      "Epoch 16/100\n",
      "1568/1568 [==============================] - 46s 29ms/step - loss: 0.1230 - acc: 0.9636 - val_loss: 0.2631 - val_acc: 0.9235\n",
      "Epoch 17/100\n",
      "1568/1568 [==============================] - 43s 27ms/step - loss: 0.0919 - acc: 0.9707 - val_loss: 0.1969 - val_acc: 0.9522\n",
      "Epoch 18/100\n",
      "1568/1568 [==============================] - 44s 28ms/step - loss: 0.2075 - acc: 0.9228 - val_loss: 0.4405 - val_acc: 0.8738\n",
      "Epoch 19/100\n",
      "1568/1568 [==============================] - 43s 28ms/step - loss: 0.1639 - acc: 0.9477 - val_loss: 0.3459 - val_acc: 0.9063\n",
      "Epoch 20/100\n",
      "1568/1568 [==============================] - 43s 28ms/step - loss: 0.1529 - acc: 0.9503 - val_loss: 0.2810 - val_acc: 0.9273\n",
      "Epoch 21/100\n",
      "1568/1568 [==============================] - 43s 28ms/step - loss: 0.1207 - acc: 0.9662 - val_loss: 0.2214 - val_acc: 0.9426\n",
      "Epoch 22/100\n",
      "1568/1568 [==============================] - 43s 27ms/step - loss: 0.1278 - acc: 0.9643 - val_loss: 0.9184 - val_acc: 0.7553\n",
      "Epoch 23/100\n",
      "1568/1568 [==============================] - 45s 29ms/step - loss: 0.1849 - acc: 0.9503 - val_loss: 0.2240 - val_acc: 0.9331\n",
      "Epoch 24/100\n",
      "1568/1568 [==============================] - 44s 28ms/step - loss: 0.0963 - acc: 0.9726 - val_loss: 0.2450 - val_acc: 0.9350\n",
      "Epoch 25/100\n",
      "1568/1568 [==============================] - 46s 29ms/step - loss: 0.0943 - acc: 0.9732 - val_loss: 0.2171 - val_acc: 0.9312\n",
      "Epoch 26/100\n",
      "1568/1568 [==============================] - 43s 28ms/step - loss: 0.0642 - acc: 0.9815 - val_loss: 0.2008 - val_acc: 0.9522\n",
      "Epoch 27/100\n",
      "1568/1568 [==============================] - 44s 28ms/step - loss: 0.0670 - acc: 0.9809 - val_loss: 0.2389 - val_acc: 0.9388\n",
      "Epoch 28/100\n",
      "1568/1568 [==============================] - 44s 28ms/step - loss: 0.1153 - acc: 0.9668 - val_loss: 1.0891 - val_acc: 0.8413\n",
      "Epoch 29/100\n",
      "1568/1568 [==============================] - 45s 28ms/step - loss: 0.3583 - acc: 0.9069 - val_loss: 0.2760 - val_acc: 0.9197\n",
      "Epoch 30/100\n",
      "1568/1568 [==============================] - 45s 28ms/step - loss: 0.1833 - acc: 0.9407 - val_loss: 0.3884 - val_acc: 0.8853\n",
      "Epoch 31/100\n",
      "1568/1568 [==============================] - 46s 30ms/step - loss: 0.1285 - acc: 0.9624 - val_loss: 0.2446 - val_acc: 0.9312\n",
      "Epoch 32/100\n",
      "1568/1568 [==============================] - 43s 27ms/step - loss: 0.1535 - acc: 0.9490 - val_loss: 0.3555 - val_acc: 0.8948\n",
      "Epoch 33/100\n",
      "1568/1568 [==============================] - 44s 28ms/step - loss: 0.1230 - acc: 0.9656 - val_loss: 0.2549 - val_acc: 0.9254\n",
      "Epoch 34/100\n",
      "1568/1568 [==============================] - 44s 28ms/step - loss: 0.0846 - acc: 0.9758 - val_loss: 0.2413 - val_acc: 0.9312\n",
      "Epoch 35/100\n",
      "1568/1568 [==============================] - 44s 28ms/step - loss: 0.0682 - acc: 0.9802 - val_loss: 0.2229 - val_acc: 0.9369\n",
      "Epoch 36/100\n",
      "1568/1568 [==============================] - 45s 28ms/step - loss: 0.0706 - acc: 0.9783 - val_loss: 0.2238 - val_acc: 0.9407\n",
      "Epoch 37/100\n",
      "1568/1568 [==============================] - 44s 28ms/step - loss: 0.0542 - acc: 0.9828 - val_loss: 0.1950 - val_acc: 0.9465\n",
      "Epoch 38/100\n",
      "1568/1568 [==============================] - 44s 28ms/step - loss: 0.0461 - acc: 0.9885 - val_loss: 0.1990 - val_acc: 0.9446\n",
      "Epoch 39/100\n",
      "1568/1568 [==============================] - 44s 28ms/step - loss: 0.0376 - acc: 0.9904 - val_loss: 0.2019 - val_acc: 0.9484\n",
      "Epoch 40/100\n",
      "1568/1568 [==============================] - 44s 28ms/step - loss: 0.0327 - acc: 0.9911 - val_loss: 0.2194 - val_acc: 0.9465\n",
      "Epoch 41/100\n",
      "1568/1568 [==============================] - 44s 28ms/step - loss: 0.0378 - acc: 0.9892 - val_loss: 0.1877 - val_acc: 0.9541\n",
      "Epoch 42/100\n",
      "1568/1568 [==============================] - 43s 28ms/step - loss: 0.0278 - acc: 0.9917 - val_loss: 0.2075 - val_acc: 0.9522\n",
      "Epoch 43/100\n",
      "1568/1568 [==============================] - 44s 28ms/step - loss: 0.1561 - acc: 0.9541 - val_loss: 0.2803 - val_acc: 0.9312\n",
      "Epoch 44/100\n",
      "1568/1568 [==============================] - 44s 28ms/step - loss: 0.2778 - acc: 0.9362 - val_loss: 0.9765 - val_acc: 0.6004\n",
      "Epoch 45/100\n",
      "1568/1568 [==============================] - 47s 30ms/step - loss: 0.3309 - acc: 0.9018 - val_loss: 0.3532 - val_acc: 0.8987\n",
      "Epoch 46/100\n",
      "1568/1568 [==============================] - 46s 29ms/step - loss: 0.1171 - acc: 0.9681 - val_loss: 0.3460 - val_acc: 0.9140\n",
      "Epoch 47/100\n",
      "1568/1568 [==============================] - 44s 28ms/step - loss: 0.1095 - acc: 0.9719 - val_loss: 0.3158 - val_acc: 0.9178\n",
      "Epoch 48/100\n",
      "1568/1568 [==============================] - 47s 30ms/step - loss: 0.2472 - acc: 0.9254 - val_loss: 0.6032 - val_acc: 0.7973\n",
      "Epoch 49/100\n",
      "1568/1568 [==============================] - 46s 29ms/step - loss: 0.2903 - acc: 0.9101 - val_loss: 0.5312 - val_acc: 0.8394\n",
      "Epoch 50/100\n",
      "1568/1568 [==============================] - 44s 28ms/step - loss: 0.3702 - acc: 0.8693 - val_loss: 0.4178 - val_acc: 0.8547\n",
      "Epoch 51/100\n",
      "1568/1568 [==============================] - 43s 27ms/step - loss: 0.2018 - acc: 0.9349 - val_loss: 0.3367 - val_acc: 0.8834\n",
      "Epoch 52/100\n",
      "1568/1568 [==============================] - 43s 27ms/step - loss: 0.1463 - acc: 0.9579 - val_loss: 0.2918 - val_acc: 0.9044\n",
      "Epoch 53/100\n",
      "1568/1568 [==============================] - 44s 28ms/step - loss: 0.1414 - acc: 0.9547 - val_loss: 0.4131 - val_acc: 0.8757\n",
      "Epoch 54/100\n",
      "1568/1568 [==============================] - 43s 27ms/step - loss: 0.1279 - acc: 0.9643 - val_loss: 0.2924 - val_acc: 0.9178\n",
      "Epoch 55/100\n",
      "1568/1568 [==============================] - 43s 28ms/step - loss: 0.0949 - acc: 0.9726 - val_loss: 0.2814 - val_acc: 0.9235\n",
      "Epoch 56/100\n",
      "1568/1568 [==============================] - 43s 27ms/step - loss: 0.0861 - acc: 0.9783 - val_loss: 0.2936 - val_acc: 0.9159\n",
      "Epoch 57/100\n",
      "1568/1568 [==============================] - 43s 27ms/step - loss: 0.1181 - acc: 0.9688 - val_loss: 0.3476 - val_acc: 0.9159\n",
      "Epoch 58/100\n",
      "1568/1568 [==============================] - 44s 28ms/step - loss: 0.0833 - acc: 0.9745 - val_loss: 0.2811 - val_acc: 0.9273\n",
      "Epoch 59/100\n",
      "1568/1568 [==============================] - 45s 28ms/step - loss: 0.0543 - acc: 0.9841 - val_loss: 0.2790 - val_acc: 0.9273\n",
      "Epoch 60/100\n"
     ]
    },
    {
     "name": "stdout",
     "output_type": "stream",
     "text": [
      "1568/1568 [==============================] - 43s 27ms/step - loss: 0.0442 - acc: 0.9885 - val_loss: 0.2519 - val_acc: 0.9331\n",
      "Epoch 61/100\n",
      "1568/1568 [==============================] - 43s 27ms/step - loss: 0.1349 - acc: 0.9534 - val_loss: 0.3082 - val_acc: 0.9101\n"
     ]
    }
   ],
   "source": [
    "lstm = LstmPredictor(article_to_int_seq_converter.get_word_index(),\n",
    "                     word_embedding_dim,\n",
    "                     max_sequence_length,\n",
    "                     word2vec_model,\n",
    "                     len(int_to_topic_code.values()))\n",
    "class_weights = compute_class_weight('balanced', np.unique(train_y), train_y)\n",
    "class_weights_dict = {}\n",
    "for i in range(len(class_weights)):\n",
    "    class_weights_dict[i] = class_weights[i]\n",
    "lstm.train(train_x_seq, train_y, val_x_seq, val_y, class_weight=class_weights)"
   ]
  },
  {
   "cell_type": "markdown",
   "metadata": {},
   "source": [
    "## Make predictions and report classification accuracy."
   ]
  },
  {
   "cell_type": "code",
   "execution_count": 8,
   "metadata": {},
   "outputs": [
    {
     "name": "stdout",
     "output_type": "stream",
     "text": [
      "                        precision    recall  f1-score   support\n",
      "\n",
      "CRIME, LAW ENFORCEMENT   0.957895  0.952880  0.955381       191\n",
      "  ECONOMIC PERFORMANCE   0.933333  0.965517  0.949153        58\n",
      "             ELECTIONS   0.866667  0.945455  0.904348        55\n",
      "                HEALTH   0.903226  0.777778  0.835821        36\n",
      "              RELIGION   0.916667  1.000000  0.956522        11\n",
      "                SPORTS   1.000000  0.988372  0.994152       172\n",
      "\n",
      "             micro avg   0.954111  0.954111  0.954111       523\n",
      "             macro avg   0.929631  0.938334  0.932563       523\n",
      "          weighted avg   0.954794  0.954111  0.953868       523\n",
      "\n"
     ]
    }
   ],
   "source": [
    "# Re-initialise the LSTM, will use weights from the previous training run.\n",
    "lstm = LstmPredictor(article_to_int_seq_converter.get_word_index(),\n",
    "                     word_embedding_dim,\n",
    "                     max_sequence_length,\n",
    "                     word2vec_model,\n",
    "                     len(int_to_topic_code.values()),\n",
    "                     use_saved_weights=True)\n",
    "test_y_predict = lstm.predict(test_x_seq)\n",
    "print(classification_report(test_y, test_y_predict, digits=6, target_names=topic_code_to_topic_dict.values()))"
   ]
  },
  {
   "cell_type": "markdown",
   "metadata": {},
   "source": [
    "## Find examples where predictions went wrong"
   ]
  },
  {
   "cell_type": "code",
   "execution_count": 9,
   "metadata": {},
   "outputs": [
    {
     "name": "stdout",
     "output_type": "stream",
     "text": [
      "------ 5 random erroneous predictions for CRIME, LAW ENFORCEMENT ------\n",
      "\n",
      "whole world Chicago police crowds anti-war demonstrators truncheons skulls protesters reporters bystanders years Chicago police black-and-white TV footage colleagues Democratic National_Convention President_Bill_Clinton world accomodating police department police spokesman Paul_Jenkins attitudinal change part democratic process officers TV radio Times demonstrators heirs thousands protesters Chicago opposition Vietnam_War revolution-minded leaders Tom_Hayden founder Students Democratic Society Abbie_Hoffman rambunctious Youth_International_Party Yippies Hayden California delegate convention Hoffman dead many yippies yuppies forces turbulent 1960s Vietnam_War military draft black civil rights exuberant youthful devotion sex drugs rock n roll time left identity politics oppressed author David_Horowitz self-described former-revolutionary-turned-Republican process people way demonstrators Aug. Democratic convention two-dozen groups slots city authorities sites Applicants anti-abortion groups party abortion rights policy Guest_List_Coalition racism 80-year-old David_Dellinger leader 68_Chicago demonstrations group new-style hippies universal consciousness Festival Life politics urgent threat domestic terrorism light bombings Atlanta Olympic_Games Oklahoma_City federal building New_York World_Trade_Centre bombings law enforcement agencies guard authorities valid excuse general public several streets sidewalks convention site Chicago_Mayor_Richard_M._Daley matters aware 15,000-strong press corps clashes reminiscent father Mayor_Richard_J._Daley elder Daley protesters Democratic party leaders presidential commission police riot resistance elder Daley generation societal shifts power classic definition police state use police force political purposes Don_Rose demonstration leader phrase protesters whole world Democratic convention media microscope anti-war protests deaths Republican convention Miami year Daley police anti-war protest rioters assassination civil rights leader Martin_Luther_King_Jr. lot wild men time protesters danger Chicago police reputation rough stuff Rose Horowitz protest leaders violent confrontation Chicago several spontaneous acts disobedience Whichever side one Chicago police protesters\n",
      "\n",
      "Above classified as ELECTIONS\n",
      "\n",
      "whole world Chicago police crowds anti-war demonstrators truncheons skulls protesters reporters bystanders years Chicago police black-and-white TV footage colleagues Democratic National_Convention President_Bill_Clinton world accomodating police department police spokesman Paul_Jenkins attitudinal change part democratic process officers TV radio Times demonstrators heirs thousands protesters Chicago opposition Vietnam_War revolution-minded leaders Tom_Hayden founder Students Democratic Society Abbie_Hoffman rambunctious Youth_International_Party Yippies Hayden California delegate convention Hoffman dead many yippies yuppies forces turbulent 1960s Vietnam_War military draft black civil rights exuberant youthful devotion sex drugs rock n roll time left identity politics oppressed author David_Horowitz self-described former-revolutionary-turned-Republican process people way demonstrators Aug. Democratic convention two-dozen groups slots city authorities sites Applicants anti-abortion groups party abortion rights policy Guest_List_Coalition racism 80-year-old David_Dellinger leader 68_Chicago demonstrations group new-style hippies universal consciousness Festival Life politics urgent threat domestic terrorism light bombings Atlanta Olympic_Games Oklahoma_City federal building New_York World_Trade_Centre bombings law enforcement agencies guard authorities valid excuse general public several streets sidewalks convention site Chicago_Mayor_Richard_M._Daley matters aware 15,000-strong press corps clashes reminiscent father Mayor_Richard_J._Daley elder Daley protesters Democratic party leaders presidential commission police riot resistance elder Daley generation societal shifts power classic definition police state use police force political purposes Don_Rose demonstration leader phrase protesters whole world Democratic convention media microscope anti-war protests deaths Republican convention Miami year Daley police anti-war protest rioters assassination civil rights leader Martin_Luther_King_Jr. lot wild men time protesters danger Chicago police reputation rough stuff Rose Horowitz protest leaders violent confrontation Chicago several spontaneous acts disobedience Whichever side one Chicago police protesters\n",
      "\n",
      "Above classified as ELECTIONS\n",
      "\n",
      "Republican presidential candidate Bob_Dole_Wednesday Clinton administration drug use teenagers National_Guard drugs United_States war drugs everything next year late Mr._President Dole outdoor crowd several private religious school briefly reports administration plan capital gains taxes home sales club weeks weeks weeks Dole Dole former first lady Nancy_Reagan anti-drug message Los_Angeles_Dole running mate Jack_Kemp black vote area flashpoint Los_Angeles riots Kemp crowd blacks south central Los_Angeles eyes ears open heart open heart vote Dole address group white presidential nominee stream illegal drugs United_States missiles U.S. children federal judges tough illegal drug use millions millions missiles young people needle cigarette delivery system poison America Dole percent cocaine United_States percent marijuana Mexico international problem prepared military drugs border Dole remarks questions ban cigarettes anything cigarettes drugs hands well-wishers ban cigarettes Dole Come Dole campaign aides candidate young people Dole California_Proposition voters cultivation marijuana plants medicinal uses Dole initiative marijuana anything headache ingrown toenail effort drug issue non-political terms Dole times 20-minute address illegal drug use Democratic Republican issue people anti-drug message theme Dole feels strong appeal Chicago President_Clinton white flag war drugs recent survey illegal drug use year-olds past years Dole several California_Republican politicians Gov Pete_Wilson local state governments illegal drugs help kind help Ronald_Reagan George_Bush White_House Wilson briefing aides Al_Gore speech Democratic convention Chicago Dole Senate record Dole sorry vice president hatchet man Democrats unexpected Al_Gore unfortunate unexpected Dole\n",
      "\n",
      "Above classified as ELECTIONS\n",
      "\n",
      "President_Clinton_Monday proposal handguns wife beaters child abusers flag-waving campaign train Chicago brief electronic visit opening session Democratic Convention Hello_Chicago Toledo Clinton satellite television transmission delegates rally Ohio convention good time 50-year-old Democrat Toledo supporters veiled jibe Republican convention Clinton party nominating session little different leaders stage proud platform proud large friendly crowds whistlestop route Ohio battleground Nov. election fight Republican_Bob_Dole Clinton day boasting domestic achievements Dole tax cut plan whole lot tax cut rally rural Arlington big difference mine Clinton Chicago nomination second term anything speech night American people campaign budget face shirt sweat Clinton stance voters form home mortgage credit card interest payments speech Clinton Retta_Lafaun_Plott birthday heat podium crowd Happy Birthday long time girl faint main emphasis day Columbus Ohio capital Clinton second leg four-day trip corrects day Columbus_Police_Academy lines police backdrop Clinton public safety partisan issue American issue tightening Brady_Bill five-day waiting period handgun purchases current law thousands people wife beaters child abusers handguns deadly consequences Clinton right Americans guns hunter great joy mistake safety others trust White_House statement incidents domestic violence firearm present 10-year period year law enforcement officers family quarrels Clinton oft-made call outlawing cop killer bullets powerful bullets material bulletproof bullet bulletproof vest hot knife butter law Clinton daughter Chelsea wife Hillary separate schedule Chicago hometown headlines new proposal day train trip concern education environment\n",
      "\n",
      "Above classified as ELECTIONS\n",
      "\n",
      "Spain doldrums week eyes Felipe_Gonzalez absence courts side years power charismatic Socialist leader Spain final metamorphosis Franco dictatorship democracy opposition early elections scandals prime minister job defeat forecast hands conservative Jose_Maria_Aznar little opportunity inclination muscles Aznar Popular_Party outright majority months support regional parties government time pressures new government budget European_Union strict single-currency targets business ground halt traditional summer lull summer scandals rage critics doubts Gonzalez defeat first sweet serious opposition work shadow simple daily El_Mundo month Gonzalez opponent New_Socialist corruption scandals light election Gonzalez long South American holiday storm top Civil_Guard general arrest dirty war Basque rebels Impervious criticism ranks absence calls party reshuffle Felipe Spaniards holiday Majorca Tight-lipped occasions visible press judgment Aznar early days power next Sept Supreme_Court dirty war ETA guerrillas campaign bombings kidnappings torture murder people Gonzalez world South_America conferences Uruguay Chile New_York meeting Socialist_International return time budget negotiations full swing first real test style opposition mind Gonzalez associates former allies Catalonia support Aznar conservative successor new elections bid majority dependence regional parties erstwhile foes Communist-led United_Left IU search common ground joint front opposition Aznar IU Socialists share fear conservatives welfare state Gonzalez odds key issues dirty war ETA Basque_Homeland Freedom desirability Spain single currency NATO military structure points Gonzalez Aznar close enough difficult positions Socialists Aznar decision courts requests declassification military intelligence files anti-ETA drive move opinion polls Spaniards secret Aznar-Gonzalez pact work economic front Gonzalez enthusiasm Spain participation first wave Economic Monetary_Union EMU par Aznar arguments budget spending cuts place overall drive deficit NATO Socialists about-turn alliance instrument U.S. domination Europe Gonzalez former foreign minister Javier_Solana organisation secretary-general court investigations corruption scandals dirty war unable Aznar basic issues substance Gonzalez leadership Europe socialist parties discontent grows ranks Socialist board talk removal new calls realisation Gonzalez party electoral asset healthy possibility someone Felipe_Gonzalez party secretary-general Matilde_Fernandez former minister current member party executive month statesman candidate government man time internal party work\n",
      "\n",
      "Above classified as ELECTIONS\n",
      "\n",
      "\n",
      "------ 5 random erroneous predictions for ECONOMIC PERFORMANCE ------\n",
      "\n",
      "Pacific island leaders next week annual South_Pacific_Forum first end French nuclear testing reforms critical economic pressures living standards Many Forum members critical economic pressures development process impact lifestyles living standards Ieremia_Tabai secretary-general Forum_Secretariat vital year Forum usual economic issues next Tabai delegates speech pre-Forum meeting Marshall_Islands capital Majuro copy speech Reuters Australian Prime_Minister_John_Howard Forum Australia region nation reform efforts Forum member countries region economic well-being term natural resources fisheries forests way interests future generations Howard statement Sydney Tabai economic performance South_Pacific small island economies poor Tabai single countries Australian diplomat Cook_Islands Nauru Solomon_Islands Kiribati Tuvalu Tonga Western_Samoa trouble lack resources Cook_Islands bankrupt tiny island group population public debt diplomat France Australia New_Zealand Japan region donors aid levels Britain South_Pacific aid United_States aim island countries Foreign aid South_Pacific nations accounts percent region gross domestic product GDP world rate French statistics summit first time France controversial series nuclear tests South_Pacific officials question France readmission dialogue partner likely debate Members France last year protest resumption French Polynesia diplomat lingering resentment tests members France next year Forum France year lot Reuters spokesman French embassy Canberra Paris eager place dialogue partner annual Forum leaders Australia Cook_Islands Federated_States Micronesia Fiji Kiribati Marshall_Islands Nauru New_Zealand Niue Palau Papua_New_Guinea Solomon_Islands Tonga Tuvalu Vanuatu Western_Samoa\n",
      "\n",
      "Above classified as RELIGION\n",
      "\n",
      "President_Jacques_Chirac conference France deficits healthy trade surplus solid currency Things France deficits currency solid business conference Chirac France obstacles problems past France plenty problems conservatism willingness country painful difficult high morale morale French people heavy responsibility news morning slight fall unemployment Chirac welcome much swallow summer Chirac conference CNPF employers organisation\n",
      "\n",
      "Above classified as HEALTH\n",
      "\n",
      "President_Jacques_Chirac conference France deficits healthy trade surplus solid currency Things France deficits currency solid business conference Chirac France obstacles problems past France plenty problems conservatism willingness country painful difficult high morale morale French people heavy responsibility news morning slight fall unemployment Chirac welcome much swallow summer Chirac conference CNPF employers organisation\n",
      "\n",
      "Above classified as HEALTH\n",
      "\n",
      "Pacific island leaders next week annual South_Pacific_Forum first end French nuclear testing reforms critical economic pressures living standards Many Forum members critical economic pressures development process impact lifestyles living standards Ieremia_Tabai secretary-general Forum_Secretariat vital year Forum usual economic issues next Tabai delegates speech pre-Forum meeting Marshall_Islands capital Majuro copy speech Reuters Australian Prime_Minister_John_Howard Forum Australia region nation reform efforts Forum member countries region economic well-being term natural resources fisheries forests way interests future generations Howard statement Sydney Tabai economic performance South_Pacific small island economies poor Tabai single countries Australian diplomat Cook_Islands Nauru Solomon_Islands Kiribati Tuvalu Tonga Western_Samoa trouble lack resources Cook_Islands bankrupt tiny island group population public debt diplomat France Australia New_Zealand Japan region donors aid levels Britain South_Pacific aid United_States aim island countries Foreign aid South_Pacific nations accounts percent region gross domestic product GDP world rate French statistics summit first time France controversial series nuclear tests South_Pacific officials question France readmission dialogue partner likely debate Members France last year protest resumption French Polynesia diplomat lingering resentment tests members France next year Forum France year lot Reuters spokesman French embassy Canberra Paris eager place dialogue partner annual Forum leaders Australia Cook_Islands Federated_States Micronesia Fiji Kiribati Marshall_Islands Nauru New_Zealand Niue Palau Papua_New_Guinea Solomon_Islands Tonga Tuvalu Vanuatu Western_Samoa\n",
      "\n",
      "Above classified as RELIGION\n",
      "\n",
      "Pacific island leaders next week annual South_Pacific_Forum first end French nuclear testing reforms critical economic pressures living standards Many Forum members critical economic pressures development process impact lifestyles living standards Ieremia_Tabai secretary-general Forum_Secretariat vital year Forum usual economic issues next Tabai delegates speech pre-Forum meeting Marshall_Islands capital Majuro copy speech Reuters Australian Prime_Minister_John_Howard Forum Australia region nation reform efforts Forum member countries region economic well-being term natural resources fisheries forests way interests future generations Howard statement Sydney Tabai economic performance South_Pacific small island economies poor Tabai single countries Australian diplomat Cook_Islands Nauru Solomon_Islands Kiribati Tuvalu Tonga Western_Samoa trouble lack resources Cook_Islands bankrupt tiny island group population public debt diplomat France Australia New_Zealand Japan region donors aid levels Britain South_Pacific aid United_States aim island countries Foreign aid South_Pacific nations accounts percent region gross domestic product GDP world rate French statistics summit first time France controversial series nuclear tests South_Pacific officials question France readmission dialogue partner likely debate Members France last year protest resumption French Polynesia diplomat lingering resentment tests members France next year Forum France year lot Reuters spokesman French embassy Canberra Paris eager place dialogue partner annual Forum leaders Australia Cook_Islands Federated_States Micronesia Fiji Kiribati Marshall_Islands Nauru New_Zealand Niue Palau Papua_New_Guinea Solomon_Islands Tonga Tuvalu Vanuatu Western_Samoa\n",
      "\n",
      "Above classified as RELIGION\n",
      "\n",
      "\n",
      "------ 5 random erroneous predictions for ELECTIONS ------\n",
      "\n",
      "Mixed economic data touch political pressure recipe steady monetary policy U.S. presidential election pundits former Federal_Reserve officials Members Federal_Open_Market_Committee careful key data employment report vicissitudes political race White_House member FOMC careful Preston_Martin former Fed vice chairman odds action action action Martin chairman HomeVest_Financial_Services_Inc San_Francisco Fed short-term rates steady year fifth meeting policy-setting arm central bank target federal funds rate percent discount rate unchanged percent Analysts string economic indicators blurry economic outlook clear signs inflation Federal_Reserve pat picture await clarification economy Lyle_Gramley former Fed governor economist Mortgage_Bankers_Association America Fed year year Fed sure Gramley Gramley U.S. economy strong tightening necessary road Martin Fed likely hold election current economic scene central banker nirvana Martin positive inflation outlook main reasons Fed hold next months Recent economic indicators consumer spending labor market signs manufacturing sector scant evidence incipient inflation growth signals Fed interest rates election year solid economic justification Sung_Won_Sohn chief economist Norwest_Corp. justifications Pundits current legislative efforts Fed official mandate FOMC members careful decision monetary policy month Sen._Robert_Bennett R-Utah adviser Republican presidential candidate Bob_Dole law Fed dual mandate inflation maximum employment Bennett Sen._Connie_Mack R-Fla bill inflation U.S. central bank mandate legislation objectives Fed informal discussion role Federal_Reserve_Bank presidents Senate Martin FOMC members careful appearance overzealousness hand disregard inflation Martin event interest rate hike analysts Clinton campaign Republican challenger Bob_Dole hard Clinton administration possible Fed action months president Alan_Greenspan Fed chairman fresh four-year mandate Mr._Greenspan rates Mr._Clinton Administration awkward position Sohn analysts relationship White_House Treasury Fed amicable weekly breakfasts matches Fed Treasury frequent contact Fed White_House Treasury officials Martin tennis guys Fed tennis court mere fact presidential race Fed monetary policy past Fed rates analysts Recent history Fed rates presidential campaigns analysts\n",
      "\n",
      "Above classified as ECONOMIC PERFORMANCE\n",
      "\n",
      "tension Senegal political parties local elections interior ministry carrying guns ammunition end year forbidden holders permits weapons categories arms ammunition homes statement ban Senegalese nationals foreign residents\n",
      "\n",
      "Above classified as CRIME, LAW ENFORCEMENT\n",
      "\n",
      "tension Senegal political parties local elections interior ministry carrying guns ammunition end year forbidden holders permits weapons categories arms ammunition homes statement ban Senegalese nationals foreign residents\n",
      "\n",
      "Above classified as CRIME, LAW ENFORCEMENT\n",
      "\n",
      "Mixed economic data touch political pressure recipe steady monetary policy U.S. presidential election pundits former Federal_Reserve officials Members Federal_Open_Market_Committee careful key data employment report vicissitudes political race White_House member FOMC careful Preston_Martin former Fed vice chairman odds action action action Martin chairman HomeVest_Financial_Services_Inc San_Francisco Fed short-term rates steady year fifth meeting policy-setting arm central bank target federal funds rate percent discount rate unchanged percent Analysts string economic indicators blurry economic outlook clear signs inflation Federal_Reserve pat picture await clarification economy Lyle_Gramley former Fed governor economist Mortgage_Bankers_Association America Fed year year Fed sure Gramley Gramley U.S. economy strong tightening necessary road Martin Fed likely hold election current economic scene central banker nirvana Martin positive inflation outlook main reasons Fed hold next months Recent economic indicators consumer spending labor market signs manufacturing sector scant evidence incipient inflation growth signals Fed interest rates election year solid economic justification Sung_Won_Sohn chief economist Norwest_Corp. justifications Pundits current legislative efforts Fed official mandate FOMC members careful decision monetary policy month Sen._Robert_Bennett R-Utah adviser Republican presidential candidate Bob_Dole law Fed dual mandate inflation maximum employment Bennett Sen._Connie_Mack R-Fla bill inflation U.S. central bank mandate legislation objectives Fed informal discussion role Federal_Reserve_Bank presidents Senate Martin FOMC members careful appearance overzealousness hand disregard inflation Martin event interest rate hike analysts Clinton campaign Republican challenger Bob_Dole hard Clinton administration possible Fed action months president Alan_Greenspan Fed chairman fresh four-year mandate Mr._Greenspan rates Mr._Clinton Administration awkward position Sohn analysts relationship White_House Treasury Fed amicable weekly breakfasts matches Fed Treasury frequent contact Fed White_House Treasury officials Martin tennis guys Fed tennis court mere fact presidential race Fed monetary policy past Fed rates analysts Recent history Fed rates presidential campaigns analysts\n",
      "\n",
      "Above classified as ECONOMIC PERFORMANCE\n",
      "\n",
      "Mixed economic data touch political pressure recipe steady monetary policy U.S. presidential election pundits former Federal_Reserve officials Members Federal_Open_Market_Committee careful key data employment report vicissitudes political race White_House member FOMC careful Preston_Martin former Fed vice chairman odds action action action Martin chairman HomeVest_Financial_Services_Inc San_Francisco Fed short-term rates steady year fifth meeting policy-setting arm central bank target federal funds rate percent discount rate unchanged percent Analysts string economic indicators blurry economic outlook clear signs inflation Federal_Reserve pat picture await clarification economy Lyle_Gramley former Fed governor economist Mortgage_Bankers_Association America Fed year year Fed sure Gramley Gramley U.S. economy strong tightening necessary road Martin Fed likely hold election current economic scene central banker nirvana Martin positive inflation outlook main reasons Fed hold next months Recent economic indicators consumer spending labor market signs manufacturing sector scant evidence incipient inflation growth signals Fed interest rates election year solid economic justification Sung_Won_Sohn chief economist Norwest_Corp. justifications Pundits current legislative efforts Fed official mandate FOMC members careful decision monetary policy month Sen._Robert_Bennett R-Utah adviser Republican presidential candidate Bob_Dole law Fed dual mandate inflation maximum employment Bennett Sen._Connie_Mack R-Fla bill inflation U.S. central bank mandate legislation objectives Fed informal discussion role Federal_Reserve_Bank presidents Senate Martin FOMC members careful appearance overzealousness hand disregard inflation Martin event interest rate hike analysts Clinton campaign Republican challenger Bob_Dole hard Clinton administration possible Fed action months president Alan_Greenspan Fed chairman fresh four-year mandate Mr._Greenspan rates Mr._Clinton Administration awkward position Sohn analysts relationship White_House Treasury Fed amicable weekly breakfasts matches Fed Treasury frequent contact Fed White_House Treasury officials Martin tennis guys Fed tennis court mere fact presidential race Fed monetary policy past Fed rates analysts Recent history Fed rates presidential campaigns analysts\n",
      "\n",
      "Above classified as ECONOMIC PERFORMANCE\n",
      "\n",
      "\n",
      "------ 5 random erroneous predictions for HEALTH ------\n",
      "\n",
      "husband Massachusetts woman suicide presence Dr._Jack_Kevorkian Michigan medical examiner autopsy insensitive examiner agenda Psychiatrist_Franklin_Curren husband Judith_Curren impromptu news conference front lawn coroner insensitive disservice agenda people issue wife sick Oakland_County Michigan medical examiner Dr._Ljubisa_Dragovic longtime Kevorkian critic autopsy Judith_Curren overweight depressed signs chronic fatigue syndrome significant disease process medical examiner conclusions police reports Franklin_Curren wife troubling questions Kevorkian debate assisted suicide Curren Dragovic suggestion wife judgment painkillers life people chronic fatigue syndrome depression cadaver reporters premise anyone medication irrational drug-addicted incompetent medication Curren wife fibromyalgia chronic fatigue years recent years unable television minutes day daughters Southfield Michigan Kevorkian attorney Geoffrey_Fieger_Tuesday medical records Judith_Curren handwritten letters new eyewitness final moments statement Dr._David_Bell Harvard_University medical records Fieger mental illness cause activity limitation symptom pattern complication chronic fatigue syndrome Fieger Curren year Kevorkian letter contact Curren retired pathologist evening happy smile face secure knowledge night confident belief goal Janet_Good longtime Kevorkian supporter present Curren death Aug. Curren husband Franklin goodbye Good Curren last words Thank Dr Kevorkian Last week Currens Pembroke Detroit Judith_Curren 42-year-old registered nurse person Kevorkian presence pounds feet inch tall Curren wife suicide years refusal arguments emotional phases illness domestic assault charges late order years police reports News reports police calls Judith_Curren help neighbours residence Winchester Massachusetts Curren court hearing Oct. assault charges Boston media reports stress family situation decision life family stress time accusations court Curren decision necessary time husband alive suffer help available life bed Curren Curren rare occasions months drugs accordance medical treatments world pre-eminent psychopharmacologists New_York New_York doctor hours members state medical board doctors allegations narcotics patients\n",
      "\n",
      "Above classified as CRIME, LAW ENFORCEMENT\n",
      "\n",
      "White_House_Chief Staff_Leon_Panetta Clinton adminstration demand FDA regulate nicotine CBS_News Panetta CBS White_House willing Food Drug_Administration proposed jurisdiction tobacco industry new rules vending machine sales cigarette advertisements youngsters fundamental requirement industry requirements kids smoking Panetta CBS interview anything long-term litigation regulations helpful new regulations due years number measures young people smoking tobacco industry regulations court FDA legal authority nicotine White_House press secretary Mike_McCurry President_Bill_Clinton others preferable statutory language voluntary measures access minors matter courts Clinton action immediate something time discussions place McCurry Clinton whistlestop train tour Michigan way Democratic National_Convention Chicago CBS White_House officials hard look legislative possiblity tobacco industry lawsuits smokers poll CBS percent Americans new government regulations FDA authority sale advertising cigarettes tobacco products Twenty-six percent percent regulations likely number minors cigarettes tobacco products poll adults margin error percentage points\n",
      "\n",
      "Above classified as ELECTIONS\n",
      "\n",
      "husband Massachusetts woman suicide presence Dr._Jack_Kevorkian Michigan medical examiner autopsy insensitive examiner agenda Psychiatrist_Franklin_Curren husband Judith_Curren impromptu news conference front lawn coroner insensitive disservice agenda people issue wife sick Oakland_County Michigan medical examiner Dr._Ljubisa_Dragovic longtime Kevorkian critic autopsy Judith_Curren overweight depressed signs chronic fatigue syndrome significant disease process medical examiner conclusions police reports Franklin_Curren wife troubling questions Kevorkian debate assisted suicide Curren Dragovic suggestion wife judgment painkillers life people chronic fatigue syndrome depression cadaver reporters premise anyone medication irrational drug-addicted incompetent medication Curren wife fibromyalgia chronic fatigue years recent years unable television minutes day daughters Southfield Michigan Kevorkian attorney Geoffrey_Fieger_Tuesday medical records Judith_Curren handwritten letters new eyewitness final moments statement Dr._David_Bell Harvard_University medical records Fieger mental illness cause activity limitation symptom pattern complication chronic fatigue syndrome Fieger Curren year Kevorkian letter contact Curren retired pathologist evening happy smile face secure knowledge night confident belief goal Janet_Good longtime Kevorkian supporter present Curren death Aug. Curren husband Franklin goodbye Good Curren last words Thank Dr Kevorkian Last week Currens Pembroke Detroit Judith_Curren 42-year-old registered nurse person Kevorkian presence pounds feet inch tall Curren wife suicide years refusal arguments emotional phases illness domestic assault charges late order years police reports News reports police calls Judith_Curren help neighbours residence Winchester Massachusetts Curren court hearing Oct. assault charges Boston media reports stress family situation decision life family stress time accusations court Curren decision necessary time husband alive suffer help available life bed Curren Curren rare occasions months drugs accordance medical treatments world pre-eminent psychopharmacologists New_York New_York doctor hours members state medical board doctors allegations narcotics patients\n",
      "\n",
      "Above classified as CRIME, LAW ENFORCEMENT\n",
      "\n",
      "Australian Democrats party government plan tax rebate people private health insurance measure budget first year operation part package government policies pressure national health insurance scheme Medicare Australian Democrats government Coalition private health insurance rebate wake premium increases major private health companies Democrats Meg_Lees statement Liberal-National government votes short majority upper house parliament Senate votes 28-strong Labor opposition Democrats Greens pair Independents health insurers premiums part subsidy customers government Canberra_Bureau\n",
      "\n",
      "Above classified as ELECTIONS\n",
      "\n",
      "husband Massachusetts woman suicide presence Dr._Jack_Kevorkian Michigan medical examiner autopsy insensitive examiner agenda Psychiatrist_Franklin_Curren husband Judith_Curren impromptu news conference front lawn coroner insensitive disservice agenda people issue wife sick Oakland_County Michigan medical examiner Dr._Ljubisa_Dragovic longtime Kevorkian critic autopsy Judith_Curren overweight depressed signs chronic fatigue syndrome significant disease process medical examiner conclusions police reports Franklin_Curren wife troubling questions Kevorkian debate assisted suicide Curren Dragovic suggestion wife judgment painkillers life people chronic fatigue syndrome depression cadaver reporters premise anyone medication irrational drug-addicted incompetent medication Curren wife fibromyalgia chronic fatigue years recent years unable television minutes day daughters Southfield Michigan Kevorkian attorney Geoffrey_Fieger_Tuesday medical records Judith_Curren handwritten letters new eyewitness final moments statement Dr._David_Bell Harvard_University medical records Fieger mental illness cause activity limitation symptom pattern complication chronic fatigue syndrome Fieger Curren year Kevorkian letter contact Curren retired pathologist evening happy smile face secure knowledge night confident belief goal Janet_Good longtime Kevorkian supporter present Curren death Aug. Curren husband Franklin goodbye Good Curren last words Thank Dr Kevorkian Last week Currens Pembroke Detroit Judith_Curren 42-year-old registered nurse person Kevorkian presence pounds feet inch tall Curren wife suicide years refusal arguments emotional phases illness domestic assault charges late order years police reports News reports police calls Judith_Curren help neighbours residence Winchester Massachusetts Curren court hearing Oct. assault charges Boston media reports stress family situation decision life family stress time accusations court Curren decision necessary time husband alive suffer help available life bed Curren Curren rare occasions months drugs accordance medical treatments world pre-eminent psychopharmacologists New_York New_York doctor hours members state medical board doctors allegations narcotics patients\n",
      "\n",
      "Above classified as CRIME, LAW ENFORCEMENT\n",
      "\n",
      "\n",
      "------ 5 random erroneous predictions for RELIGION ------\n",
      "\n"
     ]
    },
    {
     "ename": "ValueError",
     "evalue": "a must be non-empty",
     "output_type": "error",
     "traceback": [
      "\u001b[0;31m---------------------------------------------------------------------------\u001b[0m",
      "\u001b[0;31mValueError\u001b[0m                                Traceback (most recent call last)",
      "\u001b[0;32m<ipython-input-9-cdb319000224>\u001b[0m in \u001b[0;36m<module>\u001b[0;34m\u001b[0m\n\u001b[1;32m      7\u001b[0m     \u001b[0mprint\u001b[0m\u001b[0;34m(\u001b[0m\u001b[0;34m'------ 5 random erroneous predictions for {} ------'\u001b[0m\u001b[0;34m.\u001b[0m\u001b[0mformat\u001b[0m\u001b[0;34m(\u001b[0m\u001b[0mtopic_code_to_topic_dict\u001b[0m\u001b[0;34m[\u001b[0m\u001b[0mtopic_code\u001b[0m\u001b[0;34m]\u001b[0m\u001b[0;34m)\u001b[0m\u001b[0;34m)\u001b[0m\u001b[0;34m\u001b[0m\u001b[0;34m\u001b[0m\u001b[0m\n\u001b[1;32m      8\u001b[0m     \u001b[0mprint\u001b[0m\u001b[0;34m(\u001b[0m\u001b[0;34m''\u001b[0m\u001b[0;34m)\u001b[0m\u001b[0;34m\u001b[0m\u001b[0;34m\u001b[0m\u001b[0m\n\u001b[0;32m----> 9\u001b[0;31m     \u001b[0mrandom_indices\u001b[0m \u001b[0;34m=\u001b[0m \u001b[0mnp\u001b[0m\u001b[0;34m.\u001b[0m\u001b[0mrandom\u001b[0m\u001b[0;34m.\u001b[0m\u001b[0mchoice\u001b[0m\u001b[0;34m(\u001b[0m\u001b[0mnp\u001b[0m\u001b[0;34m.\u001b[0m\u001b[0marange\u001b[0m\u001b[0;34m(\u001b[0m\u001b[0mlen\u001b[0m\u001b[0;34m(\u001b[0m\u001b[0mtopic_subset_incorrect\u001b[0m\u001b[0;34m)\u001b[0m\u001b[0;34m)\u001b[0m\u001b[0;34m,\u001b[0m \u001b[0;36m5\u001b[0m\u001b[0;34m)\u001b[0m\u001b[0;34m\u001b[0m\u001b[0;34m\u001b[0m\u001b[0m\n\u001b[0m\u001b[1;32m     10\u001b[0m     \u001b[0;32mfor\u001b[0m \u001b[0mindex\u001b[0m \u001b[0;32min\u001b[0m \u001b[0mrandom_indices\u001b[0m\u001b[0;34m:\u001b[0m\u001b[0;34m\u001b[0m\u001b[0;34m\u001b[0m\u001b[0m\n\u001b[1;32m     11\u001b[0m         \u001b[0mprint\u001b[0m\u001b[0;34m(\u001b[0m\u001b[0mdocument_subset\u001b[0m\u001b[0;34m[\u001b[0m\u001b[0mindex\u001b[0m\u001b[0;34m]\u001b[0m\u001b[0;34m)\u001b[0m\u001b[0;34m\u001b[0m\u001b[0;34m\u001b[0m\u001b[0m\n",
      "\u001b[0;32mmtrand.pyx\u001b[0m in \u001b[0;36mmtrand.RandomState.choice\u001b[0;34m()\u001b[0m\n",
      "\u001b[0;31mValueError\u001b[0m: a must be non-empty"
     ]
    }
   ],
   "source": [
    "for topic_code, index in topic_code_to_int.items():\n",
    "    topic_subset = test_y_predict[test_y == index]\n",
    "    topic_subset_incorrect = topic_subset[topic_subset != index]\n",
    "    document_subset = test_x[test_y == index]\n",
    "    document_subset = document_subset[topic_subset != index]\n",
    "    \n",
    "    print('------ 5 random erroneous predictions for {} ------'.format(topic_code_to_topic_dict[topic_code]))\n",
    "    print('')\n",
    "    random_indices = np.random.choice(np.arange(len(topic_subset_incorrect)), 5)\n",
    "    for index in random_indices:\n",
    "        print(document_subset[index])\n",
    "        print('')\n",
    "        print('Above classified as {}'.format(topic_code_to_topic_dict[int_to_topic_code[topic_subset_incorrect[index]]]))\n",
    "        print('')\n",
    "    print('')"
   ]
  }
 ],
 "metadata": {
  "kernelspec": {
   "display_name": "Python 3",
   "language": "python",
   "name": "python3"
  },
  "language_info": {
   "codemirror_mode": {
    "name": "ipython",
    "version": 3
   },
   "file_extension": ".py",
   "mimetype": "text/x-python",
   "name": "python",
   "nbconvert_exporter": "python",
   "pygments_lexer": "ipython3",
   "version": "3.6.8"
  }
 },
 "nbformat": 4,
 "nbformat_minor": 2
}
