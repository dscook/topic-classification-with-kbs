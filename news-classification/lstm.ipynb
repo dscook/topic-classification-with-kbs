{
 "cells": [
  {
   "cell_type": "markdown",
   "metadata": {},
   "source": [
    "# LSTM\n",
    "\n",
    "## Load imports."
   ]
  },
  {
   "cell_type": "code",
   "execution_count": 9,
   "metadata": {},
   "outputs": [],
   "source": [
    "# Make common scripts visible\n",
    "import sys\n",
    "sys.path.append('../common/')\n",
    "\n",
    "from gensim.models import KeyedVectors\n",
    "import numpy as np\n",
    "\n",
    "from loader import load_preprocessed_data\n",
    "from word_embeddings import DocToIntSequenceConverter\n",
    "from lstm import LstmPredictor\n",
    "from lookup_tables import int_to_topic_code, topic_code_to_topic_dict, topic_code_to_int\n",
    "from sklearn.metrics import classification_report"
   ]
  },
  {
   "cell_type": "markdown",
   "metadata": {},
   "source": [
    "## Load the data"
   ]
  },
  {
   "cell_type": "code",
   "execution_count": 2,
   "metadata": {},
   "outputs": [
    {
     "name": "stdout",
     "output_type": "stream",
     "text": [
      "Number of training examples: 54366\n"
     ]
    }
   ],
   "source": [
    "x, y = load_preprocessed_data('data/rcv1_no_stopwords.csv')\n",
    "x = np.array(x)\n",
    "y = np.array(y)\n",
    "\n",
    "# Split data into 60% train, 20% validation, 20% test\n",
    "total_examples = len(y)\n",
    "\n",
    "split_point_1 = int(total_examples * 0.6)\n",
    "split_point_2 = int(total_examples * 0.8)\n",
    "\n",
    "train_x = x[:split_point_1]\n",
    "train_y = y[:split_point_1]\n",
    "\n",
    "val_x = x[split_point_1:split_point_2]\n",
    "val_y = y[split_point_1:split_point_2]\n",
    "\n",
    "test_x = x[split_point_2:]\n",
    "test_y = y[split_point_2:]\n",
    "\n",
    "print('Number of training examples: {}'.format(len(train_x)))"
   ]
  },
  {
   "cell_type": "markdown",
   "metadata": {},
   "source": [
    "## Pre-process the data"
   ]
  },
  {
   "cell_type": "code",
   "execution_count": 3,
   "metadata": {},
   "outputs": [
    {
     "name": "stdout",
     "output_type": "stream",
     "text": [
      "Minimum length of article in words: 3\n",
      "Maximum length of article in words: 2392\n",
      "Mean length of article in words: 109.1119\n",
      "St dev of length of article in words: 76.5720\n",
      "Percentage of articles exceeding max sequence length limit: 0.5831%\n"
     ]
    }
   ],
   "source": [
    "# Find the length of a tweet in words\n",
    "article_lengths = np.array([len(article.split()) for article in train_x])\n",
    "\n",
    "print('Minimum length of article in words: {}'.format(np.min(article_lengths)))\n",
    "print('Maximum length of article in words: {}'.format(np.max(article_lengths)))\n",
    "print('Mean length of article in words: {:.4f}'.format(np.mean(article_lengths)))\n",
    "print('St dev of length of article in words: {:.4f}'.format(np.std(article_lengths)))\n",
    "\n",
    "# Set the max sequence length to mean plus 3 standard deviations (99.7% confidence)\n",
    "max_sequence_length = int(np.mean(article_lengths) + np.std(article_lengths)*3)\n",
    "\n",
    "# Confirm not many tweets exceed this limit\n",
    "articles_exceeding_limit = [article for article in train_x if len(article.split()) > max_sequence_length]\n",
    "percentage_articles_exceeding_limit = (len(articles_exceeding_limit)/len(train_x))*100\n",
    "print('Percentage of articles exceeding max sequence length limit: {:.4f}%'.format(percentage_articles_exceeding_limit))"
   ]
  },
  {
   "cell_type": "code",
   "execution_count": 4,
   "metadata": {},
   "outputs": [],
   "source": [
    "# Convert articles to sequence of integers representing the words\n",
    "article_to_int_seq_converter = DocToIntSequenceConverter(train_x, max_sequence_length)\n",
    "train_x_seq = article_to_int_seq_converter.convert_to_integer_sequences(train_x)\n",
    "val_x_seq = article_to_int_seq_converter.convert_to_integer_sequences(val_x)\n",
    "test_x_seq = article_to_int_seq_converter.convert_to_integer_sequences(test_x)"
   ]
  },
  {
   "cell_type": "markdown",
   "metadata": {},
   "source": [
    "## Create the LSTM and train it."
   ]
  },
  {
   "cell_type": "code",
   "execution_count": 5,
   "metadata": {},
   "outputs": [],
   "source": [
    "word_embedding_dim = 300\n",
    "word2vec_model = KeyedVectors.load_word2vec_format('../tweet-classification/embeddings/GoogleNews-vectors-negative300.bin.gz', binary=True)"
   ]
  },
  {
   "cell_type": "code",
   "execution_count": 6,
   "metadata": {},
   "outputs": [
    {
     "name": "stdout",
     "output_type": "stream",
     "text": [
      "Train on 54366 samples, validate on 18122 samples\n",
      "Epoch 1/20\n",
      "54366/54366 [==============================] - 1581s 29ms/step - loss: 0.3308 - acc: 0.9012 - val_loss: 0.2182 - val_acc: 0.9361\n",
      "Epoch 2/20\n",
      "54366/54366 [==============================] - 1542s 28ms/step - loss: 0.1933 - acc: 0.9437 - val_loss: 0.1338 - val_acc: 0.9623\n",
      "Epoch 3/20\n",
      "54366/54366 [==============================] - 1526s 28ms/step - loss: 0.1362 - acc: 0.9584 - val_loss: 0.0912 - val_acc: 0.9719\n",
      "Epoch 4/20\n",
      "54366/54366 [==============================] - 1550s 29ms/step - loss: 0.0770 - acc: 0.9763 - val_loss: 0.0837 - val_acc: 0.9740\n",
      "Epoch 5/20\n",
      "54366/54366 [==============================] - 1516s 28ms/step - loss: 0.0646 - acc: 0.9797 - val_loss: 0.0746 - val_acc: 0.9758\n",
      "Epoch 6/20\n",
      "54366/54366 [==============================] - 1527s 28ms/step - loss: 0.0529 - acc: 0.9823 - val_loss: 0.0661 - val_acc: 0.9783\n",
      "Epoch 7/20\n",
      "54366/54366 [==============================] - 1540s 28ms/step - loss: 0.0438 - acc: 0.9846 - val_loss: 0.0719 - val_acc: 0.9768\n",
      "Epoch 8/20\n",
      "54366/54366 [==============================] - 1515s 28ms/step - loss: 0.0368 - acc: 0.9871 - val_loss: 0.0787 - val_acc: 0.9771\n",
      "Epoch 9/20\n",
      "54366/54366 [==============================] - 1474s 27ms/step - loss: 0.0294 - acc: 0.9899 - val_loss: 0.0699 - val_acc: 0.9781\n"
     ]
    }
   ],
   "source": [
    "lstm = LstmPredictor(article_to_int_seq_converter.get_word_index(),\n",
    "                     word_embedding_dim,\n",
    "                     max_sequence_length,\n",
    "                     word2vec_model,\n",
    "                     len(int_to_topic_code.values()))\n",
    "lstm.train(train_x_seq, train_y, val_x_seq, val_y)"
   ]
  },
  {
   "cell_type": "markdown",
   "metadata": {},
   "source": [
    "## Make predictions and report classification accuracy."
   ]
  },
  {
   "cell_type": "code",
   "execution_count": 7,
   "metadata": {},
   "outputs": [
    {
     "name": "stdout",
     "output_type": "stream",
     "text": [
      "                        precision    recall  f1-score   support\n",
      "\n",
      "CRIME, LAW ENFORCEMENT   0.974196  0.971973  0.973083      6137\n",
      "  ECONOMIC PERFORMANCE   0.984709  0.966387  0.975462      1666\n",
      "             ELECTIONS   0.946648  0.973734  0.960000      2132\n",
      "                HEALTH   0.965553  0.945808  0.955579       978\n",
      "              RELIGION   0.933333  0.922353  0.927811       425\n",
      "                SPORTS   0.991315  0.992630  0.991972      6784\n",
      "\n",
      "             micro avg   0.976824  0.976824  0.976824     18122\n",
      "             macro avg   0.965959  0.962147  0.963984     18122\n",
      "          weighted avg   0.976905  0.976824  0.976827     18122\n",
      "\n"
     ]
    }
   ],
   "source": [
    "# Re-initialise the LSTM, will use weights from the previous training run.\n",
    "lstm = LstmPredictor(article_to_int_seq_converter.get_word_index(),\n",
    "                     word_embedding_dim,\n",
    "                     max_sequence_length,\n",
    "                     word2vec_model,\n",
    "                     len(int_to_topic_code.values()),\n",
    "                     use_saved_weights=True)\n",
    "test_y_predict = lstm.predict(test_x_seq)\n",
    "print(classification_report(test_y, test_y_predict, digits=6, target_names=topic_code_to_topic_dict.values()))"
   ]
  },
  {
   "cell_type": "markdown",
   "metadata": {},
   "source": [
    "## Find examples where predictions went wrong"
   ]
  },
  {
   "cell_type": "code",
   "execution_count": 10,
   "metadata": {},
   "outputs": [
    {
     "name": "stdout",
     "output_type": "stream",
     "text": [
      "------ 5 random erroneous predictions for CRIME, LAW ENFORCEMENT ------\n",
      "\n",
      "Former_Ecuadoran presidential candidate Jaime_Nebot Christian_Democrat Abdala_Bucaram last interview President_Bucaram slander Rightist leader Nebot populist Bucaram last year election points Expreso newspaper suit president Bucaram official visit Peru tour Nicaragua Panama Peru Bucaram Nebot road construction project port city Guayaquil Bucaram power base mayor courts insult Nebot Bucaram lawyer Lebanese descent Nebot aloud Bucaram wealth Allegations corruption court sent Bucaram self-imposed exile mayor Guayaquil Bucaram champion Ecuador poor dispossessed home Guayaquil suburbs bristles journalists wealth lottery money work come rich Nebot Maria_Veronica_Barreiros Quito_Newsroom_+5932\n",
      "\n",
      "Above classified as ELECTIONS\n",
      "\n",
      "Violence armed gangs soccer supporters rise Romania commentators general moral deterioration Balkan country years fall communism major Romanian teams groups unruly supporters wide variety primitive weapons sport exotic names violence soccer stadium Romania social violence junior Sports_Minister_Emeric_Ienei former Romanian national team coach Reuters soccer important Romania entire social fabric danger violence stadiums month supporters Dinamo_Bucharest fires stadium main rival Steaua_Bucharest seats police parking lot troublemakers FANS SMUGGLE_INCENDIARY_BOMBS_INTO_STADIUM_Initial crowds Hundreds fans primitive incendiary bombs past guards stadium soft drink cans big base drums cans furniture varnish inflamable dense smoke Dinamo supporter local television channel Leaflets buildings game Dinamo fans Steaua Steaua stadium Soccer authorities quick action Dinamo repairs club fine next home games closed doors courts Fifty-nine fans custody years jail arson others fines country average monthly wages Romania crime-ridden streets soccer gangs roam matches shop windows car windscreens hijacking buses adopt names Red_Brigades Dracula_Commando New_Ultra_Army little politics Romanians soccer cloak slogans communist authority plenty class consciousness OLD_RIVALRIES HATREDS_REMAIN Fans Steaua army denounce supporters Dinamo Interior_Ministry red dogs taunt pervasive Securitate police dictator Nicolae_Ceausescu Rapid Bucharest working class team railway employees Transport_Ministry rivals capital defenders ruling classes Outside Bucharest Universitatea_Craiova feared fans club consecutive home matches neutral stadium supporters cars buses southwestern city violent incident recent years Rapid fans stones train supporters Pitesti years person carriages year-old Steaua supporter year knife fight Rapid fans Soccer officials part explanation violence general decline national game Dozens talented players clubs top salaries average attendance matches Romanians long communist oppression instincts stadium Romanian Soccer_Federation General_Secretary Adalbert_Kassai Reuters fans coaches trainers bad refereeing Team officials supporters complete disregard decisions Federation referees bad calls matches right results international repercussions Romanian referee FIFA UEFA European World_Cup finals World_Cup Italy\n",
      "\n",
      "Above classified as SPORTS\n",
      "\n",
      "Argentine judge soccer star Diego_Maradona manager cocaine Guillermo_Coppola middleman major drug-smuggling organisation investigation drug-trafficking network Judge_Hernan_Bernasconi reporters impression Coppola middle-level weeks police pound grams cocaine flower pot home Coppola drugs sale custody years prison silver-haired 49-year-old drugs judge home party days raid Maradona women late next day Bernasconi important necessary certain people evidence example Maradona 36-year-old player drug habit evidence Buenos_Aires judge next week Maradona Coppola arrest week hidden dark political economic interests friend prosecution hero Argentina World_Cup title lawyers trust justice system Judge_Hernan_Bernasconi world expensive player Maradona career 15-month drugs ban U.S._World_Cup Buenos_Aires Boca Juniors Many Coppola Maradona drug habit Swiss clinic days last month Days berserk Spanish hotel lobby case government Coppola President_Carlos_Menem Maradona friend late son private secretary Menem local radio case integrity Argentina much-maligned justice system Judge_Bernasconi decision course right Maradona brother-in-law Gabriel_Esposito ex-soccer player Alberto_Tarantini girlfriend drug rehabilitation men Coppola\n",
      "\n",
      "Above classified as SPORTS\n",
      "\n",
      "sons Tajikistan chief Moslem cleric armed band sign chronic instability former Soviet republic men house mufti Amunullo_Negmatzoda guards sons Negmatzoda time local police official Reuters telephone late Tajik interior ministry source third son 29-year-old Dzhaloleddin house Officials incident place village Daryabad km miles south-east Tajik capital Dushanbe Tajikistan rogue bands responsible Tajikistan secular government united Islamist opposition final peace agreement Moscow years civil war tens thousands people many others refugees shaky peace maverick bands influence Central_Asian state people Afghanistan China\n",
      "\n",
      "Above classified as RELIGION\n",
      "\n",
      "Western influences evils capitalism rise wife child beating China Comprehensive_Weekly All-China_Women Federation letters incidents family violence times number previous year newspaper edition Beijing Market-oriented reforms many Western social evils hold China newspaper corrupt aspects Western society nation doors something profound attention Chinese people China marked rise social problems violent crime rapid rise living standards economic reform problems backlash Western ideas culture\n",
      "\n",
      "Above classified as RELIGION\n",
      "\n",
      "\n",
      "------ 5 random erroneous predictions for ECONOMIC PERFORMANCE ------\n",
      "\n",
      "Chancellor Exchequer_Kenneth_Clarke opposition Labour party plans windfall tax privatised utilities British Telecom Britain economic performance Labour companies tax Clarke BT news conference improved telecoms services BT important factor foreign investment Britain British Telecoms successful privatisations Clarke tax costs tax British Telecoms contrary interests UK_Ltd excellent economic performance windfall tax due pounds pounds key British industries serious threat continued recovery Labour finance spokesman Gordon_Brown windfall tax job-creation programmes young people one-off levy consultation regulators utilities under-valuation regulatory regimes Clarke Labour windfall tax plans old-fashioned method jobs disgraceful Labour much revenue windfall tax companies Richard_Murphy London_Newsroom\n",
      "\n",
      "Above classified as ELECTIONS\n",
      "\n",
      "International_Monetary_Fund official economic management Kenya civil service corruption neglected infrastructure poor marketing tourism Walter_Mahler three-year tour duty IMF resident representative Kenya variety economic reforms period inflation single digit percent economic decline country obvious things garbage repair roads example traffic lights major street city centre three-and-a-half months rocket science Mahler news briefing system local government clear present one Mahler Mahler little imagination Kenya tourist destination Kenya kind tourist safaris years alternatives parks beaches Kenyan authorities money rise tourist acitivity country Tourism Kenya foreign exchange earner Mahler international donor countries agencies IMF World_Bank corruption Kenya agendas nothing serious concern Kenya good counter-argument issue Mahler IMF official international companies bribes favours American-type laws foreign official criminal offence practice Mahler future trimmed well-paid civil service wages major incentive corruption police judicial officers actions wastage health sector poor equipment use oversupply non-essential expensive medicines under-use supplied medicines general elections due time Mahler fears economy unusual economic policies period government money votes landmark pluralist elections inflation peak percent shilling all-time low dollar Mahler prudent fiscal measures place central bank treasury round measures economic growth Kenya gross domestic product GDP growth percent percent Mahler successor Reimer_Carstens Kenya IMF mission assistant director African department Hiroyuki_Hino due Kenya next week Kenya progress economic targets IMF donors aid purses\n",
      "\n",
      "Above classified as CRIME, LAW ENFORCEMENT\n",
      "\n",
      "Germans beleaguered economy last month German pollster Politbarometer poll Electoral_Research_Group ZDF television percent Germans economy percent Federation German Industry dynamic exports capital investment grounds optimism whole economy sluggish Chancellor_Helmut_Kohl record unemployment government plans sweeping tax pension reform economy survey Germans opposition Social_Democrats SPD able country economic problems Kohl Christian Democrats Bavarian_sister party Christian_Social_Union CDU CSU percent Germans CDU CSU able Germany economic problems number SPD able problems percent major party Kohl popular SPD leader Oskar_Lafontaine percent percent SPD politician SPD premier Lower_Saxony premier Gerhard_Schroeder potential chancellor candidate general election year Kohl percent support Schroeder percent general election percent last month CDU CSU percent junior coalition partner Free Democrats Thirty-six percent SPD point last month survey telephone interviews Germans margin error percent parties ones\n",
      "\n",
      "Above classified as ELECTIONS\n",
      "\n",
      "Bulgaria ambitious reform plan difficult key elements speedy sell-offs banks tax evasion time analysts problem confidence currency banks domestic foreign debts tax reform deficit need time Krassen_Stanchev director Institute Market_Economics difficult reform fail Stanchev Reuters Bulgaria package credits worth International_Monetary_Fund World_Bank European_Union G-24 industrialised countries IMF accord way negotiations Paris_Club rescheduling foreign debt payments year condition IMF accord Bulgaria restrictive fixed exchange rate regime confidence economy Central bank lending budget commercial banks currency board system Privatisation proceeds taxes source budget revenue Bulgaria foreign domestic debt gross domestic product GDP ratio percent calculation method Economy_Institute Bulgarian_Academy Sciences BAS debt payments budget spending percent deficit difficult BAS expert Garabed_Minasian IMF agreement budget deficit percent GDP last year percent Bulgaria privatisation major state firms year major sell-offs Economic Policy_Minister_Krassimir_Angarski urgent revision tax laws budget revenue Businesses taxes percent GDP BAS Asset stripping state enterprises small group private firms causes Bulgaria grave economic crisis Analysts corrupt business interests radical reform plans country troubled banks deposits closed banks funds currency board central bank role lender last resort insolvent illiquid banks currency board system Angarski Bulgaria majority stakes big state banks mid-1998 state Bulbank Post_Bank Biochimbank United_Bulgarian_Bank Hebrosank Expressbank lev drastic slump banks long positions foreign exchange private banks share percent local market particular market niche bankruptcy Stanchev Bank_Consolidation_Company procedures bank sales tenders direct talks investors procedure new government elections Bulgaria banks insolvent courts Crystalbank Mineralbank Private_Agricultural_Investment_Bank Trade Savings_Bank receivership IMF cabinet revision bank insolvency law swift resolution court cases liquidation closed banks Sofia Newsroom\n",
      "\n",
      "Above classified as CRIME, LAW ENFORCEMENT\n",
      "\n",
      "fears Hong_Kong people handover China weeks economic ruin heavy hand Beijing leadership freedoms Others end years British rule midnight handover end chapter foreign occupation China Many fingers business usual China late paramount leader Deng_Xiaoping pledge country systems people Hong_Kong considerable autonomy affairs Communism south territory freewheeling capitalist ways undreamed prosperity community refugees communism Hong_Kong sidelines British Chinese administrations angry words Beijing plans laws civil liberties Hong_Kong elected legislature control important cornerstone destiny economy Hong_Kong populace worries score clock Financial_Secretary_Donald_Tsang budget speech budget transition able rosy picture Last week Tsang economy solid percent year last year percent real growth Gross_Domestic_Product trade Hong_Kong lifeblood Hong_Kong life Special Administrative Region China sound economic shape prospect attractive business location region confidence poll local broadcaster Asia_Television percent respondents confidence territory prosperous Chinese rule points similar survey Tsang colleagues top tier civil service popular influential Anson_Chan deputy governor Chris_Patten handover Opinion polls broad welcome decision Hong_Kong future leader magnate Tung_Chee-hwa continuity re-appoint powerful civil service chiefs Tung China-appointed caucus everything way view political freedoms second place bread-and-butter issues Hong_Kong vocal pro-democracy lobby cost housing mismatch skills education real problems people Tung CNN interview Tung Democratic_Party leader Martin_Lee badmouthing Hong_Kong marathon tour Europe Lee China proposal several territory laws civil liberties cause incalculable damage Tung tour United_States view changes technical civil liberties Martin_Lee Democratic_Party China-backed provisional legislature Legislative Council Legco handover Party leaders two-month-long fundraising drive coffers able year wilderness Legco China planned dissolution legislature replacement interim body stroke democratic reforms Patten Beijing fury Democrats elections Patten revised rules comeback polls next year funds elections Democratic Party vice-chairman Yeung_Sum telephone\n",
      "\n",
      "Above classified as ELECTIONS\n",
      "\n",
      "\n"
     ]
    },
    {
     "name": "stdout",
     "output_type": "stream",
     "text": [
      "------ 5 random erroneous predictions for ELECTIONS ------\n",
      "\n",
      "governor Pakistan Punjab province provincial parliament political fate chief minister court Governor_Raja_Saroop_Khan Chief_Minister_Manzoor_Ahmad_Wattoo vote confidence 248-seat provincial assembly office official APP news agency Lahore_High_Court Wattoo office months ouster move setback Prime_Minister_Benazir_Bhutto three-judge bench court Wattoo Bhutto recommendation days majority assembly bench order Wattoo vote confidence chief minister Arif_Nakai party Bhutto federal governing coalition power Punjab Saroop_Khan retired army general Bhutto confidant order satisfied Wattoo office confidence majority members provincial assembly confidence vote separate move Punjab Speaker_Mohammad_Hanif_Ramay session legislature no-confidence motion Wattoo Nakai People Democratic Front PDF date vote motion minimum maximum days Political sources Wattoo chances confidence vote appeared slim PDF majority assembly main opposition Pakistan_Muslim_League party former prime minister Nawaz_Sharif support President_Farooq_Leghari Bhutto mandatory advice Wattoo last year revolt provincial ministers Nakai power fertile central province borders India Wattoo return power blow Bhutto government pressure opposition protests Bhutto general elections Wattoo top political post Punjab exchange opposition Sharif party support federal government coalitions provinces Bhutto Wattoo party deputies Wattoo corruption\n",
      "\n",
      "Above classified as CRIME, LAW ENFORCEMENT\n",
      "\n",
      "Croatia President_Franjo_Tudjman commitment peace Bosnia country economy second five-year term impartial president Croats Croatian citizens political affiliations Tudjman autocratic rule inauguration speech Diplomats firm grip Croatia fate Western_Europe obligations Balkan peace accord Dayton United_States commitments indicted Bosnian Croats international war crimes tribunal return Serb war refugees nationalist Bosnian Croat opposition Croat-Moslem federation support Dayton Federation Tudjman re-elected strong mandate gathering top state army church officials foreign ambassadors ceremony place packed central Zagreb square hot summer morning several people crowd pass Tudjman chance Croatia commitment Bosnian peace Moslem chairman Bosnia collective presidency Alija_Izetbegovic Adriatic port Split meeting several times last months U.S. diplomat Richard_Holbrooke Dayton peace accord 76-year-old former Yugoslav army general U.S. officials cancer last year healthy firm voice doctors reports therapy special attention cooperation United_States European_Union Russia China Islamic countries Tudjman country federal Yugoslavia corruption reconstruction rebuilding economy war loss traditional markets Yugoslavia several years considerable financial means understanding entire nation employment Gross_Domestic_Product living standards main domestic threat Tudjman rule dissatisfaction majority Croats ends meet gap rich poor hasty privatisation small wealthy party\n",
      "\n",
      "Above classified as ECONOMIC PERFORMANCE\n",
      "\n",
      "majority British businesses change government little difference prospects survey Reed_Personnel_Services Times recruitment specialist businesses percent change difference paper Fifteen percent successful Labour London_Newsroom\n",
      "\n",
      "Above classified as ECONOMIC PERFORMANCE\n",
      "\n",
      "Croatia President_Franjo_Tudjman commitment peace Bosnia country economy second five-year term impartial president Croats Croatian citizens political affiliations Tudjman autocratic rule inauguration speech Diplomats firm grip Croatia fate Western_Europe obligations Balkan peace accord Dayton United_States commitments indicted Bosnian Croats international war crimes tribunal return Serb war refugees nationalist Bosnian Croat opposition Croat-Moslem federation support Dayton Federation Tudjman re-elected strong mandate gathering top state army church officials foreign ambassadors ceremony place packed central Zagreb square hot summer morning several people crowd pass Tudjman chance Croatia commitment Bosnian peace Moslem chairman Bosnia collective presidency Alija_Izetbegovic Adriatic port Split meeting several times last months U.S. diplomat Richard_Holbrooke Dayton peace accord 76-year-old former Yugoslav army general U.S. officials cancer last year healthy firm voice doctors reports therapy special attention cooperation United_States European_Union Russia China Islamic countries Tudjman country federal Yugoslavia corruption reconstruction rebuilding economy war loss traditional markets Yugoslavia several years considerable financial means understanding entire nation employment Gross_Domestic_Product living standards main domestic threat Tudjman rule dissatisfaction majority Croats ends meet gap rich poor hasty privatisation small wealthy party\n",
      "\n",
      "Above classified as ECONOMIC PERFORMANCE\n",
      "\n",
      "Kremlin drip-fed media information President_Boris_Yeltsin heart operation doctors ready date Kremlin spokesman Russian specialist Renat_Akchurin operation team Cardiology_Research_Centre jumble glass concrete buildings western Moscow suburb Security tight building Police dogs checked cars guards grounds Kremlin press office bulletin Yeltsin health Interfax news agency medical sources doctors meeting p.m. GMT doctors U.S. surgeon Michael_DeBakey due Yeltsin fit triple quadruple bypass blood supply heart DeBakey Moscow United_States Russian officials airport crowd journalists DeBakey consultant operation surgeon knife last week doctors early week Yeltsin long Kremlin tradition secrecy health leaders operation heart doctors month weeks surgery six-week deadline week Doctors Russian president blood thyroid problems healthy recent television appearances Yeltsin powers Prime_Minister_Viktor_Chernomyrdin operation meeting influential Security_Council Moscow council president groups senior Russian ministers security officials Kremlin clear Yeltsin Chernomyrdin control Russia nuclear arsenal surgery second decree hours plan Yeltsin heart attacks last year concern health political economic scene Communist_Party candidate Gennady_Zyuganov second term Kremlin Zyuganov communists low profile State_Duma house parliament single party candidates many local elections Russia local polls six-month period allow voters new regional governor polls important national level regional governors members Federation_Council upper house parliament communist-backed candidate seat upper house remote northeastern region Magadan location many Soviet-era dictator Josef_Stalin prison camps second vote candidate Vladimir_Zhirinovsky extreme nationalist Liberal_Democratic_Party Zhirinovsky flamboyant times outrageous character Yevgeny_Mikhailov northwestern region Pskov Baltic former Soviet republic Estonia Russia unresolved border dispute Estonia Pskov region Kremlin relations Baltic state presence large ethnic Russian minority\n",
      "\n",
      "Above classified as HEALTH\n",
      "\n",
      "\n",
      "------ 5 random erroneous predictions for HEALTH ------\n",
      "\n",
      "China total patents percent previous year Businesss_News percent patents behalf foreigners foreign companies percent newspaper end China accumulated patents\n",
      "\n",
      "Above classified as CRIME, LAW ENFORCEMENT\n",
      "\n",
      "Note contents reverse order printed Journal Directive European_Parliament Council protection occupants motor vehicles event frontal impact Directive Directive European_Parliament Council posting workers framework provision services END_OF_DOCUMENT\n",
      "\n",
      "Above classified as CRIME, LAW ENFORCEMENT\n",
      "\n",
      "Anti-smoking groups retailers new rules cigarettes minors violations health authorities Feb. illegal cigarettes smokeless tobacco anyone businesses photo I.D anyone new Food Drug_Administration rules teen smoking Action Smoking Health ASH health education groups information new rules businesses violations toll-free FDA telephone line FDA officials merchants reports complaints official check business Violators fines States laws teenagers day Merchants noses state laws sale cigarettes kids ASH director John_Banzhaf Children packs year operations kids trouble cigarettes\n",
      "\n",
      "Above classified as CRIME, LAW ENFORCEMENT\n",
      "\n",
      "Britain ruling Conservatives controversy food safety reports cabinet rift study abattoir hygiene conditions bad news government run-up general election opinion polls Conservatives opposition Labour_Party points time Prime_Minister_John_Major leadership party mutinies Britain role Europe united pre-election front headlines cabinet conflict report unhygienic conditions abattoirs disease supplies Scotland people E.coli food outbreak Scottish Secretary_Michael_Forsyth damaging limitation exercise reports incandescent rage Agriculture_Minister_Douglas_Hogg handling report Forsyth office unusual step night statement food report cabinet split angry suggestion rift Douglas_Hogg issue angry suggestion ministers report somewhow BBC_Radio Labour scornful Scottish spokesman George_Robertson claiming people country Hogg fire handling mad cow crisis parliament report Professor_Hugh_Pennington scientist government E.coli outbreak report investigation Labour government report top ministerial admission possible link mad cow disease Bovine_Spongiform_Encephalopathy BSE human equivalent Creutzfeld-Jakob Disease CJD crisis mad cow disease European_Union British beef exports ban country beef industry widespread operations government pounds\n",
      "\n",
      "Above classified as ELECTIONS\n",
      "\n",
      "angry ice hockey players sin bins hot-headed psychologists people breathlessness exercise strong emotional responses elation runner high dangers athlete Sandy_Wolfson Michael_Turnbull University Northumbria volunteers exercise time simple numbers minutes rest second third test volunteers control group exercise people first place ecstatic Wolfson control people good news good good people exercise condition last place much mood non-exercisers people intense reaction Wolfson Wolfson annual meeting British Psychological Society well-known psychological theory People good emotions physical state problem exercise symptoms emotional arousal heavy breathing heartrate perspiring people period time wait little little bit state body Wolfson bad news reason body new information exercise Wolfson Turnbull questionnaire profile mood state volunteers state mind exercise Wolfson effect Say disco lot someone attractive theory person attractiveness punishment box hockey players rules opposite effect effect minutes people\n",
      "\n",
      "Above classified as SPORTS\n",
      "\n",
      "\n"
     ]
    },
    {
     "name": "stdout",
     "output_type": "stream",
     "text": [
      "------ 5 random erroneous predictions for RELIGION ------\n",
      "\n",
      "Turkey security apparatus gun tough war attrition beleaguered Islamists Prime_Minister_Necmettin_Erbakan country top prosecutor Vural_Savas case constitutional court Erbakan Islam-based Welfare_Party grounds basic tenets secularist Turkish state prospect court battle Erbakan coalition government respite parliamentary challenge 11-month-old rule clear Welfare focus actions principle secularism constitution country civil war Savas 18-page charge sheet Investor reaction Istanbul stocks percent Legal sources months verdict court case Welfare Erbakan secularist elite army plans limited Islamist reforms NATO member Turkey first Islamist leader modern times last prime minister prosecutor charges simple accusation nothing truth reporters pro-Western generals Erbakan Iran Syria army Turkish Kurd separatist rebels Turkey state-run Anatolian news agency Syrian Iraqi Iranian troops borders Kurdish enclave northern Iraq guerrillas Turkish army incursion fractious opposition briefly secularist bid Erbakan half-a-dozen votes 550-seat parliament government desertions MPs secularist wing deputies small far-right party Erbakan Prosecutor_Savas government secularist system leader Kemal_Ataturk fall religion-based Ottoman_Empire politicians manipulative treason republic Turkey great Ataturk Savas fiery speeches Erbakan Welfare members calls sharia Islamic law Turkey necessary violence Turkey security forces serious threat Islamist groups army coups fight Islamism matter life death Police dozens illegal Islamic education centres recent weeks line army request Kurdish political factions constitutional court recent years alleged separatism members new parties main opposition Motherland_Party Erbakan lukewarm support court action preferable action parliament prominent Motherland deputy Murat_Basesgioglu private NTV television party fresh censure motion ones government Foreign Minister_Tansu_Ciller head True_Path_Party coalition partner talks potential rebel backbenchers government\n",
      "\n",
      "Above classified as CRIME, LAW ENFORCEMENT\n",
      "\n",
      "Argentine air force questions newspaper interview former air force chaplain military chaplains human rights crimes Dirty_War newspaper Pagina interview 76-year-old man Antonio first admission Roman_Catholic military juntas wholesale kidnap torture murder campaign suspected leftists Official estimates people disappeared Dirty_War Human rights groups figure nearer Soldiers concentration camps stance government Argentina democracy Antonio armed forces action atmosphere communist clue Antonio identity claim prisoner Falkland_Islands_War Britain air force officer Reuters chaplain Malvinas Argentine name Falklands force air force moment officer Argentina armed forces dramatic apology years role terror Church lukewarm examination conscience position crimes military governments members clergy juntas witnesses military chaplains torturers detainees information\n",
      "\n",
      "Above classified as CRIME, LAW ENFORCEMENT\n",
      "\n",
      "Turkey ruling space army assault struggle generals hearts minds Moslem secular nation Coalition Tansu_Ciller Islamist_Prime_Minister_Necmetin_Erbakan army individual secularist politicians substitutes government Ciller deputy prime minister True_Path_Party DYP nothing attempt fellow secularists opposition shadow government Erbakan DYP anyone part action government Ciller meeting parliamentarians today stability necessary alternatives guarantee stability army country respected institution Erbakan hard rise Islamist sentiment generals matter national survival army pressure cracks coalition Analysts government Ciller due government next year power-sharing deal Erbakan government life expectancy days months Western diplomat months realistic Ciller foreign minister corruption charges last year support elections party resignation MPs dismayed willingness Islamists poor position government overthrow secularists opposition personal feuds challenge Erbakan week snap elections Istanbul stocks political crisis percent instability efforts privatisation year Higher_Board Privatisation final decisions sell-offs Board officials board sell-offs army clear Turkey turbulent party politics Turkish forces personality political party group military statement state-run Anatolian news agency story Sabah newspaper generals Ciller fight leadership Turkish right Islamist challenge Erbakan list harsh anti-Islamist measures army Welfare_Party proposals Islamic high schools next generation religious activists court members Islamist sect years jail day senior general anti-Islamist campaign question life death republic Turkey army second-largest NATO history interventions top brass unlikely coup government May_Day protesters Istanbul fights Money education gangs marchers Money health gangs Erbakan scandal last year alleged links officials right-wing gangsters\n",
      "\n",
      "Above classified as CRIME, LAW ENFORCEMENT\n",
      "\n",
      "Pope_John_Paul deeply Guatamelan soccer stadium tragedy message condolence relatives victims Pope message telegram Cardinal_Angelo_Sodano Vatican Secretary State Monsignor_Victor_Hugo_Martinez_Contreras Archbishop Quetzaltenango-Los_Altos text Vatican Holy_Father prayers eternal rest dead Lord quick return health injured consolation separation ones telegram fans stampede Mateo_Flores stadium Guatemala_City World_Cup match Guatemala Costa_Rica\n",
      "\n",
      "Above classified as SPORTS\n",
      "\n",
      "Kuwait Central_Bank governor Sheikh_Salem_Abdul-Aziz al-Sabah Islamic economy strategic goal official Kuwait_News_Agency Islamic economy strategic goal future agency Sheikh_Salem interview Islam interest lending Constant growth volume number Islamic finance institutions commendable trend economies Islamic countries atmosphere compliance rules Islamic_Sharia teachings Sheikh_Salem key tool Islamic banking Murabaha method interest payments financial institutions goods agreement client profit Efforts bank law operations Islamic banks progress envisaged law Islamic banks supervision central bank bankers firms banking activities law central bank regulations Sheikh_Salem Kuwait oversufficiency traditional commercial banks number customers principle Islamic banking units Kuwait central bank say creation Sheikh_Salem idea traditional banks Islamic banking services correct viewpoint terms compliance rules Islamic_Sharia banking unit Islamic banking activity traditional banking activity time Kuwait commercial banks banks Islamic finance institution retail banking activities branch foreign bank\n",
      "\n",
      "Above classified as ECONOMIC PERFORMANCE\n",
      "\n",
      "\n",
      "------ 5 random erroneous predictions for SPORTS ------\n",
      "\n",
      "New_York officials possible mayhem baseball World_Series ticket-scalping field-crashing Yankee_Stadium weekend Yankees fans batteries tennis balls obscenities players championship series share bad behaviour game Yankee_Stadium city first game Yankees Atlanta_Braves last Yankee_Stadium New_York_City police summonses ticket scalping disorderly conduct illegal peddling open alcohol container forgery fans fans field summonses ire Mayor_Rudolph_Giuliani mayor police unruly fans penalties anyone city lawless image Giuliani news conference fans close game interest back-up plan police stadium responsibilities stadium private security New_York_State_Attorney_General_Dennis_Vacco lawsuits Manhattan_State_Supreme_Court ticket agencies tickets prices lawsuit brushback pitch individual entity line pockets tickets events shows concerts New_York Vacco\n",
      "\n",
      "Above classified as CRIME, LAW ENFORCEMENT\n",
      "\n",
      "Clipsal_Industries Holdings Ltd unit Clipsal Malaysia Sdn_Bhd electrical accessories Commonwealth_Games Kuala_Lumpur Malaysia statement Clipsal_Malaysia extensive range branded electrical accessories games Clipsal member company Gold_Peak_Industries Holdings Ltd development manufacture marketing electrical installation products Singapore newsroom email Singapore.newsroom_@ reuters.com\n",
      "\n",
      "Above classified as CRIME, LAW ENFORCEMENT\n",
      "\n",
      "Swiss-born trainer U.S. national ski team Ulrich_Luthi days prison French police officer Alpine training slope last week Luthi court jail sentence court officer mountain rescue unit officer broken ski member U.S. team fall Luthi court police officer ski\n",
      "\n",
      "Above classified as CRIME, LAW ENFORCEMENT\n",
      "\n",
      "German prosecutors appeal jail sentence father tennis star Steffi_Graf tax evasion verdict Peter_Graf years months jail counts actual attempted tax evasion Steffi earnings free result appeals process prosecutors appeal verdict Mannheim court case Peter_Graf prosecutors statement defence lawyers withdrawal legal measure verdict Peter_Graf Graf months investigative custody investigation subsequent trial clear prison long\n",
      "\n",
      "Above classified as CRIME, LAW ENFORCEMENT\n",
      "\n",
      "reporter law suit New_Jersey_Nets John_Calipari offensive remarks coach year Calipari first season coach Dan_Garcia Mexican-American reporter Newark_Star_Ledger expletive Mexican idiot team practice Calipari remark National_Basketball_Association Calipari reporter coverage team Garcia reporter Newark_Star_Ledger comment 10-minute profanity-filled argument Calipari Garcia Nets apology Calipari Garcia specific amount damages suit Kenneth_McElwee Garcia attorney Star_Ledger research verdicts excess cases egregious facts case suit state superior court Garcia extreme humiliation emotional distress compensatory punitive damages Garcia Nets last years reult lawsuit different beat Star_Ledger sports editor Kevin_Whitmer\n",
      "\n",
      "Above classified as CRIME, LAW ENFORCEMENT\n",
      "\n",
      "\n"
     ]
    }
   ],
   "source": [
    "for topic_code, index in topic_code_to_int.items():\n",
    "    topic_subset = test_y_predict[test_y == index]\n",
    "    topic_subset_incorrect = topic_subset[topic_subset != index]\n",
    "    document_subset = test_x[test_y == index]\n",
    "    document_subset = document_subset[topic_subset != index]\n",
    "    \n",
    "    print('------ 5 random erroneous predictions for {} ------'.format(topic_code_to_topic_dict[topic_code]))\n",
    "    print('')\n",
    "    random_indices = np.random.choice(np.arange(len(topic_subset_incorrect)), 5)\n",
    "    for index in random_indices:\n",
    "        print(document_subset[index])\n",
    "        print('')\n",
    "        print('Above classified as {}'.format(topic_code_to_topic_dict[int_to_topic_code[topic_subset_incorrect[index]]]))\n",
    "        print('')\n",
    "    print('')"
   ]
  }
 ],
 "metadata": {
  "kernelspec": {
   "display_name": "Python 3",
   "language": "python",
   "name": "python3"
  },
  "language_info": {
   "codemirror_mode": {
    "name": "ipython",
    "version": 3
   },
   "file_extension": ".py",
   "mimetype": "text/x-python",
   "name": "python",
   "nbconvert_exporter": "python",
   "pygments_lexer": "ipython3",
   "version": "3.6.8"
  }
 },
 "nbformat": 4,
 "nbformat_minor": 2
}
