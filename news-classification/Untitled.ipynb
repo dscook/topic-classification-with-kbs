{
 "cells": [
  {
   "cell_type": "code",
   "execution_count": 7,
   "metadata": {},
   "outputs": [
    {
     "name": "stdout",
     "output_type": "stream",
     "text": [
      "[[0. 2.]\n",
      " [0. 0.]\n",
      " [0. 0.]\n",
      " [0. 0.]\n",
      " [0. 0.]\n",
      " [0. 0.]\n",
      " [0. 0.]\n",
      " [0. 0.]\n",
      " [0. 0.]\n",
      " [0. 0.]]\n"
     ]
    }
   ],
   "source": [
    "import numpy as np\n",
    "\n",
    "predict_y = np.zeros(shape=(10, 2))\n",
    "\n",
    "predict_y[0,1] = 2\n",
    "print(predict_y)\n",
    "\n",
    "predict_y = np.concatenate((predict_y, predict_y**2, predict_y**3, np.exp(predict_y)), axis=1)"
   ]
  },
  {
   "cell_type": "code",
   "execution_count": 10,
   "metadata": {},
   "outputs": [
    {
     "name": "stdout",
     "output_type": "stream",
     "text": [
      "[[0.        2.        0.        4.        0.        8.        1.\n",
      "  7.3890561]\n",
      " [0.        0.        0.        0.        0.        0.        1.\n",
      "  1.       ]\n",
      " [0.        0.        0.        0.        0.        0.        1.\n",
      "  1.       ]\n",
      " [0.        0.        0.        0.        0.        0.        1.\n",
      "  1.       ]\n",
      " [0.        0.        0.        0.        0.        0.        1.\n",
      "  1.       ]\n",
      " [0.        0.        0.        0.        0.        0.        1.\n",
      "  1.       ]\n",
      " [0.        0.        0.        0.        0.        0.        1.\n",
      "  1.       ]\n",
      " [0.        0.        0.        0.        0.        0.        1.\n",
      "  1.       ]\n",
      " [0.        0.        0.        0.        0.        0.        1.\n",
      "  1.       ]\n",
      " [0.        0.        0.        0.        0.        0.        1.\n",
      "  1.       ]]\n"
     ]
    }
   ],
   "source": [
    "print(predict_y)\n",
    "\n",
    "from sklearn.linear_model import LogisticRegression\n",
    "\n",
    "classifier = LogisticRegression(random_state=42, solver='lbfgs', multi_class='multinomial', C=10.0)"
   ]
  },
  {
   "cell_type": "code",
   "execution_count": 20,
   "metadata": {},
   "outputs": [
    {
     "name": "stdout",
     "output_type": "stream",
     "text": [
      "atestto\n"
     ]
    }
   ],
   "source": [
    "print(' '.join('atestto'.split('_')))"
   ]
  },
  {
   "cell_type": "code",
   "execution_count": null,
   "metadata": {},
   "outputs": [],
   "source": []
  }
 ],
 "metadata": {
  "kernelspec": {
   "display_name": "Python 3",
   "language": "python",
   "name": "python3"
  },
  "language_info": {
   "codemirror_mode": {
    "name": "ipython",
    "version": 3
   },
   "file_extension": ".py",
   "mimetype": "text/x-python",
   "name": "python",
   "nbconvert_exporter": "python",
   "pygments_lexer": "ipython3",
   "version": "3.6.8"
  }
 },
 "nbformat": 4,
 "nbformat_minor": 2
}
