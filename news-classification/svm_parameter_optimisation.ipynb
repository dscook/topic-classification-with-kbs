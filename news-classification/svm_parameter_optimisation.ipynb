{
 "cells": [
  {
   "cell_type": "markdown",
   "metadata": {},
   "source": [
    "# SVM Parameter Optimisation\n",
    "\n",
    "## Load required imports"
   ]
  },
  {
   "cell_type": "code",
   "execution_count": 2,
   "metadata": {},
   "outputs": [],
   "source": [
    "# Make common scripts visible\n",
    "import sys\n",
    "sys.path.append('../common/')\n",
    "\n",
    "from sklearn.feature_extraction.text import CountVectorizer\n",
    "from sklearn.svm import LinearSVC\n",
    "from sklearn.pipeline import Pipeline\n",
    "from sklearn.model_selection import GridSearchCV\n",
    "from sklearn.metrics import classification_report\n",
    "\n",
    "from loader import load_preprocessed_data\n",
    "from lookup_tables import topic_code_to_topic_dict"
   ]
  },
  {
   "cell_type": "markdown",
   "metadata": {},
   "source": [
    "## Load training and test data"
   ]
  },
  {
   "cell_type": "code",
   "execution_count": 3,
   "metadata": {},
   "outputs": [],
   "source": [
    "train_x, train_y = load_preprocessed_data('data/rcv1_lemmatized.csv')\n",
    "test_x, test_y = load_preprocessed_data('data/rcv1_lemmatized.csv')"
   ]
  },
  {
   "cell_type": "markdown",
   "metadata": {},
   "source": [
    "## Find the best parameters on the training set"
   ]
  },
  {
   "cell_type": "code",
   "execution_count": 4,
   "metadata": {},
   "outputs": [
    {
     "name": "stdout",
     "output_type": "stream",
     "text": [
      "Fitting 3 folds for each of 7 candidates, totalling 21 fits\n",
      "[CV] linear_svc__C=0.001 .............................................\n"
     ]
    },
    {
     "name": "stderr",
     "output_type": "stream",
     "text": [
      "[Parallel(n_jobs=1)]: Using backend SequentialBackend with 1 concurrent workers.\n"
     ]
    },
    {
     "name": "stdout",
     "output_type": "stream",
     "text": [
      "[CV] .... linear_svc__C=0.001, score=0.9724567153308836, total=  15.6s\n",
      "[CV] linear_svc__C=0.001 .............................................\n"
     ]
    },
    {
     "name": "stderr",
     "output_type": "stream",
     "text": [
      "[Parallel(n_jobs=1)]: Done   1 out of   1 | elapsed:   24.2s remaining:    0.0s\n"
     ]
    },
    {
     "name": "stdout",
     "output_type": "stream",
     "text": [
      "[CV] .... linear_svc__C=0.001, score=0.9734454671876035, total=  15.7s\n",
      "[CV] linear_svc__C=0.001 .............................................\n"
     ]
    },
    {
     "name": "stderr",
     "output_type": "stream",
     "text": [
      "[Parallel(n_jobs=1)]: Done   2 out of   2 | elapsed:   48.5s remaining:    0.0s\n"
     ]
    },
    {
     "name": "stdout",
     "output_type": "stream",
     "text": [
      "[CV] .... linear_svc__C=0.001, score=0.9731796960365551, total=  16.7s\n",
      "[CV] linear_svc__C=0.005 .............................................\n"
     ]
    },
    {
     "name": "stderr",
     "output_type": "stream",
     "text": [
      "[Parallel(n_jobs=1)]: Done   3 out of   3 | elapsed:  1.2min remaining:    0.0s\n"
     ]
    },
    {
     "name": "stdout",
     "output_type": "stream",
     "text": [
      "[CV] .... linear_svc__C=0.005, score=0.9745092197172841, total=  17.4s\n",
      "[CV] linear_svc__C=0.005 .............................................\n"
     ]
    },
    {
     "name": "stderr",
     "output_type": "stream",
     "text": [
      "[Parallel(n_jobs=1)]: Done   4 out of   4 | elapsed:  1.7min remaining:    0.0s\n"
     ]
    },
    {
     "name": "stdout",
     "output_type": "stream",
     "text": [
      "[CV] ..... linear_svc__C=0.005, score=0.975167207469704, total=  17.6s\n",
      "[CV] linear_svc__C=0.005 .............................................\n"
     ]
    },
    {
     "name": "stderr",
     "output_type": "stream",
     "text": [
      "[Parallel(n_jobs=1)]: Done   5 out of   5 | elapsed:  2.1min remaining:    0.0s\n"
     ]
    },
    {
     "name": "stdout",
     "output_type": "stream",
     "text": [
      "[CV] ..... linear_svc__C=0.005, score=0.975563723055528, total=  20.2s\n",
      "[CV] linear_svc__C=0.01 ..............................................\n"
     ]
    },
    {
     "name": "stderr",
     "output_type": "stream",
     "text": [
      "[Parallel(n_jobs=1)]: Done   6 out of   6 | elapsed:  2.6min remaining:    0.0s\n"
     ]
    },
    {
     "name": "stdout",
     "output_type": "stream",
     "text": [
      "[CV] ..... linear_svc__C=0.01, score=0.9750720031780713, total=  20.6s\n",
      "[CV] linear_svc__C=0.01 ..............................................\n"
     ]
    },
    {
     "name": "stderr",
     "output_type": "stream",
     "text": [
      "[Parallel(n_jobs=1)]: Done   7 out of   7 | elapsed:  3.1min remaining:    0.0s\n"
     ]
    },
    {
     "name": "stdout",
     "output_type": "stream",
     "text": [
      "[CV] ..... linear_svc__C=0.01, score=0.9750347659095424, total=  19.0s\n",
      "[CV] linear_svc__C=0.01 ..............................................\n"
     ]
    },
    {
     "name": "stderr",
     "output_type": "stream",
     "text": [
      "[Parallel(n_jobs=1)]: Done   8 out of   8 | elapsed:  3.5min remaining:    0.0s\n"
     ]
    },
    {
     "name": "stdout",
     "output_type": "stream",
     "text": [
      "[CV] ..... linear_svc__C=0.01, score=0.9756299460282772, total=  20.7s\n",
      "[CV] linear_svc__C=0.05 ..............................................\n"
     ]
    },
    {
     "name": "stderr",
     "output_type": "stream",
     "text": [
      "[Parallel(n_jobs=1)]: Done   9 out of   9 | elapsed:  4.0min remaining:    0.0s\n"
     ]
    },
    {
     "name": "stdout",
     "output_type": "stream",
     "text": [
      "[CV] ..... linear_svc__C=0.05, score=0.9732512331578773, total=  29.3s\n",
      "[CV] linear_svc__C=0.05 ..............................................\n",
      "[CV] ..... linear_svc__C=0.05, score=0.9728825905569167, total=  25.0s\n",
      "[CV] linear_svc__C=0.05 ..............................................\n",
      "[CV] ..... linear_svc__C=0.05, score=0.9729810271183074, total=  28.0s\n",
      "[CV] linear_svc__C=0.1 ...............................................\n",
      "[CV] ...... linear_svc__C=0.1, score=0.9723905055119674, total=  24.8s\n",
      "[CV] linear_svc__C=0.1 ...............................................\n",
      "[CV] ...... linear_svc__C=0.1, score=0.9707304152042912, total=  27.6s\n",
      "[CV] linear_svc__C=0.1 ...............................................\n",
      "[CV] ...... linear_svc__C=0.1, score=0.9721201284725671, total=  23.9s\n",
      "[CV] linear_svc__C=1 .................................................\n",
      "[CV] ........ linear_svc__C=1, score=0.9711656238620188, total=  39.8s\n",
      "[CV] linear_svc__C=1 .................................................\n",
      "[CV] ........ linear_svc__C=1, score=0.9697371035030793, total=  39.3s\n",
      "[CV] linear_svc__C=1 .................................................\n"
     ]
    },
    {
     "name": "stderr",
     "output_type": "stream",
     "text": [
      "/anaconda3/lib/python3.6/site-packages/sklearn/svm/base.py:931: ConvergenceWarning: Liblinear failed to converge, increase the number of iterations.\n",
      "  \"the number of iterations.\", ConvergenceWarning)\n"
     ]
    },
    {
     "name": "stdout",
     "output_type": "stream",
     "text": [
      "[CV] ........ linear_svc__C=1, score=0.9705307771265852, total= 1.1min\n",
      "[CV] linear_svc__C=10 ................................................\n",
      "[CV] ....... linear_svc__C=10, score=0.9696096931174893, total= 1.5min\n",
      "[CV] linear_svc__C=10 ................................................\n",
      "[CV] ........ linear_svc__C=10, score=0.967783590490696, total= 1.5min\n",
      "[CV] linear_svc__C=10 ................................................\n",
      "[CV] ....... linear_svc__C=10, score=0.9689414257806033, total= 1.7min\n"
     ]
    },
    {
     "name": "stderr",
     "output_type": "stream",
     "text": [
      "[Parallel(n_jobs=1)]: Done  21 out of  21 | elapsed: 15.6min finished\n"
     ]
    },
    {
     "name": "stdout",
     "output_type": "stream",
     "text": [
      "Best parameters found\n",
      "{'linear_svc__C': 0.01}\n"
     ]
    }
   ],
   "source": [
    "ohsumed_classifier = Pipeline([\n",
    "    ('vect', CountVectorizer(lowercase = False,\n",
    "                             binary = False,\n",
    "                             ngram_range = (1,1)\n",
    "                             )),\n",
    "    (\"linear_svc\", LinearSVC(loss='hinge', class_weight='balanced', max_iter=10000))])\n",
    "\n",
    "parameters = {\n",
    "    'linear_svc__C': [0.001, 0.005, 0.01, 0.05, 0.1, 1, 10]\n",
    "}\n",
    "\n",
    "grid_search = GridSearchCV(ohsumed_classifier, parameters, cv=3, iid=False, verbose=10)\n",
    "grid_search.fit(train_x, train_y)\n",
    "\n",
    "# Print out the best parameters found\n",
    "print('Best parameters found')\n",
    "print(grid_search.best_params_)"
   ]
  },
  {
   "cell_type": "markdown",
   "metadata": {},
   "source": [
    "# Make predictions on the test set"
   ]
  },
  {
   "cell_type": "code",
   "execution_count": 6,
   "metadata": {},
   "outputs": [
    {
     "name": "stdout",
     "output_type": "stream",
     "text": [
      "                        precision    recall  f1-score   support\n",
      "\n",
      "CRIME, LAW ENFORCEMENT   0.992154  0.986969  0.989555     29852\n",
      "  ECONOMIC PERFORMANCE   0.990389  0.995532  0.992954      8281\n",
      "             ELECTIONS   0.985420  0.989832  0.987621     10720\n",
      "                HEALTH   0.976525  0.993874  0.985123      4897\n",
      "              RELIGION   0.981231  0.990745  0.985965      2269\n",
      "                SPORTS   0.996295  0.995028  0.995661     34591\n",
      "\n",
      "             micro avg   0.991634  0.991634  0.991634     90610\n",
      "             macro avg   0.987002  0.991997  0.989480     90610\n",
      "          weighted avg   0.991659  0.991634  0.991638     90610\n",
      "\n"
     ]
    }
   ],
   "source": [
    "predict_y = grid_search.predict(test_x)\n",
    "print(classification_report(test_y, predict_y, digits=6, target_names=topic_code_to_topic_dict.values()))"
   ]
  }
 ],
 "metadata": {
  "kernelspec": {
   "display_name": "Python 3",
   "language": "python",
   "name": "python3"
  },
  "language_info": {
   "codemirror_mode": {
    "name": "ipython",
    "version": 3
   },
   "file_extension": ".py",
   "mimetype": "text/x-python",
   "name": "python",
   "nbconvert_exporter": "python",
   "pygments_lexer": "ipython3",
   "version": "3.6.8"
  }
 },
 "nbformat": 4,
 "nbformat_minor": 2
}
