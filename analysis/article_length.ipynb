{
 "cells": [
  {
   "cell_type": "markdown",
   "metadata": {},
   "source": [
    "# Article Length Analysis\n",
    "\n",
    "Load required imports."
   ]
  },
  {
   "cell_type": "code",
   "execution_count": 11,
   "metadata": {},
   "outputs": [],
   "source": [
    "# Make common scripts visible\n",
    "import sys\n",
    "sys.path.append('../common/')\n",
    "\n",
    "import numpy as np\n",
    "import matplotlib.pyplot as plt\n",
    "\n",
    "from loader import load_preprocessed_data"
   ]
  },
  {
   "cell_type": "markdown",
   "metadata": {},
   "source": [
    "Load both the RCV1 and UVigoMED data."
   ]
  },
  {
   "cell_type": "code",
   "execution_count": 9,
   "metadata": {},
   "outputs": [],
   "source": [
    "rcv1_x, rcv1_y = load_preprocessed_data('../rcv1/data/rcv1_baseline.csv')\n",
    "\n",
    "uvigomed_train_x, uvigomed_train_y = load_preprocessed_data('../uvigomed/data/uvigomed_train.csv')\n",
    "uvigomed_test_x, uvigomed_test_y = load_preprocessed_data('../uvigomed/data/uvigomed_test.csv')\n",
    "\n",
    "uvigomed_x = uvigomed_train_x + uvigomed_test_x\n",
    "uvigomed_y = uvigomed_train_y + uvigomed_test_y"
   ]
  },
  {
   "cell_type": "markdown",
   "metadata": {},
   "source": [
    "Calculate the article lengths with stopwords removed."
   ]
  },
  {
   "cell_type": "code",
   "execution_count": 7,
   "metadata": {},
   "outputs": [],
   "source": [
    "rcv1_article_lengths = np.array([len(article.split()) for article in rcv1_x])\n",
    "uvigomed_article_lengths = np.array([len(article.split()) for article in uvigomed_x])"
   ]
  },
  {
   "cell_type": "markdown",
   "metadata": {},
   "source": [
    "Plot the article lengths."
   ]
  },
  {
   "cell_type": "code",
   "execution_count": 25,
   "metadata": {},
   "outputs": [
    {
     "data": {
      "image/png": "[encoded data removed]",
      "text/plain": [
       "<Figure size 432x288 with 1 Axes>"
      ]
     },
     "metadata": {
      "needs_background": "light"
     },
     "output_type": "display_data"
    }
   ],
   "source": [
    "bins = np.linspace(0, 1000, 50)\n",
    "plt.hist(rcv1_article_lengths, bins, alpha=0.5, label='RCV1')\n",
    "plt.hist(uvigomed_article_lengths, bins, alpha=0.5, label='UVigoMED')\n",
    "plt.ylabel('Number of Articles')\n",
    "plt.xlabel('Number of Words')\n",
    "plt.title('Article Length')\n",
    "plt.xlim(0, 600)\n",
    "plt.legend(loc='upper right')\n",
    "plt.savefig('article_length.pdf', bbox_inches='tight')\n",
    "plt.show()"
   ]
  },
  {
   "cell_type": "code",
   "execution_count": null,
   "metadata": {},
   "outputs": [],
   "source": []
  }
 ],
 "metadata": {
  "kernelspec": {
   "display_name": "Python 3",
   "language": "python",
   "name": "python3"
  },
  "language_info": {
   "codemirror_mode": {
    "name": "ipython",
    "version": 3
   },
   "file_extension": ".py",
   "mimetype": "text/x-python",
   "name": "python",
   "nbconvert_exporter": "python",
   "pygments_lexer": "ipython3",
   "version": "3.6.8"
  }
 },
 "nbformat": 4,
 "nbformat_minor": 2
}
