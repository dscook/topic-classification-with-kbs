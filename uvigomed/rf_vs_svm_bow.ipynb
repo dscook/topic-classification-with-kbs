{
 "cells": [
  {
   "cell_type": "markdown",
   "metadata": {},
   "source": [
    "# Baseline Classifier Test\n",
    "\n",
    "Provides evidence that an SVM should be used over a Random Forest when operating on a bag of words representation."
   ]
  },
  {
   "cell_type": "code",
   "execution_count": 2,
   "metadata": {},
   "outputs": [
    {
     "name": "stdout",
     "output_type": "stream",
     "text": [
      "Number of words in vocabulary: 3664\n",
      "Number of words in vocabulary: 3664\n",
      "Number of words in vocabulary: 5611\n",
      "Number of words in vocabulary: 5611\n",
      "Number of words in vocabulary: 9320\n",
      "Number of words in vocabulary: 9320\n",
      "Number of words in vocabulary: 13670\n",
      "Number of words in vocabulary: 13670\n",
      "Number of words in vocabulary: 20092\n",
      "Number of words in vocabulary: 20092\n",
      "Number of words in vocabulary: 33134\n",
      "Number of words in vocabulary: 33134\n",
      "Number of words in vocabulary: 47971\n",
      "Number of words in vocabulary: 47971\n",
      "Number of words in vocabulary: 69518\n",
      "Number of words in vocabulary: 69518\n",
      "Number of words in vocabulary: 104876\n",
      "Number of words in vocabulary: 104876\n"
     ]
    }
   ],
   "source": [
    "# Make common scripts visible\n",
    "import sys\n",
    "sys.path.append('../common/')\n",
    "\n",
    "import numpy as np\n",
    "from sklearn.metrics import f1_score\n",
    "from sklearn.ensemble import RandomForestClassifier\n",
    "\n",
    "from experiments_common import shuffled_train_test_split\n",
    "from term_document_matrix import TermDocumentMatrixCreator\n",
    "from classification import run_support_vector_classifier\n",
    "from loader import load_preprocessed_data\n",
    "\n",
    "\n",
    "# To run a Random Forest on bag of words\n",
    "def run_random_forest(train_x, train_y, test_x):\n",
    "    tdm_creator = TermDocumentMatrixCreator(train_x)\n",
    "    train_tdm = tdm_creator.create_term_document_matrix(train_x)\n",
    "    test_tdm = tdm_creator.create_term_document_matrix(test_x)\n",
    "    \n",
    "    classifier = RandomForestClassifier(n_estimators=200, random_state=42, class_weight='balanced')\n",
    "    classifier.fit(train_tdm, train_y)\n",
    "    predict_y = classifier.predict(test_tdm)\n",
    "    \n",
    "    return predict_y\n",
    "\n",
    "\n",
    "# Load the already lowercased, lemmatised data\n",
    "train_x, train_y = load_preprocessed_data('data/uvigomed_train.csv')\n",
    "test_x, test_y = load_preprocessed_data('data/uvigomed_test.csv')\n",
    "\n",
    "# Join the data back together and obtain a train/test split\n",
    "x = train_x + test_x\n",
    "y = train_y + test_y\n",
    "train_x, train_y, test_x, test_y = shuffled_train_test_split(x, y)\n",
    "\n",
    "svc_results = []\n",
    "rf_results = []\n",
    "\n",
    "# Run the classifiers at each training set size\n",
    "train_sizes = [100, 200, 500, 1000, 2000, 5000, 10000, 20000, len(train_x)]\n",
    "for train_size in train_sizes:\n",
    "    \n",
    "    # Random Forest\n",
    "    predict_y = run_random_forest(train_x[:train_size], train_y[:train_size], test_x)\n",
    "    micro = f1_score(test_y, predict_y, average='micro')\n",
    "    rf_results.append(micro)\n",
    "    \n",
    "    # Support Vector Machine\n",
    "    predict_y = run_support_vector_classifier(train_x[:train_size], train_y[:train_size], test_x, C=0.01)\n",
    "    micro = f1_score(test_y, predict_y, average='micro')\n",
    "    svc_results.append(micro)"
   ]
  },
  {
   "cell_type": "markdown",
   "metadata": {},
   "source": [
    "Now plot the results."
   ]
  },
  {
   "cell_type": "code",
   "execution_count": 4,
   "metadata": {},
   "outputs": [
    {
     "data": {
      "image/png": "[encoded data removed]",
      "text/plain": [
       "<Figure size 432x288 with 1 Axes>"
      ]
     },
     "metadata": {
      "needs_background": "light"
     },
     "output_type": "display_data"
    }
   ],
   "source": [
    "import matplotlib.pyplot as plt\n",
    "\n",
    "plt.title('SVM vs Random Forest on UVigoMED Bag of Words')\n",
    "plt.ylabel('Micro $F_1$ Score')\n",
    "plt.xlabel('Training Set Size')\n",
    "plt.plot(train_sizes, svc_results,'-s', label='Support Vector Machine')\n",
    "plt.plot(train_sizes, rf_results, '-o', label='Random Forest')\n",
    "plt.legend(loc='lower right')\n",
    "plt.savefig('rf_vs_svm_bow_uvigomed.pdf', bbox_inches='tight')\n",
    "plt.show()"
   ]
  },
  {
   "cell_type": "code",
   "execution_count": null,
   "metadata": {},
   "outputs": [],
   "source": []
  }
 ],
 "metadata": {
  "kernelspec": {
   "display_name": "Python 3",
   "language": "python",
   "name": "python3"
  },
  "language_info": {
   "codemirror_mode": {
    "name": "ipython",
    "version": 3
   },
   "file_extension": ".py",
   "mimetype": "text/x-python",
   "name": "python",
   "nbconvert_exporter": "python",
   "pygments_lexer": "ipython3",
   "version": "3.6.8"
  }
 },
 "nbformat": 4,
 "nbformat_minor": 2
}
