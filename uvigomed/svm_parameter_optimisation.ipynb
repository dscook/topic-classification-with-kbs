{
 "cells": [
  {
   "cell_type": "markdown",
   "metadata": {},
   "source": [
    "# SVM Parameter Optimisation\n",
    "\n",
    "## Load required imports"
   ]
  },
  {
   "cell_type": "code",
   "execution_count": 1,
   "metadata": {},
   "outputs": [],
   "source": [
    "# Make common scripts visible\n",
    "import sys\n",
    "sys.path.append('../common/')\n",
    "\n",
    "from sklearn.feature_extraction.text import CountVectorizer\n",
    "from sklearn.svm import LinearSVC\n",
    "from sklearn.pipeline import Pipeline\n",
    "from sklearn.model_selection import GridSearchCV\n",
    "from sklearn.metrics import classification_report\n",
    "\n",
    "from loader import load_preprocessed_data\n",
    "from lookup_tables import topic_to_int"
   ]
  },
  {
   "cell_type": "markdown",
   "metadata": {},
   "source": [
    "## Load training and test data"
   ]
  },
  {
   "cell_type": "code",
   "execution_count": 2,
   "metadata": {},
   "outputs": [],
   "source": [
    "train_x, train_y = load_preprocessed_data('data/uvigomed_train.csv')\n",
    "test_x, test_y = load_preprocessed_data('data/uvigomed_test.csv')"
   ]
  },
  {
   "cell_type": "markdown",
   "metadata": {},
   "source": [
    "## Find the best parameters on the training set"
   ]
  },
  {
   "cell_type": "code",
   "execution_count": 3,
   "metadata": {},
   "outputs": [
    {
     "name": "stdout",
     "output_type": "stream",
     "text": [
      "Fitting 3 folds for each of 5 candidates, totalling 15 fits\n",
      "[CV] linear_svc__C=0.001 .............................................\n"
     ]
    },
    {
     "name": "stderr",
     "output_type": "stream",
     "text": [
      "[Parallel(n_jobs=1)]: Using backend SequentialBackend with 1 concurrent workers.\n"
     ]
    },
    {
     "name": "stdout",
     "output_type": "stream",
     "text": [
      "[CV] .... linear_svc__C=0.001, score=0.7021932830705963, total=   7.9s\n",
      "[CV] linear_svc__C=0.001 .............................................\n"
     ]
    },
    {
     "name": "stderr",
     "output_type": "stream",
     "text": [
      "[Parallel(n_jobs=1)]: Done   1 out of   1 | elapsed:   11.3s remaining:    0.0s\n"
     ]
    },
    {
     "name": "stdout",
     "output_type": "stream",
     "text": [
      "[CV] .... linear_svc__C=0.001, score=0.7090734517522803, total=   7.5s\n",
      "[CV] linear_svc__C=0.001 .............................................\n"
     ]
    },
    {
     "name": "stderr",
     "output_type": "stream",
     "text": [
      "[Parallel(n_jobs=1)]: Done   2 out of   2 | elapsed:   22.3s remaining:    0.0s\n"
     ]
    },
    {
     "name": "stdout",
     "output_type": "stream",
     "text": [
      "[CV] .... linear_svc__C=0.001, score=0.7098655323819978, total=   7.6s\n",
      "[CV] linear_svc__C=0.01 ..............................................\n"
     ]
    },
    {
     "name": "stderr",
     "output_type": "stream",
     "text": [
      "[Parallel(n_jobs=1)]: Done   3 out of   3 | elapsed:   33.2s remaining:    0.0s\n"
     ]
    },
    {
     "name": "stdout",
     "output_type": "stream",
     "text": [
      "[CV] ..... linear_svc__C=0.01, score=0.7344756682659356, total=  10.0s\n",
      "[CV] linear_svc__C=0.01 ..............................................\n"
     ]
    },
    {
     "name": "stderr",
     "output_type": "stream",
     "text": [
      "[Parallel(n_jobs=1)]: Done   4 out of   4 | elapsed:   46.5s remaining:    0.0s\n"
     ]
    },
    {
     "name": "stdout",
     "output_type": "stream",
     "text": [
      "[CV] ..... linear_svc__C=0.01, score=0.7349975996159386, total=  10.2s\n",
      "[CV] linear_svc__C=0.01 ..............................................\n"
     ]
    },
    {
     "name": "stderr",
     "output_type": "stream",
     "text": [
      "[Parallel(n_jobs=1)]: Done   5 out of   5 | elapsed:   60.0s remaining:    0.0s\n"
     ]
    },
    {
     "name": "stdout",
     "output_type": "stream",
     "text": [
      "[CV] ..... linear_svc__C=0.01, score=0.7377195389681669, total=   9.6s\n",
      "[CV] linear_svc__C=0.1 ...............................................\n"
     ]
    },
    {
     "name": "stderr",
     "output_type": "stream",
     "text": [
      "[Parallel(n_jobs=1)]: Done   6 out of   6 | elapsed:  1.2min remaining:    0.0s\n"
     ]
    },
    {
     "name": "stdout",
     "output_type": "stream",
     "text": [
      "[CV] ...... linear_svc__C=0.1, score=0.6967786154900617, total=  15.8s\n",
      "[CV] linear_svc__C=0.1 ...............................................\n"
     ]
    },
    {
     "name": "stderr",
     "output_type": "stream",
     "text": [
      "[Parallel(n_jobs=1)]: Done   7 out of   7 | elapsed:  1.5min remaining:    0.0s\n"
     ]
    },
    {
     "name": "stdout",
     "output_type": "stream",
     "text": [
      "[CV] ...... linear_svc__C=0.1, score=0.7077018037171662, total=  13.4s\n",
      "[CV] linear_svc__C=0.1 ...............................................\n"
     ]
    },
    {
     "name": "stderr",
     "output_type": "stream",
     "text": [
      "[Parallel(n_jobs=1)]: Done   8 out of   8 | elapsed:  1.8min remaining:    0.0s\n"
     ]
    },
    {
     "name": "stdout",
     "output_type": "stream",
     "text": [
      "[CV] ...... linear_svc__C=0.1, score=0.7043770581778266, total=  12.9s\n",
      "[CV] linear_svc__C=1 .................................................\n"
     ]
    },
    {
     "name": "stderr",
     "output_type": "stream",
     "text": [
      "[Parallel(n_jobs=1)]: Done   9 out of   9 | elapsed:  2.1min remaining:    0.0s\n"
     ]
    },
    {
     "name": "stdout",
     "output_type": "stream",
     "text": [
      "[CV] ........ linear_svc__C=1, score=0.6853324194653873, total=  12.5s\n",
      "[CV] linear_svc__C=1 .................................................\n",
      "[CV] ........ linear_svc__C=1, score=0.6927508401344215, total=  14.0s\n",
      "[CV] linear_svc__C=1 .................................................\n",
      "[CV] ........ linear_svc__C=1, score=0.6904500548847421, total=  14.7s\n",
      "[CV] linear_svc__C=10 ................................................\n",
      "[CV] ....... linear_svc__C=10, score=0.6844413982179575, total=  13.2s\n",
      "[CV] linear_svc__C=10 ................................................\n",
      "[CV] ....... linear_svc__C=10, score=0.6920650161168644, total=  14.3s\n",
      "[CV] linear_svc__C=10 ................................................\n",
      "[CV] ....... linear_svc__C=10, score=0.6875686059275521, total=  15.5s\n"
     ]
    },
    {
     "name": "stderr",
     "output_type": "stream",
     "text": [
      "[Parallel(n_jobs=1)]: Done  15 out of  15 | elapsed:  3.8min finished\n"
     ]
    },
    {
     "name": "stdout",
     "output_type": "stream",
     "text": [
      "Best parameters found\n",
      "{'linear_svc__C': 0.01}\n"
     ]
    }
   ],
   "source": [
    "classifier = Pipeline([\n",
    "    ('vect', CountVectorizer(lowercase = False,\n",
    "                             binary = False,\n",
    "                             ngram_range = (1,1)\n",
    "                             )),\n",
    "    (\"linear_svc\", LinearSVC(loss='hinge', class_weight='balanced', max_iter=10000))])\n",
    "\n",
    "parameters = {\n",
    "    'linear_svc__C': [0.001, 0.01, 0.1, 1, 10]\n",
    "}\n",
    "\n",
    "grid_search = GridSearchCV(classifier, parameters, cv=3, iid=False, verbose=10)\n",
    "grid_search.fit(train_x, train_y)\n",
    "\n",
    "# Print out the best parameters found\n",
    "print('Best parameters found')\n",
    "print(grid_search.best_params_)"
   ]
  },
  {
   "cell_type": "markdown",
   "metadata": {},
   "source": [
    "# Make predictions on the test set"
   ]
  },
  {
   "cell_type": "code",
   "execution_count": 4,
   "metadata": {},
   "outputs": [
    {
     "name": "stdout",
     "output_type": "stream",
     "text": [
      "                                                               precision    recall  f1-score   support\n",
      "\n",
      "                             Bacterial Infections and Mycoses   0.873031  0.808569  0.839565      1097\n",
      "                                               Virus Diseases   0.364407  0.467391  0.409524        92\n",
      "                                           Parasitic Diseases   0.849866  0.943452  0.894217       336\n",
      "                                                    Neoplasms   0.615512  0.678182  0.645329       550\n",
      "                                     Musculoskeletal Diseases   0.200000  0.250000  0.222222        56\n",
      "                                    Digestive System Diseases   0.838586  0.841802  0.840191      1043\n",
      "                                      Stomatognathic Diseases   0.796380  0.897959  0.844125       392\n",
      "                                   Respiratory Tract Diseases   0.626087  0.729730  0.673947       296\n",
      "                                Otorhinolaryngologic Diseases   0.765799  0.837398  0.800000       246\n",
      "                                      Nervous System Diseases   0.422222  0.542857  0.475000       105\n",
      "                                                 Eye Diseases   0.794271  0.844875  0.818792       361\n",
      "                                     Male Urogenital Diseases   0.880803  0.849879  0.865065       826\n",
      "       Female Urogenital Diseases and Pregnancy Complications   0.402597  0.574074  0.473282       108\n",
      "                                      Cardiovascular Diseases   0.393305  0.559524  0.461916       168\n",
      "                                 Hemic and Lymphatic Diseases   0.810319  0.820276  0.815267       651\n",
      "Congenital Hereditary and Neonatal Diseases and Abnormalities   0.760933  0.683246  0.720000       764\n",
      "                          Skin and Connective Tissue Diseases   0.057143  0.060606  0.058824        33\n",
      "                           Nutritional and Metabolic Diseases   0.409524  0.488636  0.445596       176\n",
      "                                    Endocrine System Diseases   0.846939  0.791553  0.818310       734\n",
      "                                       Immune System Diseases   0.294118  0.285714  0.289855        35\n",
      "                            Disorders of Environmental Origin   0.000000  0.000000  0.000000         5\n",
      "                                              Animal Diseases   0.731544  0.609620  0.665040       894\n",
      "               Pathological Conditions and Signs and Symptoms   0.284483  0.237410  0.258824       278\n",
      "                                        Occupational Diseases   0.527778  0.655172  0.584615        58\n",
      "                                 Chemically-Induced Disorders   0.772973  0.826590  0.798883       519\n",
      "                                          Wounds and Injuries   0.850714  0.774226  0.810669      1001\n",
      "\n",
      "                                                    micro avg   0.747783  0.747783  0.747783     10824\n",
      "                                                    macro avg   0.583436  0.617644  0.597271     10824\n",
      "                                                 weighted avg   0.756323  0.747783  0.749927     10824\n",
      "\n"
     ]
    }
   ],
   "source": [
    "predict_y = grid_search.predict(test_x)\n",
    "print(classification_report(test_y, predict_y, digits=6, target_names=topic_to_int.keys()))"
   ]
  }
 ],
 "metadata": {
  "kernelspec": {
   "display_name": "Python 3",
   "language": "python",
   "name": "python3"
  },
  "language_info": {
   "codemirror_mode": {
    "name": "ipython",
    "version": 3
   },
   "file_extension": ".py",
   "mimetype": "text/x-python",
   "name": "python",
   "nbconvert_exporter": "python",
   "pygments_lexer": "ipython3",
   "version": "3.6.8"
  }
 },
 "nbformat": 4,
 "nbformat_minor": 2
}
