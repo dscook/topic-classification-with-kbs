{
 "cells": [
  {
   "cell_type": "markdown",
   "metadata": {},
   "source": [
    "# SVM Parameter Optimisation\n",
    "\n",
    "## Load required imports"
   ]
  },
  {
   "cell_type": "code",
   "execution_count": 14,
   "metadata": {},
   "outputs": [],
   "source": [
    "# Make common scripts visible\n",
    "import sys\n",
    "sys.path.append('../common/')\n",
    "\n",
    "from sklearn.feature_extraction.text import CountVectorizer\n",
    "from sklearn.svm import LinearSVC\n",
    "from sklearn.pipeline import Pipeline\n",
    "from sklearn.model_selection import GridSearchCV\n",
    "from sklearn.metrics import classification_report\n",
    "\n",
    "from loader import load_preprocessed_data\n",
    "from lookup_tables import topic_to_int"
   ]
  },
  {
   "cell_type": "markdown",
   "metadata": {},
   "source": [
    "## Load training and test data"
   ]
  },
  {
   "cell_type": "code",
   "execution_count": 7,
   "metadata": {},
   "outputs": [],
   "source": [
    "train_x, train_y = load_preprocessed_data('data/ohsumed_no_stopwords_train.csv')\n",
    "test_x, test_y = load_preprocessed_data('data/ohsumed_no_stopwords_test.csv')"
   ]
  },
  {
   "cell_type": "markdown",
   "metadata": {},
   "source": [
    "## Find the best parameters on the training set"
   ]
  },
  {
   "cell_type": "code",
   "execution_count": 9,
   "metadata": {},
   "outputs": [
    {
     "name": "stdout",
     "output_type": "stream",
     "text": [
      "Fitting 3 folds for each of 7 candidates, totalling 21 fits\n",
      "[CV] linear_svc__C=0.001 .............................................\n"
     ]
    },
    {
     "name": "stderr",
     "output_type": "stream",
     "text": [
      "[Parallel(n_jobs=1)]: Using backend SequentialBackend with 1 concurrent workers.\n"
     ]
    },
    {
     "name": "stdout",
     "output_type": "stream",
     "text": [
      "[CV] .... linear_svc__C=0.001, score=0.7056737588652482, total=   8.7s\n",
      "[CV] linear_svc__C=0.001 .............................................\n"
     ]
    },
    {
     "name": "stderr",
     "output_type": "stream",
     "text": [
      "[Parallel(n_jobs=1)]: Done   1 out of   1 | elapsed:   12.4s remaining:    0.0s\n"
     ]
    },
    {
     "name": "stdout",
     "output_type": "stream",
     "text": [
      "[CV] .... linear_svc__C=0.001, score=0.7048229756463606, total=   7.9s\n",
      "[CV] linear_svc__C=0.001 .............................................\n"
     ]
    },
    {
     "name": "stderr",
     "output_type": "stream",
     "text": [
      "[Parallel(n_jobs=1)]: Done   2 out of   2 | elapsed:   23.7s remaining:    0.0s\n"
     ]
    },
    {
     "name": "stdout",
     "output_type": "stream",
     "text": [
      "[CV] ..... linear_svc__C=0.001, score=0.707761621953717, total=   7.9s\n",
      "[CV] linear_svc__C=0.005 .............................................\n"
     ]
    },
    {
     "name": "stderr",
     "output_type": "stream",
     "text": [
      "[Parallel(n_jobs=1)]: Done   3 out of   3 | elapsed:   35.1s remaining:    0.0s\n"
     ]
    },
    {
     "name": "stdout",
     "output_type": "stream",
     "text": [
      "[CV] .... linear_svc__C=0.005, score=0.7359519912711402, total=  11.3s\n",
      "[CV] linear_svc__C=0.005 .............................................\n"
     ]
    },
    {
     "name": "stderr",
     "output_type": "stream",
     "text": [
      "[Parallel(n_jobs=1)]: Done   4 out of   4 | elapsed:   49.8s remaining:    0.0s\n"
     ]
    },
    {
     "name": "stdout",
     "output_type": "stream",
     "text": [
      "[CV] .... linear_svc__C=0.005, score=0.7381813220547104, total=   9.7s\n",
      "[CV] linear_svc__C=0.005 .............................................\n"
     ]
    },
    {
     "name": "stderr",
     "output_type": "stream",
     "text": [
      "[Parallel(n_jobs=1)]: Done   5 out of   5 | elapsed:  1.0min remaining:    0.0s\n"
     ]
    },
    {
     "name": "stdout",
     "output_type": "stream",
     "text": [
      "[CV] ..... linear_svc__C=0.005, score=0.738139122124377, total=   9.2s\n",
      "[CV] linear_svc__C=0.01 ..............................................\n"
     ]
    },
    {
     "name": "stderr",
     "output_type": "stream",
     "text": [
      "[Parallel(n_jobs=1)]: Done   6 out of   6 | elapsed:  1.3min remaining:    0.0s\n"
     ]
    },
    {
     "name": "stdout",
     "output_type": "stream",
     "text": [
      "[CV] ...... linear_svc__C=0.01, score=0.736088379705401, total=  13.6s\n",
      "[CV] linear_svc__C=0.01 ..............................................\n"
     ]
    },
    {
     "name": "stderr",
     "output_type": "stream",
     "text": [
      "[Parallel(n_jobs=1)]: Done   7 out of   7 | elapsed:  1.5min remaining:    0.0s\n"
     ]
    },
    {
     "name": "stdout",
     "output_type": "stream",
     "text": [
      "[CV] ..... linear_svc__C=0.01, score=0.7366805375537213, total=  10.1s\n",
      "[CV] linear_svc__C=0.01 ..............................................\n"
     ]
    },
    {
     "name": "stderr",
     "output_type": "stream",
     "text": [
      "[Parallel(n_jobs=1)]: Done   8 out of   8 | elapsed:  1.8min remaining:    0.0s\n"
     ]
    },
    {
     "name": "stdout",
     "output_type": "stream",
     "text": [
      "[CV] ..... linear_svc__C=0.01, score=0.7373882176257766, total=  11.0s\n",
      "[CV] linear_svc__C=0.05 ..............................................\n"
     ]
    },
    {
     "name": "stderr",
     "output_type": "stream",
     "text": [
      "[Parallel(n_jobs=1)]: Done   9 out of   9 | elapsed:  2.0min remaining:    0.0s\n"
     ]
    },
    {
     "name": "stdout",
     "output_type": "stream",
     "text": [
      "[CV] ...... linear_svc__C=0.05, score=0.710038188761593, total=  13.5s\n",
      "[CV] linear_svc__C=0.05 ..............................................\n",
      "[CV] ..... linear_svc__C=0.05, score=0.7151920321986492, total=  14.2s\n",
      "[CV] linear_svc__C=0.05 ..............................................\n",
      "[CV] ..... linear_svc__C=0.05, score=0.7164994197556147, total=  12.7s\n",
      "[CV] linear_svc__C=0.1 ...............................................\n",
      "[CV] ...... linear_svc__C=0.1, score=0.6976268412438625, total=  14.5s\n",
      "[CV] linear_svc__C=0.1 ...............................................\n",
      "[CV] ...... linear_svc__C=0.1, score=0.7058462378061259, total=  15.4s\n",
      "[CV] linear_svc__C=0.1 ...............................................\n",
      "[CV] ...... linear_svc__C=0.1, score=0.7066011331831524, total=  14.4s\n",
      "[CV] linear_svc__C=1 .................................................\n",
      "[CV] ........ linear_svc__C=1, score=0.6826923076923077, total=  15.1s\n",
      "[CV] linear_svc__C=1 .................................................\n",
      "[CV] ........ linear_svc__C=1, score=0.6920663073879528, total=  16.2s\n",
      "[CV] linear_svc__C=1 .................................................\n",
      "[CV] ......... linear_svc__C=1, score=0.688715953307393, total=  15.0s\n",
      "[CV] linear_svc__C=10 ................................................\n",
      "[CV] ....... linear_svc__C=10, score=0.6780551009274414, total=  15.6s\n",
      "[CV] linear_svc__C=10 ................................................\n",
      "[CV] ....... linear_svc__C=10, score=0.6835391227232417, total=  16.1s\n",
      "[CV] linear_svc__C=10 ................................................\n",
      "[CV] ....... linear_svc__C=10, score=0.6858488634036453, total=  16.3s\n"
     ]
    },
    {
     "name": "stderr",
     "output_type": "stream",
     "text": [
      "[Parallel(n_jobs=1)]: Done  21 out of  21 | elapsed:  5.7min finished\n"
     ]
    },
    {
     "name": "stdout",
     "output_type": "stream",
     "text": [
      "Best parameters found\n",
      "{'linear_svc__C': 0.005}\n"
     ]
    }
   ],
   "source": [
    "ohsumed_classifier = Pipeline([\n",
    "    ('vect', CountVectorizer(lowercase = False,\n",
    "                             binary = False,\n",
    "                             ngram_range = (1,1)\n",
    "                             )),\n",
    "    (\"linear_svc\", LinearSVC(loss='hinge', class_weight='balanced', max_iter=10000))])\n",
    "\n",
    "parameters = {\n",
    "    'linear_svc__C': [0.001, 0.005, 0.01, 0.05, 0.1, 1, 10]\n",
    "}\n",
    "\n",
    "grid_search = GridSearchCV(ohsumed_classifier, parameters, cv=3, iid=False, verbose=10)\n",
    "grid_search.fit(train_x, train_y)\n",
    "\n",
    "# Print out the best parameters found\n",
    "print('Best parameters found')\n",
    "print(grid_search.best_params_)"
   ]
  },
  {
   "cell_type": "markdown",
   "metadata": {},
   "source": [
    "# Make predictions on the test set"
   ]
  },
  {
   "cell_type": "code",
   "execution_count": 16,
   "metadata": {},
   "outputs": [
    {
     "name": "stdout",
     "output_type": "stream",
     "text": [
      "                                                               precision    recall  f1-score   support\n",
      "\n",
      "                             Bacterial Infections and Mycoses   0.871470  0.813636  0.841561      1100\n",
      "                                               Virus Diseases   0.340741  0.500000  0.405286        92\n",
      "                                           Parasitic Diseases   0.839050  0.943620  0.888268       337\n",
      "                                                    Neoplasms   0.634188  0.672101  0.652595       552\n",
      "                                     Musculoskeletal Diseases   0.181818  0.285714  0.222222        56\n",
      "                                    Digestive System Diseases   0.841300  0.840497  0.840898      1047\n",
      "                                      Stomatognathic Diseases   0.820862  0.914141  0.864994       396\n",
      "                                   Respiratory Tract Diseases   0.620499  0.756757  0.681887       296\n",
      "                                Otorhinolaryngologic Diseases   0.734982  0.845528  0.786389       246\n",
      "                                      Nervous System Diseases   0.395973  0.556604  0.462745       106\n",
      "                                                 Eye Diseases   0.784461  0.864641  0.822602       362\n",
      "                                     Male Urogenital Diseases   0.877987  0.844015  0.860666       827\n",
      "       Female Urogenital Diseases and Pregnancy Complications   0.397661  0.618182  0.483986       110\n",
      "                                      Cardiovascular Diseases   0.400000  0.611765  0.483721       170\n",
      "                                 Hemic and Lymphatic Diseases   0.822153  0.802131  0.812018       657\n",
      "Congenital Hereditary and Neonatal Diseases and Abnormalities   0.777439  0.665796  0.717300       766\n",
      "                          Skin and Connective Tissue Diseases   0.034483  0.060606  0.043956        33\n",
      "                           Nutritional and Metabolic Diseases   0.415254  0.550562  0.473430       178\n",
      "                                    Endocrine System Diseases   0.856094  0.789973  0.821705       738\n",
      "                                       Immune System Diseases   0.254545  0.400000  0.311111        35\n",
      "                            Disorders of Environmental Origin   0.000000  0.000000  0.000000         5\n",
      "                                              Animal Diseases   0.748212  0.583705  0.655799       896\n",
      "               Pathological Conditions and Signs and Symptoms   0.300578  0.187050  0.230599       278\n",
      "                                        Occupational Diseases   0.459770  0.689655  0.551724        58\n",
      "                                 Chemically-Induced Disorders   0.793796  0.834933  0.813845       521\n",
      "                                          Wounds and Injuries   0.855249  0.765579  0.807933      1011\n",
      "\n",
      "                                                    micro avg   0.746804  0.746804  0.746804     10873\n",
      "                                                    macro avg   0.579176  0.630661  0.597586     10873\n",
      "                                                 weighted avg   0.761282  0.746804  0.750286     10873\n",
      "\n"
     ]
    }
   ],
   "source": [
    "predict_y = grid_search.predict(test_x)\n",
    "print(classification_report(test_y, predict_y, digits=6, target_names=topic_to_int.keys()))"
   ]
  }
 ],
 "metadata": {
  "kernelspec": {
   "display_name": "Python 3",
   "language": "python",
   "name": "python3"
  },
  "language_info": {
   "codemirror_mode": {
    "name": "ipython",
    "version": 3
   },
   "file_extension": ".py",
   "mimetype": "text/x-python",
   "name": "python",
   "nbconvert_exporter": "python",
   "pygments_lexer": "ipython3",
   "version": "3.6.8"
  }
 },
 "nbformat": 4,
 "nbformat_minor": 2
}
