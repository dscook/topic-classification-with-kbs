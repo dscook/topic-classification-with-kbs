{
 "cells": [
  {
   "cell_type": "markdown",
   "metadata": {},
   "source": [
    "# Naive Bayes\n",
    "\n",
    "## Load imports."
   ]
  },
  {
   "cell_type": "code",
   "execution_count": 1,
   "metadata": {},
   "outputs": [],
   "source": [
    "# Make common scripts visible\n",
    "import sys\n",
    "sys.path.append('../common/')\n",
    "\n",
    "import numpy as np\n",
    "\n",
    "from tweet_parser import load_data, create_topic_hashtags_dict, cleanup_tweets\n",
    "from sentence_utils import remove_stop_words_and_lemmatize\n",
    "from function_executor import apply_fn_to_list_items_in_dict\n",
    "from conversion import convert_dictionary_to_array\n",
    "from classification import run_bernoulli_naive_bayes"
   ]
  },
  {
   "cell_type": "markdown",
   "metadata": {},
   "source": [
    "## Useful lookup tables."
   ]
  },
  {
   "cell_type": "code",
   "execution_count": 2,
   "metadata": {},
   "outputs": [],
   "source": [
    "topic_code_to_int = {\n",
    "    'brexit': 0,\n",
    "    'gaza': 1,\n",
    "    'fake_news': 2,\n",
    "    'hurricane_harvey': 3,\n",
    "    'winter_olympics': 4,\n",
    "    'climate_change': 5\n",
    "}"
   ]
  },
  {
   "cell_type": "markdown",
   "metadata": {},
   "source": [
    "## Load the train and test data."
   ]
  },
  {
   "cell_type": "code",
   "execution_count": 3,
   "metadata": {},
   "outputs": [],
   "source": [
    "tweets_keyed_by_topic = load_data(80000, 'data/')\n",
    "topic_hashtags_dict = create_topic_hashtags_dict('hashtag_list/')\n",
    "tweets_keyed_by_topic_cleaned = cleanup_tweets(tweets_keyed_by_topic, topic_hashtags_dict)\n",
    "tweets_keyed_by_topic_cleaned = apply_fn_to_list_items_in_dict(tweets_keyed_by_topic_cleaned,\n",
    "                                                               remove_stop_words_and_lemmatize,\n",
    "                                                               lowercase = True,\n",
    "                                                               lemmatize = True)"
   ]
  },
  {
   "cell_type": "code",
   "execution_count": 4,
   "metadata": {},
   "outputs": [],
   "source": [
    "np.random.seed(42)\n",
    "\n",
    "# Split data into 80% train, 20% test\n",
    "x, y = convert_dictionary_to_array(tweets_keyed_by_topic_cleaned, topic_code_to_int)\n",
    "total_examples = len(y)\n",
    "split_point = int(total_examples * 0.8)\n",
    "train_x = x[:split_point]\n",
    "train_y = y[:split_point]\n",
    "test_x = x[split_point:]\n",
    "test_y = y[split_point:]"
   ]
  },
  {
   "cell_type": "markdown",
   "metadata": {},
   "source": [
    "## Assess Bernoulli Naive Bayes baseline classification performance.\n",
    "\n",
    "Run Bernoulli Naive Bayes and report classification accuracy."
   ]
  },
  {
   "cell_type": "code",
   "execution_count": 5,
   "metadata": {},
   "outputs": [
    {
     "name": "stdout",
     "output_type": "stream",
     "text": [
      "                  precision    recall  f1-score   support\n",
      "\n",
      "          brexit   0.884601  0.901641  0.893040     16145\n",
      "            gaza   0.975878  0.860934  0.914810     16165\n",
      "       fake_news   0.706940  0.842570  0.768819     15861\n",
      "hurricane_harvey   0.863265  0.881616  0.872344     16041\n",
      " winter_olympics   0.841071  0.878111  0.859192     16031\n",
      "  climate_change   0.880166  0.740687  0.804425     15757\n",
      "\n",
      "       micro avg   0.851333  0.851333  0.851333     96000\n",
      "       macro avg   0.858654  0.850927  0.852105     96000\n",
      "    weighted avg   0.859056  0.851333  0.852527     96000\n",
      "\n"
     ]
    }
   ],
   "source": [
    "report = run_bernoulli_naive_bayes(train_x,\n",
    "                                   train_y,\n",
    "                                   test_x,\n",
    "                                   test_y, \n",
    "                                   topic_code_to_int.keys(),\n",
    "                                   ngram_range = (1, 1))\n",
    "print(report)"
   ]
  }
 ],
 "metadata": {
  "kernelspec": {
   "display_name": "Python 3",
   "language": "python",
   "name": "python3"
  },
  "language_info": {
   "codemirror_mode": {
    "name": "ipython",
    "version": 3
   },
   "file_extension": ".py",
   "mimetype": "text/x-python",
   "name": "python",
   "nbconvert_exporter": "python",
   "pygments_lexer": "ipython3",
   "version": "3.6.8"
  }
 },
 "nbformat": 4,
 "nbformat_minor": 2
}
