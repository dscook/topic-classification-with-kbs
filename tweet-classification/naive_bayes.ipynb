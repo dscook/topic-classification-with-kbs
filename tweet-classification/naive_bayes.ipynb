{
 "cells": [
  {
   "cell_type": "markdown",
   "metadata": {},
   "source": [
    "# Naive Bayes\n",
    "\n",
    "## Load imports."
   ]
  },
  {
   "cell_type": "code",
   "execution_count": 7,
   "metadata": {},
   "outputs": [],
   "source": [
    "# Make common scripts visible\n",
    "import sys\n",
    "sys.path.append('../common/')\n",
    "\n",
    "import numpy as np\n",
    "from sklearn.metrics import classification_report, confusion_matrix\n",
    "\n",
    "from tweet_parser import load_data, create_topic_hashtags_dict, cleanup_tweets\n",
    "from sentence_utils import remove_stop_words_and_lemmatize\n",
    "from function_executor import apply_fn_to_list_items_in_dict\n",
    "from conversion import convert_dictionary_to_array\n",
    "from classification import run_bernoulli_naive_bayes"
   ]
  },
  {
   "cell_type": "markdown",
   "metadata": {},
   "source": [
    "## Useful lookup tables."
   ]
  },
  {
   "cell_type": "code",
   "execution_count": 11,
   "metadata": {},
   "outputs": [],
   "source": [
    "topic_code_to_int = {\n",
    "    'brexit': 0,\n",
    "    'gaza': 1,\n",
    "    'fake_news': 2,\n",
    "    'hurricane_harvey': 3,\n",
    "    'winter_olympics': 4,\n",
    "    'climate_change': 5\n",
    "}\n",
    "\n",
    "int_to_topic_code = {\n",
    "    0: 'brexit',\n",
    "    1: 'gaza',\n",
    "    2: 'fake_news',\n",
    "    3: 'hurricane_harvey',\n",
    "    4: 'winter_olympics',\n",
    "    5: 'climate_change'\n",
    "}"
   ]
  },
  {
   "cell_type": "markdown",
   "metadata": {},
   "source": [
    "## Load the train and test data."
   ]
  },
  {
   "cell_type": "code",
   "execution_count": 3,
   "metadata": {},
   "outputs": [],
   "source": [
    "tweets_keyed_by_topic = load_data(80000, 'data/')\n",
    "topic_hashtags_dict = create_topic_hashtags_dict('hashtag_list/')\n",
    "tweets_keyed_by_topic_cleaned = cleanup_tweets(tweets_keyed_by_topic, topic_hashtags_dict)\n",
    "tweets_keyed_by_topic_cleaned = apply_fn_to_list_items_in_dict(tweets_keyed_by_topic_cleaned,\n",
    "                                                               remove_stop_words_and_lemmatize,\n",
    "                                                               lowercase = True,\n",
    "                                                               lemmatize = True)"
   ]
  },
  {
   "cell_type": "code",
   "execution_count": 4,
   "metadata": {},
   "outputs": [],
   "source": [
    "np.random.seed(42)\n",
    "\n",
    "# Split data into 80% train, 20% test\n",
    "x, y = convert_dictionary_to_array(tweets_keyed_by_topic_cleaned, topic_code_to_int)\n",
    "total_examples = len(y)\n",
    "split_point = int(total_examples * 0.8)\n",
    "train_x = x[:split_point]\n",
    "train_y = y[:split_point]\n",
    "test_x = x[split_point:]\n",
    "test_y = y[split_point:]"
   ]
  },
  {
   "cell_type": "markdown",
   "metadata": {},
   "source": [
    "## Assess Bernoulli Naive Bayes baseline classification performance.\n",
    "\n",
    "Run Bernoulli Naive Bayes and report classification accuracy."
   ]
  },
  {
   "cell_type": "code",
   "execution_count": 8,
   "metadata": {},
   "outputs": [
    {
     "name": "stdout",
     "output_type": "stream",
     "text": [
      "                  precision    recall  f1-score   support\n",
      "\n",
      "          brexit   0.883776  0.898173  0.890916     16145\n",
      "            gaza   0.971706  0.860439  0.912694     16165\n",
      "       fake_news   0.715100  0.830023  0.768288     15861\n",
      "hurricane_harvey   0.838611  0.874945  0.856393     16041\n",
      " winter_olympics   0.830615  0.876676  0.853024     16031\n",
      "  climate_change   0.876854  0.735229  0.799820     15757\n",
      "\n",
      "       micro avg   0.846344  0.846344  0.846344     96000\n",
      "       macro avg   0.852777  0.845914  0.846856     96000\n",
      "    weighted avg   0.853154  0.846344  0.847275     96000\n",
      "\n",
      "[[14501    69   721   263   296   295]\n",
      " [  281 13909   985   356   360   274]\n",
      " [  651   163 13165   591   755   536]\n",
      " [  139    25   910 14035   660   272]\n",
      " [  187    48   792   700 14054   250]\n",
      " [  649   100  1837   791   795 11585]]\n"
     ]
    }
   ],
   "source": [
    "predict_y = run_bernoulli_naive_bayes(train_x,\n",
    "                                      train_y,\n",
    "                                      test_x,\n",
    "                                      test_y, \n",
    "                                      ngram_range = (1, 1))\n",
    "print(classification_report(test_y, predict_y, digits=6, target_names=topic_code_to_int.keys()))\n",
    "print(confusion_matrix(test_y, predict_y))"
   ]
  },
  {
   "cell_type": "markdown",
   "metadata": {},
   "source": [
    "## Find examples where predictions went wrong"
   ]
  },
  {
   "cell_type": "code",
   "execution_count": 26,
   "metadata": {},
   "outputs": [
    {
     "name": "stdout",
     "output_type": "stream",
     "text": [
      "------ 5 random erroneous predictions for brexit ------\n",
      "\n",
      "william dalrymple seem damn american good rest thing know\n",
      "\n",
      "Above classified as fake_news\n",
      "--\n",
      "watch space wise kick road let see\n",
      "\n",
      "Above classified as winter_olympics\n",
      "--\n",
      "surprise play safe\n",
      "\n",
      "Above classified as hurricane_harvey\n",
      "--\n",
      "good news\n",
      "\n",
      "Above classified as fake_news\n",
      "--\n",
      "\n",
      "\n",
      "Above classified as hurricane_harvey\n",
      "--\n",
      "\n",
      "------ 5 random erroneous predictions for gaza ------\n",
      "\n",
      "super compelling read\n",
      "\n",
      "Above classified as winter_olympics\n",
      "--\n",
      "thought prayer go family victim lose life today\n",
      "\n",
      "Above classified as hurricane_harvey\n",
      "--\n",
      "wish hopefull morning friend 🙂 childhood child hope ..\n",
      "\n",
      "Above classified as hurricane_harvey\n",
      "--\n",
      "breaking report death\n",
      "\n",
      "Above classified as fake_news\n",
      "--\n",
      "eye-witness\n",
      "\n",
      "Above classified as hurricane_harvey\n",
      "--\n",
      "\n",
      "------ 5 random erroneous predictions for fake_news ------\n",
      "\n",
      "free £2.00 walk bet get owen smith alan moran fbpe abtv political scrapbook\n",
      "\n",
      "Above classified as brexit\n",
      "--\n",
      "russian embassy uk best teenage social medium manager\n",
      "\n",
      "Above classified as winter_olympics\n",
      "--\n",
      "thetachankawolf tfw someone woman gay spout can help dissent lived experience 🙄\n",
      "\n",
      "Above classified as winter_olympics\n",
      "--\n",
      "🐐\n",
      "\n",
      "Above classified as hurricane_harvey\n",
      "--\n",
      "indrani 🧣 damn winning get make claim mid morning shift\n",
      "\n",
      "Above classified as hurricane_harvey\n",
      "--\n",
      "\n",
      "------ 5 random erroneous predictions for hurricane_harvey ------\n",
      "\n",
      "hello cunt\n",
      "\n",
      "Above classified as fake_news\n",
      "--\n",
      "thanks 😯😜\n",
      "\n",
      "Above classified as winter_olympics\n",
      "--\n",
      "always want see name trend business insider\n",
      "\n",
      "Above classified as brexit\n",
      "--\n",
      "right\n",
      "\n",
      "Above classified as fake_news\n",
      "--\n",
      "🌊 patriotic moose lamb 🌊 president trump time help people texas come together political view\n",
      "\n",
      "Above classified as fake_news\n",
      "--\n",
      "\n",
      "------ 5 random erroneous predictions for winter_olympics ------\n",
      "\n",
      "happen\n",
      "\n",
      "Above classified as fake_news\n",
      "--\n",
      "sick\n",
      "\n",
      "Above classified as fake_news\n",
      "--\n",
      "hi paul wylie ❤️\n",
      "\n",
      "Above classified as fake_news\n",
      "--\n",
      "rep scar\n",
      "\n",
      "Above classified as hurricane_harvey\n",
      "--\n",
      "really pick permanent home winter summer waste money single use infrastructure horrible\n",
      "\n",
      "Above classified as climate_change\n",
      "--\n",
      "\n",
      "------ 5 random erroneous predictions for climate_change ------\n",
      "\n",
      "-a hint\n",
      "\n",
      "Above classified as fake_news\n",
      "--\n",
      "gop public enemy number one\n",
      "\n",
      "Above classified as fake_news\n",
      "--\n",
      "can wait get magapepepizzagate696969 thought balloon student loan debt\n",
      "\n",
      "Above classified as brexit\n",
      "--\n",
      "sakit palak layan panas tok 😪 enjoy late night downpour day ago damn\n",
      "\n",
      "Above classified as hurricane_harvey\n",
      "--\n",
      "root evil\n",
      "\n",
      "Above classified as winter_olympics\n",
      "--\n",
      "\n"
     ]
    }
   ],
   "source": [
    "for topic_code, index in topic_code_to_int.items():\n",
    "    topic_subset = predict_y[test_y == index]\n",
    "    topic_subset_incorrect = topic_subset[topic_subset != index]\n",
    "    document_subset = test_x[test_y == index]\n",
    "    document_subset = document_subset[topic_subset != index]\n",
    "    \n",
    "    print('------ 5 random erroneous predictions for {} ------'.format(topic_code))\n",
    "    print('')\n",
    "    random_indices = np.random.choice(np.arange(len(topic_subset_incorrect)), 5)\n",
    "    for index in random_indices:\n",
    "        print(document_subset[index])\n",
    "        print('')\n",
    "        print('Above classified as {}'.format(int_to_topic_code[topic_subset_incorrect[index]]))\n",
    "        print('--')\n",
    "    print('')"
   ]
  },
  {
   "cell_type": "code",
   "execution_count": null,
   "metadata": {},
   "outputs": [],
   "source": []
  }
 ],
 "metadata": {
  "kernelspec": {
   "display_name": "Python 3",
   "language": "python",
   "name": "python3"
  },
  "language_info": {
   "codemirror_mode": {
    "name": "ipython",
    "version": 3
   },
   "file_extension": ".py",
   "mimetype": "text/x-python",
   "name": "python",
   "nbconvert_exporter": "python",
   "pygments_lexer": "ipython3",
   "version": "3.6.8"
  }
 },
 "nbformat": 4,
 "nbformat_minor": 2
}
