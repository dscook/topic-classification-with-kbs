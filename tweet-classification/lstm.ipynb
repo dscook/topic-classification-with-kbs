{
 "cells": [
  {
   "cell_type": "markdown",
   "metadata": {},
   "source": [
    "# LSTM\n",
    "\n",
    "## Load imports."
   ]
  },
  {
   "cell_type": "code",
   "execution_count": 1,
   "metadata": {},
   "outputs": [
    {
     "name": "stderr",
     "output_type": "stream",
     "text": [
      "Using TensorFlow backend.\n"
     ]
    }
   ],
   "source": [
    "# Make common scripts visible\n",
    "import sys\n",
    "sys.path.append('../common/')\n",
    "\n",
    "from gensim.models import KeyedVectors\n",
    "import numpy as np\n",
    "\n",
    "from tweet_parser import load_data, create_topic_hashtags_dict, cleanup_tweets\n",
    "from sentence_utils import remove_stop_words_and_lemmatize, lowercase_all_capital_words\n",
    "from function_executor import apply_fn_to_list_items_in_dict\n",
    "from conversion import convert_dictionary_to_array\n",
    "from word_embeddings import DocToIntSequenceConverter\n",
    "from lstm import LstmPredictor\n",
    "from sklearn.metrics import classification_report"
   ]
  },
  {
   "cell_type": "markdown",
   "metadata": {},
   "source": [
    "## Useful lookup tables."
   ]
  },
  {
   "cell_type": "code",
   "execution_count": 2,
   "metadata": {},
   "outputs": [],
   "source": [
    "topic_code_to_int = {\n",
    "    'brexit': 0,\n",
    "    'gaza': 1,\n",
    "    'fake_news': 2,\n",
    "    'hurricane_harvey': 3,\n",
    "    'winter_olympics': 4,\n",
    "    'climate_change': 5\n",
    "}"
   ]
  },
  {
   "cell_type": "markdown",
   "metadata": {},
   "source": [
    "## Load the data."
   ]
  },
  {
   "cell_type": "code",
   "execution_count": 3,
   "metadata": {},
   "outputs": [],
   "source": [
    "tweets_keyed_by_topic = load_data(1000, 'data/')\n",
    "topic_hashtags_dict = create_topic_hashtags_dict('hashtag_list/')\n",
    "tweets_keyed_by_topic_cleaned = cleanup_tweets(tweets_keyed_by_topic, topic_hashtags_dict)\n",
    "tweets_keyed_by_topic_cleaned = apply_fn_to_list_items_in_dict(tweets_keyed_by_topic_cleaned,\n",
    "                                                               remove_stop_words_and_lemmatize,\n",
    "                                                               lowercase = False,\n",
    "                                                               lemmatize = False)\n",
    "tweets_keyed_by_topic_cleaned = apply_fn_to_list_items_in_dict(tweets_keyed_by_topic_cleaned,\n",
    "                                                               lowercase_all_capital_words)"
   ]
  },
  {
   "cell_type": "code",
   "execution_count": 4,
   "metadata": {},
   "outputs": [],
   "source": [
    "np.random.seed(42)\n",
    "\n",
    "# Split data into 60% train, 20% validation, 20% test\n",
    "x, y = convert_dictionary_to_array(tweets_keyed_by_topic_cleaned, topic_code_to_int)\n",
    "total_examples = len(y)\n",
    "\n",
    "split_point_1 = int(total_examples * 0.6)\n",
    "split_point_2 = int(total_examples * 0.8)\n",
    "\n",
    "train_x = x[:split_point_1]\n",
    "train_y = y[:split_point_1]\n",
    "\n",
    "val_x = x[split_point_1:split_point_2]\n",
    "val_y = y[split_point_1:split_point_2]\n",
    "\n",
    "test_x = x[split_point_2:]\n",
    "test_y = y[split_point_2:]"
   ]
  },
  {
   "cell_type": "markdown",
   "metadata": {},
   "source": [
    "Convert each tweet to a sequence of integers, a more succinct representation of each word.  Will later be used for word embedding lookup."
   ]
  },
  {
   "cell_type": "code",
   "execution_count": 5,
   "metadata": {},
   "outputs": [
    {
     "name": "stdout",
     "output_type": "stream",
     "text": [
      "Minimum length of tweet in words: 0\n",
      "Maximum length of tweet in words: 159\n",
      "Mean length of tweet in words: 11.0844\n",
      "St dev of length of tweet in words: 8.6897\n",
      "Percentage of tweets exceeding max sequence length limit: 0.4722%\n"
     ]
    }
   ],
   "source": [
    "# Find the length of a tweet in words\n",
    "tweet_lengths = np.array([len(tweet.split()) for tweet in train_x])\n",
    "\n",
    "print('Minimum length of tweet in words: {}'.format(np.min(tweet_lengths)))\n",
    "print('Maximum length of tweet in words: {}'.format(np.max(tweet_lengths)))\n",
    "print('Mean length of tweet in words: {:.4f}'.format(np.mean(tweet_lengths)))\n",
    "print('St dev of length of tweet in words: {:.4f}'.format(np.std(tweet_lengths)))\n",
    "\n",
    "# Set the max sequence length to mean plus 3 standard deviations (99.7% confidence)\n",
    "max_sequence_length = int(np.mean(tweet_lengths) + np.std(tweet_lengths)*3)\n",
    "\n",
    "# Confirm not many tweets exceed this limit\n",
    "tweets_exceeding_limit = [tweet for tweet in train_x if len(tweet.split()) > max_sequence_length]\n",
    "percentage_tweets_exceeding_limit = (len(tweets_exceeding_limit)/len(train_x))*100\n",
    "print('Percentage of tweets exceeding max sequence length limit: {:.4f}%'.format(percentage_tweets_exceeding_limit))"
   ]
  },
  {
   "cell_type": "code",
   "execution_count": 6,
   "metadata": {},
   "outputs": [],
   "source": [
    "# Convert tweets to sequence of integers representing the words\n",
    "tweet_to_int_seq_converter = DocToIntSequenceConverter(train_x, max_sequence_length)\n",
    "train_x_seq = tweet_to_int_seq_converter.convert_to_integer_sequences(train_x)\n",
    "val_x_seq = tweet_to_int_seq_converter.convert_to_integer_sequences(val_x)\n",
    "test_x_seq = tweet_to_int_seq_converter.convert_to_integer_sequences(test_x)"
   ]
  },
  {
   "cell_type": "markdown",
   "metadata": {},
   "source": [
    "## Create the LSTM and train it.\n",
    "\n",
    "First load word embeddings."
   ]
  },
  {
   "cell_type": "code",
   "execution_count": 7,
   "metadata": {},
   "outputs": [],
   "source": [
    "word_embedding_dim = 300\n",
    "word2vec_model = KeyedVectors.load_word2vec_format('embeddings/GoogleNews-vectors-negative300.bin.gz', binary=True)"
   ]
  },
  {
   "cell_type": "markdown",
   "metadata": {},
   "source": [
    "Now initialise the LSTM and train it."
   ]
  },
  {
   "cell_type": "code",
   "execution_count": 8,
   "metadata": {},
   "outputs": [
    {
     "name": "stdout",
     "output_type": "stream",
     "text": [
      "Train on 3600 samples, validate on 1200 samples\n",
      "Epoch 1/20\n",
      "3600/3600 [==============================] - 14s 4ms/step - loss: 1.1666 - acc: 0.5994 - val_loss: 0.7131 - val_acc: 0.7633\n",
      "Epoch 2/20\n",
      "3600/3600 [==============================] - 11s 3ms/step - loss: 0.6243 - acc: 0.7881 - val_loss: 0.6859 - val_acc: 0.7575\n",
      "Epoch 3/20\n",
      "3600/3600 [==============================] - 11s 3ms/step - loss: 0.4968 - acc: 0.8272 - val_loss: 0.6279 - val_acc: 0.7800\n",
      "Epoch 4/20\n",
      "3600/3600 [==============================] - 11s 3ms/step - loss: 0.4281 - acc: 0.8517 - val_loss: 0.6166 - val_acc: 0.7875\n",
      "Epoch 5/20\n",
      "3600/3600 [==============================] - 11s 3ms/step - loss: 0.3736 - acc: 0.8753 - val_loss: 0.6180 - val_acc: 0.7908\n",
      "Epoch 6/20\n",
      "3600/3600 [==============================] - 11s 3ms/step - loss: 0.3155 - acc: 0.8944 - val_loss: 0.6679 - val_acc: 0.7758\n",
      "Epoch 7/20\n",
      "3600/3600 [==============================] - 11s 3ms/step - loss: 0.2749 - acc: 0.9047 - val_loss: 0.6819 - val_acc: 0.7892\n"
     ]
    }
   ],
   "source": [
    "lstm = LstmPredictor(tweet_to_int_seq_converter.get_word_index(),\n",
    "                     word_embedding_dim,\n",
    "                     max_sequence_length,\n",
    "                     word2vec_model,\n",
    "                     len(topic_code_to_int.keys()))\n",
    "lstm.train(train_x_seq, train_y, val_x_seq, val_y)"
   ]
  },
  {
   "cell_type": "markdown",
   "metadata": {},
   "source": [
    "## Make predictions and report classification accuracy."
   ]
  },
  {
   "cell_type": "code",
   "execution_count": 12,
   "metadata": {},
   "outputs": [
    {
     "name": "stdout",
     "output_type": "stream",
     "text": [
      "                  precision    recall  f1-score   support\n",
      "\n",
      "          brexit   0.756477  0.789189  0.772487       185\n",
      "            gaza   0.888268  0.854839  0.871233       186\n",
      "       fake_news   0.687225  0.753623  0.718894       207\n",
      "hurricane_harvey   0.853659  0.845411  0.849515       207\n",
      " winter_olympics   0.680000  0.837438  0.750552       203\n",
      "  climate_change   0.849315  0.584906  0.692737       212\n",
      "\n",
      "       micro avg   0.775000  0.775000  0.775000      1200\n",
      "       macro avg   0.785824  0.777568  0.775903      1200\n",
      "    weighted avg   0.785186  0.775000  0.774035      1200\n",
      "\n"
     ]
    }
   ],
   "source": [
    "# Re-initialise the LSTM, will use weights from the previous training run.\n",
    "lstm = LstmPredictor(tweet_to_int_seq_converter.get_word_index(),\n",
    "                     word_embedding_dim,\n",
    "                     max_sequence_length,\n",
    "                     word2vec_model,\n",
    "                     len(topic_code_to_int.keys()),\n",
    "                     use_saved_weights=True)\n",
    "test_y_predict = lstm.predict(test_x_seq)\n",
    "print(classification_report(test_y, test_y_predict, digits=6, target_names=topic_code_to_int.keys()))"
   ]
  }
 ],
 "metadata": {
  "kernelspec": {
   "display_name": "Python 3",
   "language": "python",
   "name": "python3"
  },
  "language_info": {
   "codemirror_mode": {
    "name": "ipython",
    "version": 3
   },
   "file_extension": ".py",
   "mimetype": "text/x-python",
   "name": "python",
   "nbconvert_exporter": "python",
   "pygments_lexer": "ipython3",
   "version": "3.6.8"
  }
 },
 "nbformat": 4,
 "nbformat_minor": 2
}
