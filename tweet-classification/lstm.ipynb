{
 "cells": [
  {
   "cell_type": "markdown",
   "metadata": {},
   "source": [
    "# LSTM\n",
    "\n",
    "## Load imports."
   ]
  },
  {
   "cell_type": "code",
   "execution_count": 8,
   "metadata": {},
   "outputs": [],
   "source": [
    "# Make common scripts visible\n",
    "import sys\n",
    "sys.path.append('../common/')\n",
    "\n",
    "import numpy as np\n",
    "from keras.utils import to_categorical\n",
    "\n",
    "from tweet_parser import load_data, create_topic_hashtags_dict, cleanup_tweets\n",
    "from sentence_utils import remove_stop_words_and_lemmatize, lowercase_all_capital_words\n",
    "from function_executor import apply_fn_to_list_items_in_dict\n",
    "from conversion import convert_dictionary_to_array\n",
    "from word_embeddings import DocToIntSequenceConverter"
   ]
  },
  {
   "cell_type": "markdown",
   "metadata": {},
   "source": [
    "## Useful lookup tables."
   ]
  },
  {
   "cell_type": "code",
   "execution_count": 9,
   "metadata": {},
   "outputs": [],
   "source": [
    "topic_code_to_int = {\n",
    "    'brexit': 0,\n",
    "    'gaza': 1,\n",
    "    'fake_news': 2,\n",
    "    'hurricane_harvey': 3,\n",
    "    'winter_olympics': 4,\n",
    "    'climate_change': 5\n",
    "}"
   ]
  },
  {
   "cell_type": "markdown",
   "metadata": {},
   "source": [
    "## Load the data."
   ]
  },
  {
   "cell_type": "code",
   "execution_count": 3,
   "metadata": {},
   "outputs": [],
   "source": [
    "tweets_keyed_by_topic = load_data(10000, 'data/')\n",
    "topic_hashtags_dict = create_topic_hashtags_dict('hashtag_list/')\n",
    "tweets_keyed_by_topic_cleaned = cleanup_tweets(tweets_keyed_by_topic, topic_hashtags_dict)\n",
    "tweets_keyed_by_topic_cleaned = apply_fn_to_list_items_in_dict(tweets_keyed_by_topic_cleaned,\n",
    "                                                               remove_stop_words_and_lemmatize,\n",
    "                                                               lowercase = False,\n",
    "                                                               lemmatize = False)\n",
    "tweets_keyed_by_topic_cleaned = apply_fn_to_list_items_in_dict(tweets_keyed_by_topic_cleaned,\n",
    "                                                               lowercase_all_capital_words)"
   ]
  },
  {
   "cell_type": "code",
   "execution_count": 4,
   "metadata": {},
   "outputs": [],
   "source": [
    "np.random.seed(42)\n",
    "\n",
    "# Split data into 60% train, 20% validation, 20% test\n",
    "x, y = convert_dictionary_to_array(tweets_keyed_by_topic_cleaned, topic_code_to_int)\n",
    "total_examples = len(y)\n",
    "\n",
    "split_point_1 = int(total_examples * 0.6)\n",
    "split_point_2 = int(total_examples * 0.8)\n",
    "\n",
    "train_x = x[:split_point_1]\n",
    "train_y = y[:split_point_1]\n",
    "\n",
    "val_x = x[split_point_1:split_point_2]\n",
    "val_y = y[split_point_1:split_point_2]\n",
    "\n",
    "test_x = x[split_point_2:]\n",
    "test_y = y[split_point_2:]"
   ]
  },
  {
   "cell_type": "markdown",
   "metadata": {},
   "source": [
    "Convert each tweet to a sequence of integers, a more succinct representation of each word.  Will later be used for word embedding lookup."
   ]
  },
  {
   "cell_type": "code",
   "execution_count": 5,
   "metadata": {},
   "outputs": [
    {
     "name": "stdout",
     "output_type": "stream",
     "text": [
      "Minimum length of tweet in words: 0\n",
      "Maximum length of tweet in words: 155\n",
      "Mean length of tweet in words: 11.2929\n",
      "St dev of length of tweet in words: 8.4298\n",
      "Percentage of tweets exceeding max sequence length limit: 0.5833%\n"
     ]
    }
   ],
   "source": [
    "# Find the length of a tweet in words\n",
    "tweet_lengths = np.array([len(tweet.split()) for tweet in train_x])\n",
    "\n",
    "print('Minimum length of tweet in words: {}'.format(np.min(tweet_lengths)))\n",
    "print('Maximum length of tweet in words: {}'.format(np.max(tweet_lengths)))\n",
    "print('Mean length of tweet in words: {:.4f}'.format(np.mean(tweet_lengths)))\n",
    "print('St dev of length of tweet in words: {:.4f}'.format(np.std(tweet_lengths)))\n",
    "\n",
    "# Set the max sequence length to mean plus 3 standard deviations (99.7% confidence)\n",
    "max_sequence_length = int(np.mean(tweet_lengths) + np.std(tweet_lengths)*3)\n",
    "\n",
    "# Confirm not many tweets exceed this limit\n",
    "tweets_exceeding_limit = [tweet for tweet in train_x if len(tweet.split()) > max_sequence_length]\n",
    "percentage_tweets_exceeding_limit = (len(tweets_exceeding_limit)/len(train_x))*100\n",
    "print('Percentage of tweets exceeding max sequence length limit: {:.4f}%'.format(percentage_tweets_exceeding_limit))"
   ]
  },
  {
   "cell_type": "code",
   "execution_count": 15,
   "metadata": {},
   "outputs": [],
   "source": [
    "# Convert tweets to sequence of integers representing the words\n",
    "tweet_to_int_seq_converter = DocToIntSequenceConverter(train_x, max_sequence_length)\n",
    "train_x_seq = tweet_to_int_seq_converter.convert_to_integer_sequences(train_x)\n",
    "val_x_seq = tweet_to_int_seq_converter.convert_to_integer_sequences(val_x)\n",
    "test_x_seq = tweet_to_int_seq_converter.convert_to_integer_sequences(test_x)\n",
    "\n",
    "# Convert labels into one hot encoding for use with a neural network\n",
    "train_y_cat = to_categorical(train_y)\n",
    "val_y_cat = to_categorical(val_y)\n",
    "test_y_cat = to_categorical(test_y)"
   ]
  }
 ],
 "metadata": {
  "kernelspec": {
   "display_name": "Python 3",
   "language": "python",
   "name": "python3"
  },
  "language_info": {
   "codemirror_mode": {
    "name": "ipython",
    "version": 3
   },
   "file_extension": ".py",
   "mimetype": "text/x-python",
   "name": "python",
   "nbconvert_exporter": "python",
   "pygments_lexer": "ipython3",
   "version": "3.6.8"
  }
 },
 "nbformat": 4,
 "nbformat_minor": 2
}
