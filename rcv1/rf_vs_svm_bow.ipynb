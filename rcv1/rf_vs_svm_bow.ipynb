{
 "cells": [
  {
   "cell_type": "markdown",
   "metadata": {},
   "source": [
    "# Baseline Classifier Test\n",
    "\n",
    "Provides evidence that an SVM should be used over a Random Forest when operating on a bag of words representation."
   ]
  },
  {
   "cell_type": "code",
   "execution_count": 4,
   "metadata": {},
   "outputs": [
    {
     "name": "stdout",
     "output_type": "stream",
     "text": [
      "Prior class probabilities are ...\n",
      "Topic Code: GCRIM, Probability: 0.3294559099437148\n",
      "Topic Code: E11, Probability: 0.09139167862266857\n",
      "Topic Code: GVOTE, Probability: 0.11830923739101644\n",
      "Topic Code: GHEA, Probability: 0.054044807416399956\n",
      "Topic Code: GREL, Probability: 0.02504138616046794\n",
      "Topic Code: GSPO, Probability: 0.38175698046573225\n",
      "\n",
      "Size of test set is 18122\n",
      "\n",
      "Number of words in vocabulary: 1344\n",
      "Number of words in vocabulary: 1344\n",
      "Number of words in vocabulary: 3978\n",
      "Number of words in vocabulary: 3978\n",
      "Number of words in vocabulary: 5899\n",
      "Number of words in vocabulary: 5899\n",
      "Number of words in vocabulary: 14258\n",
      "Number of words in vocabulary: 14258\n",
      "Number of words in vocabulary: 20275\n",
      "Number of words in vocabulary: 20275\n",
      "Number of words in vocabulary: 43998\n",
      "Number of words in vocabulary: 43998\n",
      "Number of words in vocabulary: 59852\n",
      "Number of words in vocabulary: 59852\n",
      "Number of words in vocabulary: 121526\n",
      "Number of words in vocabulary: 121526\n"
     ]
    }
   ],
   "source": [
    "# Make common scripts visible\n",
    "import sys\n",
    "sys.path.append('../common/')\n",
    "\n",
    "import numpy as np\n",
    "from sklearn.metrics import f1_score\n",
    "from sklearn.ensemble import RandomForestClassifier\n",
    "\n",
    "from term_document_matrix import TermDocumentMatrixCreator\n",
    "from experiments_common import load_reutuers_data\n",
    "from classification import run_support_vector_classifier\n",
    "\n",
    "\n",
    "# To run a Random Forest on bag of words\n",
    "def run_random_forest(train_x, train_y, test_x):\n",
    "    tdm_creator = TermDocumentMatrixCreator(train_x)\n",
    "    train_tdm = tdm_creator.create_term_document_matrix(train_x)\n",
    "    test_tdm = tdm_creator.create_term_document_matrix(test_x)\n",
    "    \n",
    "    classifier = RandomForestClassifier(n_estimators=200, random_state=42, class_weight='balanced')\n",
    "    classifier.fit(train_tdm, train_y)\n",
    "    predict_y = classifier.predict(test_tdm)\n",
    "    \n",
    "    return predict_y\n",
    "\n",
    "\n",
    "# Load the RCV1 data\n",
    "np.random.seed(42)\n",
    "(training_data_dict,\n",
    " train_x, train_y,\n",
    " test_x, test_y,\n",
    " topic_code_to_prior_prob) = load_reutuers_data('data/rcv1_baseline.csv')\n",
    "\n",
    "svc_results = []\n",
    "rf_results = []\n",
    "\n",
    "# Run the classifiers at each training set size\n",
    "train_sizes = [12, 60, 120, 600, 1200, 6000, 12000, 60000]\n",
    "for train_size in train_sizes:\n",
    "    \n",
    "    # Random Forest\n",
    "    predict_y = run_random_forest(train_x[:train_size], train_y[:train_size], test_x)\n",
    "    micro = f1_score(test_y, predict_y, average='micro')\n",
    "    rf_results.append(micro)\n",
    "    \n",
    "    # Support Vector Machine\n",
    "    predict_y = run_support_vector_classifier(train_x[:train_size], train_y[:train_size], test_x, C=0.01)\n",
    "    micro = f1_score(test_y, predict_y, average='micro')\n",
    "    svc_results.append(micro)"
   ]
  },
  {
   "cell_type": "markdown",
   "metadata": {},
   "source": [
    "Now plot the results."
   ]
  },
  {
   "cell_type": "code",
   "execution_count": 8,
   "metadata": {},
   "outputs": [
    {
     "data": {
      "image/png": "[encoded data removed]",
      "text/plain": [
       "<Figure size 432x288 with 1 Axes>"
      ]
     },
     "metadata": {
      "needs_background": "light"
     },
     "output_type": "display_data"
    }
   ],
   "source": [
    "import matplotlib.pyplot as plt\n",
    "\n",
    "train_sizes = [12, 60, 120, 600, 1200, 6000, 12000, 60000]\n",
    "\n",
    "plt.title('SVM vs Random Forest on RCV1 Bag of Words')\n",
    "plt.ylabel('Micro $F_1$ Score')\n",
    "plt.xlabel('Training Set Size')\n",
    "plt.plot(train_sizes, svc_results,'-s', label='Support Vector Machine')\n",
    "plt.plot(train_sizes, rf_results, '-o', label='Random Forest')\n",
    "plt.legend(loc='lower right')\n",
    "plt.savefig('rf_vs_svm_bow.pdf', bbox_inches='tight')\n",
    "plt.show()"
   ]
  }
 ],
 "metadata": {
  "kernelspec": {
   "display_name": "Python 3",
   "language": "python",
   "name": "python3"
  },
  "language_info": {
   "codemirror_mode": {
    "name": "ipython",
    "version": 3
   },
   "file_extension": ".py",
   "mimetype": "text/x-python",
   "name": "python",
   "nbconvert_exporter": "python",
   "pygments_lexer": "ipython3",
   "version": "3.6.8"
  }
 },
 "nbformat": 4,
 "nbformat_minor": 2
}
