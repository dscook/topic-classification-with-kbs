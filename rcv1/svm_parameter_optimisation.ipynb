{
 "cells": [
  {
   "cell_type": "markdown",
   "metadata": {},
   "source": [
    "# SVM Parameter Optimisation\n",
    "\n",
    "## Load required imports"
   ]
  },
  {
   "cell_type": "code",
   "execution_count": 2,
   "metadata": {},
   "outputs": [],
   "source": [
    "# Make common scripts visible\n",
    "import sys\n",
    "sys.path.append('../common/')\n",
    "\n",
    "from sklearn.feature_extraction.text import CountVectorizer\n",
    "from sklearn.svm import LinearSVC\n",
    "from sklearn.pipeline import Pipeline\n",
    "from sklearn.model_selection import GridSearchCV\n",
    "from sklearn.metrics import classification_report\n",
    "\n",
    "from loader import load_preprocessed_data\n",
    "from lookup_tables import topic_code_to_topic_dict"
   ]
  },
  {
   "cell_type": "markdown",
   "metadata": {},
   "source": [
    "## Load training and test data"
   ]
  },
  {
   "cell_type": "code",
   "execution_count": 3,
   "metadata": {},
   "outputs": [],
   "source": [
    "train_x, train_y = load_preprocessed_data('data/rcv1_baseline.csv')\n",
    "test_x, test_y = load_preprocessed_data('data/rcv1_baseline.csv')"
   ]
  },
  {
   "cell_type": "markdown",
   "metadata": {},
   "source": [
    "## Find the best parameters on the training set"
   ]
  },
  {
   "cell_type": "code",
   "execution_count": 4,
   "metadata": {},
   "outputs": [
    {
     "name": "stdout",
     "output_type": "stream",
     "text": [
      "Fitting 3 folds for each of 5 candidates, totalling 15 fits\n",
      "[CV] linear_svc__C=0.001 .............................................\n"
     ]
    },
    {
     "name": "stderr",
     "output_type": "stream",
     "text": [
      "[Parallel(n_jobs=1)]: Using backend SequentialBackend with 1 concurrent workers.\n"
     ]
    },
    {
     "name": "stdout",
     "output_type": "stream",
     "text": [
      "[CV] .... linear_svc__C=0.001, score=0.9724567153308836, total=  16.5s\n",
      "[CV] linear_svc__C=0.001 .............................................\n"
     ]
    },
    {
     "name": "stderr",
     "output_type": "stream",
     "text": [
      "[Parallel(n_jobs=1)]: Done   1 out of   1 | elapsed:   24.8s remaining:    0.0s\n"
     ]
    },
    {
     "name": "stdout",
     "output_type": "stream",
     "text": [
      "[CV] .... linear_svc__C=0.001, score=0.9733792464075227, total=  17.7s\n",
      "[CV] linear_svc__C=0.001 .............................................\n"
     ]
    },
    {
     "name": "stderr",
     "output_type": "stream",
     "text": [
      "[Parallel(n_jobs=1)]: Done   2 out of   2 | elapsed:   59.6s remaining:    0.0s\n"
     ]
    },
    {
     "name": "stdout",
     "output_type": "stream",
     "text": [
      "[CV] .... linear_svc__C=0.001, score=0.9731796960365551, total=  32.2s\n",
      "[CV] linear_svc__C=0.01 ..............................................\n"
     ]
    },
    {
     "name": "stderr",
     "output_type": "stream",
     "text": [
      "[Parallel(n_jobs=1)]: Done   3 out of   3 | elapsed:  1.8min remaining:    0.0s\n"
     ]
    },
    {
     "name": "stdout",
     "output_type": "stream",
     "text": [
      "[CV] ..... linear_svc__C=0.01, score=0.9751051080875294, total=  18.6s\n",
      "[CV] linear_svc__C=0.01 ..............................................\n"
     ]
    },
    {
     "name": "stderr",
     "output_type": "stream",
     "text": [
      "[Parallel(n_jobs=1)]: Done   4 out of   4 | elapsed:  2.3min remaining:    0.0s\n"
     ]
    },
    {
     "name": "stdout",
     "output_type": "stream",
     "text": [
      "[CV] ..... linear_svc__C=0.01, score=0.9750347659095424, total=  16.3s\n",
      "[CV] linear_svc__C=0.01 ..............................................\n"
     ]
    },
    {
     "name": "stderr",
     "output_type": "stream",
     "text": [
      "[Parallel(n_jobs=1)]: Done   5 out of   5 | elapsed:  2.7min remaining:    0.0s\n"
     ]
    },
    {
     "name": "stdout",
     "output_type": "stream",
     "text": [
      "[CV] ..... linear_svc__C=0.01, score=0.9756630575146519, total=  21.4s\n",
      "[CV] linear_svc__C=0.1 ...............................................\n"
     ]
    },
    {
     "name": "stderr",
     "output_type": "stream",
     "text": [
      "[Parallel(n_jobs=1)]: Done   6 out of   6 | elapsed:  3.2min remaining:    0.0s\n"
     ]
    },
    {
     "name": "stdout",
     "output_type": "stream",
     "text": [
      "[CV] ...... linear_svc__C=0.1, score=0.9723574006025093, total=  24.8s\n",
      "[CV] linear_svc__C=0.1 ...............................................\n"
     ]
    },
    {
     "name": "stderr",
     "output_type": "stream",
     "text": [
      "[Parallel(n_jobs=1)]: Done   7 out of   7 | elapsed:  3.7min remaining:    0.0s\n"
     ]
    },
    {
     "name": "stdout",
     "output_type": "stream",
     "text": [
      "[CV] ...... linear_svc__C=0.1, score=0.9707304152042912, total=  23.5s\n",
      "[CV] linear_svc__C=0.1 ...............................................\n"
     ]
    },
    {
     "name": "stderr",
     "output_type": "stream",
     "text": [
      "[Parallel(n_jobs=1)]: Done   8 out of   8 | elapsed:  4.2min remaining:    0.0s\n"
     ]
    },
    {
     "name": "stdout",
     "output_type": "stream",
     "text": [
      "[CV] ...... linear_svc__C=0.1, score=0.9721532399589418, total=  22.7s\n",
      "[CV] linear_svc__C=1 .................................................\n"
     ]
    },
    {
     "name": "stderr",
     "output_type": "stream",
     "text": [
      "[Parallel(n_jobs=1)]: Done   9 out of   9 | elapsed:  4.7min remaining:    0.0s\n"
     ]
    },
    {
     "name": "stdout",
     "output_type": "stream",
     "text": [
      "[CV] ........ linear_svc__C=1, score=0.9712318336809349, total=  35.1s\n",
      "[CV] linear_svc__C=1 .................................................\n",
      "[CV] ........ linear_svc__C=1, score=0.9697371035030793, total=  32.8s\n",
      "[CV] linear_svc__C=1 .................................................\n"
     ]
    },
    {
     "name": "stderr",
     "output_type": "stream",
     "text": [
      "/anaconda3/lib/python3.6/site-packages/sklearn/svm/base.py:931: ConvergenceWarning: Liblinear failed to converge, increase the number of iterations.\n",
      "  \"the number of iterations.\", ConvergenceWarning)\n"
     ]
    },
    {
     "name": "stdout",
     "output_type": "stream",
     "text": [
      "[CV] ........ linear_svc__C=1, score=0.9705638886129598, total=  54.6s\n",
      "[CV] linear_svc__C=10 ................................................\n",
      "[CV] ....... linear_svc__C=10, score=0.9695765882080313, total= 1.4min\n",
      "[CV] linear_svc__C=10 ................................................\n",
      "[CV] ....... linear_svc__C=10, score=0.9678498112707767, total= 1.3min\n",
      "[CV] linear_svc__C=10 ................................................\n",
      "[CV] ....... linear_svc__C=10, score=0.9690738717261018, total= 1.4min\n"
     ]
    },
    {
     "name": "stderr",
     "output_type": "stream",
     "text": [
      "[Parallel(n_jobs=1)]: Done  15 out of  15 | elapsed: 11.6min finished\n"
     ]
    },
    {
     "name": "stdout",
     "output_type": "stream",
     "text": [
      "Best parameters found\n",
      "{'linear_svc__C': 0.01}\n"
     ]
    }
   ],
   "source": [
    "classifier = Pipeline([\n",
    "    ('vect', CountVectorizer(lowercase = False,\n",
    "                             binary = False,\n",
    "                             ngram_range = (1,1)\n",
    "                             )),\n",
    "    (\"linear_svc\", LinearSVC(loss='hinge', class_weight='balanced', max_iter=10000))])\n",
    "\n",
    "parameters = {\n",
    "    'linear_svc__C': [0.001, 0.01, 0.1, 1, 10]\n",
    "}\n",
    "\n",
    "grid_search = GridSearchCV(classifier, parameters, cv=3, iid=False, verbose=10)\n",
    "grid_search.fit(train_x, train_y)\n",
    "\n",
    "# Print out the best parameters found\n",
    "print('Best parameters found')\n",
    "print(grid_search.best_params_)"
   ]
  },
  {
   "cell_type": "markdown",
   "metadata": {},
   "source": [
    "# Make predictions on the test set"
   ]
  },
  {
   "cell_type": "code",
   "execution_count": 5,
   "metadata": {},
   "outputs": [
    {
     "name": "stdout",
     "output_type": "stream",
     "text": [
      "                        precision    recall  f1-score   support\n",
      "\n",
      "CRIME, LAW ENFORCEMENT   0.992087  0.987003  0.989538     29852\n",
      "  ECONOMIC PERFORMANCE   0.990389  0.995532  0.992954      8281\n",
      "             ELECTIONS   0.985511  0.989832  0.987667     10720\n",
      "                HEALTH   0.976525  0.993874  0.985123      4897\n",
      "              RELIGION   0.981231  0.990745  0.985965      2269\n",
      "                SPORTS   0.996324  0.994999  0.995661     34591\n",
      "\n",
      "             micro avg   0.991634  0.991634  0.991634     90610\n",
      "             macro avg   0.987011  0.991997  0.989485     90610\n",
      "          weighted avg   0.991658  0.991634  0.991638     90610\n",
      "\n"
     ]
    }
   ],
   "source": [
    "predict_y = grid_search.predict(test_x)\n",
    "print(classification_report(test_y, predict_y, digits=6, target_names=topic_code_to_topic_dict.values()))"
   ]
  }
 ],
 "metadata": {
  "kernelspec": {
   "display_name": "Python 3",
   "language": "python",
   "name": "python3"
  },
  "language_info": {
   "codemirror_mode": {
    "name": "ipython",
    "version": 3
   },
   "file_extension": ".py",
   "mimetype": "text/x-python",
   "name": "python",
   "nbconvert_exporter": "python",
   "pygments_lexer": "ipython3",
   "version": "3.6.8"
  }
 },
 "nbformat": 4,
 "nbformat_minor": 2
}
