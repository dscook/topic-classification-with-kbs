{
 "cells": [
  {
   "cell_type": "markdown",
   "metadata": {},
   "source": [
    "# SVM Parameter Optimisation\n",
    "\n",
    "## Load required imports"
   ]
  },
  {
   "cell_type": "code",
   "execution_count": 1,
   "metadata": {},
   "outputs": [],
   "source": [
    "# Make common scripts visible\n",
    "import sys\n",
    "sys.path.append('../common/')\n",
    "\n",
    "from sklearn.feature_extraction.text import CountVectorizer\n",
    "from sklearn.svm import LinearSVC\n",
    "from sklearn.pipeline import Pipeline\n",
    "from sklearn.model_selection import GridSearchCV\n",
    "from sklearn.metrics import classification_report\n",
    "\n",
    "from loader import load_preprocessed_data\n",
    "from lookup_tables import topic_code_to_topic_dict"
   ]
  },
  {
   "cell_type": "markdown",
   "metadata": {},
   "source": [
    "## Load training and test data"
   ]
  },
  {
   "cell_type": "code",
   "execution_count": 2,
   "metadata": {},
   "outputs": [],
   "source": [
    "x, y = load_preprocessed_data('data/rcv1_baseline.csv')\n",
    "\n",
    "total_examples = len(y)\n",
    "split_point = int(total_examples * 0.8)\n",
    "train_x = x[:split_point]\n",
    "train_y = y[:split_point]\n",
    "test_x = x[split_point:]\n",
    "test_y = y[split_point:]"
   ]
  },
  {
   "cell_type": "markdown",
   "metadata": {},
   "source": [
    "## Find the best parameters on the training set"
   ]
  },
  {
   "cell_type": "code",
   "execution_count": 3,
   "metadata": {},
   "outputs": [
    {
     "name": "stdout",
     "output_type": "stream",
     "text": [
      "Fitting 3 folds for each of 5 candidates, totalling 15 fits\n",
      "[CV] linear_svc__C=0.001 .............................................\n"
     ]
    },
    {
     "name": "stderr",
     "output_type": "stream",
     "text": [
      "[Parallel(n_jobs=1)]: Using backend SequentialBackend with 1 concurrent workers.\n"
     ]
    },
    {
     "name": "stdout",
     "output_type": "stream",
     "text": [
      "[CV] .... linear_svc__C=0.001, score=0.9716934282403575, total=  12.6s\n",
      "[CV] linear_svc__C=0.001 .............................................\n"
     ]
    },
    {
     "name": "stderr",
     "output_type": "stream",
     "text": [
      "[Parallel(n_jobs=1)]: Done   1 out of   1 | elapsed:   19.3s remaining:    0.0s\n"
     ]
    },
    {
     "name": "stdout",
     "output_type": "stream",
     "text": [
      "[CV] ..... linear_svc__C=0.001, score=0.971319786450358, total=  12.4s\n",
      "[CV] linear_svc__C=0.001 .............................................\n"
     ]
    },
    {
     "name": "stderr",
     "output_type": "stream",
     "text": [
      "[Parallel(n_jobs=1)]: Done   2 out of   2 | elapsed:   38.7s remaining:    0.0s\n"
     ]
    },
    {
     "name": "stdout",
     "output_type": "stream",
     "text": [
      "[CV] .... linear_svc__C=0.001, score=0.9725590828194197, total=  11.9s\n",
      "[CV] linear_svc__C=0.01 ..............................................\n"
     ]
    },
    {
     "name": "stderr",
     "output_type": "stream",
     "text": [
      "[Parallel(n_jobs=1)]: Done   3 out of   3 | elapsed:   57.2s remaining:    0.0s\n"
     ]
    },
    {
     "name": "stdout",
     "output_type": "stream",
     "text": [
      "[CV] ..... linear_svc__C=0.01, score=0.9745489157424267, total=  12.9s\n",
      "[CV] linear_svc__C=0.01 ..............................................\n"
     ]
    },
    {
     "name": "stderr",
     "output_type": "stream",
     "text": [
      "[Parallel(n_jobs=1)]: Done   4 out of   4 | elapsed:  1.3min remaining:    0.0s\n"
     ]
    },
    {
     "name": "stdout",
     "output_type": "stream",
     "text": [
      "[CV] ..... linear_svc__C=0.01, score=0.9726855109051028, total=  15.7s\n",
      "[CV] linear_svc__C=0.01 ..............................................\n"
     ]
    },
    {
     "name": "stderr",
     "output_type": "stream",
     "text": [
      "[Parallel(n_jobs=1)]: Done   5 out of   5 | elapsed:  1.7min remaining:    0.0s\n"
     ]
    },
    {
     "name": "stdout",
     "output_type": "stream",
     "text": [
      "[CV] ..... linear_svc__C=0.01, score=0.9742560324489881, total=  18.2s\n",
      "[CV] linear_svc__C=0.1 ...............................................\n"
     ]
    },
    {
     "name": "stderr",
     "output_type": "stream",
     "text": [
      "[Parallel(n_jobs=1)]: Done   6 out of   6 | elapsed:  2.1min remaining:    0.0s\n"
     ]
    },
    {
     "name": "stdout",
     "output_type": "stream",
     "text": [
      "[CV] ...... linear_svc__C=0.1, score=0.9719417315014071, total=  17.5s\n",
      "[CV] linear_svc__C=0.1 ...............................................\n"
     ]
    },
    {
     "name": "stderr",
     "output_type": "stream",
     "text": [
      "[Parallel(n_jobs=1)]: Done   7 out of   7 | elapsed:  2.5min remaining:    0.0s\n"
     ]
    },
    {
     "name": "stdout",
     "output_type": "stream",
     "text": [
      "[CV] ...... linear_svc__C=0.1, score=0.9692918925630095, total=  16.0s\n",
      "[CV] linear_svc__C=0.1 ...............................................\n"
     ]
    },
    {
     "name": "stderr",
     "output_type": "stream",
     "text": [
      "[Parallel(n_jobs=1)]: Done   8 out of   8 | elapsed:  2.8min remaining:    0.0s\n"
     ]
    },
    {
     "name": "stdout",
     "output_type": "stream",
     "text": [
      "[CV] ....... linear_svc__C=0.1, score=0.971069078266628, total=  21.5s\n",
      "[CV] linear_svc__C=1 .................................................\n"
     ]
    },
    {
     "name": "stderr",
     "output_type": "stream",
     "text": [
      "[Parallel(n_jobs=1)]: Done   9 out of   9 | elapsed:  3.3min remaining:    0.0s\n"
     ]
    },
    {
     "name": "stdout",
     "output_type": "stream",
     "text": [
      "[CV] ........ linear_svc__C=1, score=0.9709071345803675, total=  27.6s\n",
      "[CV] linear_svc__C=1 .................................................\n",
      "[CV] ........ linear_svc__C=1, score=0.9682986384141042, total=  22.6s\n",
      "[CV] linear_svc__C=1 .................................................\n",
      "[CV] ........ linear_svc__C=1, score=0.9699515748520343, total= 3.6min\n",
      "[CV] linear_svc__C=10 ................................................\n"
     ]
    },
    {
     "name": "stderr",
     "output_type": "stream",
     "text": [
      "/anaconda3/lib/python3.6/site-packages/sklearn/svm/base.py:931: ConvergenceWarning: Liblinear failed to converge, increase the number of iterations.\n",
      "  \"the number of iterations.\", ConvergenceWarning)\n"
     ]
    },
    {
     "name": "stdout",
     "output_type": "stream",
     "text": [
      "[CV] ....... linear_svc__C=10, score=0.9697070021519616, total= 1.1min\n",
      "[CV] linear_svc__C=10 ................................................\n",
      "[CV] ....... linear_svc__C=10, score=0.9670156851384348, total=  52.9s\n",
      "[CV] linear_svc__C=10 ................................................\n",
      "[CV] ....... linear_svc__C=10, score=0.9691651835602831, total= 1.2min\n"
     ]
    },
    {
     "name": "stderr",
     "output_type": "stream",
     "text": [
      "[Parallel(n_jobs=1)]: Done  15 out of  15 | elapsed: 11.6min finished\n"
     ]
    },
    {
     "name": "stdout",
     "output_type": "stream",
     "text": [
      "Best parameters found\n",
      "{'linear_svc__C': 0.01}\n"
     ]
    }
   ],
   "source": [
    "classifier = Pipeline([\n",
    "    ('vect', CountVectorizer(lowercase = False,\n",
    "                             binary = False,\n",
    "                             ngram_range = (1,1)\n",
    "                             )),\n",
    "    (\"linear_svc\", LinearSVC(loss='hinge', class_weight='balanced', max_iter=10000))])\n",
    "\n",
    "parameters = {\n",
    "    'linear_svc__C': [0.001, 0.01, 0.1, 1, 10]\n",
    "}\n",
    "\n",
    "grid_search = GridSearchCV(classifier, parameters, cv=3, iid=False, verbose=10)\n",
    "grid_search.fit(train_x, train_y)\n",
    "\n",
    "# Print out the best parameters found\n",
    "print('Best parameters found')\n",
    "print(grid_search.best_params_)"
   ]
  },
  {
   "cell_type": "markdown",
   "metadata": {},
   "source": [
    "# Make predictions on the test set"
   ]
  },
  {
   "cell_type": "code",
   "execution_count": 5,
   "metadata": {},
   "outputs": [
    {
     "name": "stdout",
     "output_type": "stream",
     "text": [
      "                        precision    recall  f1-score   support\n",
      "\n",
      "CRIME, LAW ENFORCEMENT   0.973603  0.973603  0.973603      6137\n",
      "  ECONOMIC PERFORMANCE   0.971223  0.972389  0.971806      1666\n",
      "             ELECTIONS   0.956198  0.962477  0.959327      2132\n",
      "                HEALTH   0.948012  0.950920  0.949464       978\n",
      "              RELIGION   0.927885  0.908235  0.917955       425\n",
      "                SPORTS   0.992028  0.990566  0.991297      6784\n",
      "\n",
      "             micro avg   0.975775  0.975775  0.975775     18122\n",
      "             macro avg   0.961491  0.959698  0.960575     18122\n",
      "          weighted avg   0.975781  0.975775  0.975774     18122\n",
      "\n"
     ]
    }
   ],
   "source": [
    "predict_y = grid_search.predict(test_x)\n",
    "print(classification_report(test_y, predict_y, digits=6, target_names=topic_code_to_topic_dict.values()))"
   ]
  },
  {
   "cell_type": "code",
   "execution_count": null,
   "metadata": {},
   "outputs": [],
   "source": []
  }
 ],
 "metadata": {
  "kernelspec": {
   "display_name": "Python 3",
   "language": "python",
   "name": "python3"
  },
  "language_info": {
   "codemirror_mode": {
    "name": "ipython",
    "version": 3
   },
   "file_extension": ".py",
   "mimetype": "text/x-python",
   "name": "python",
   "nbconvert_exporter": "python",
   "pygments_lexer": "ipython3",
   "version": "3.6.8"
  }
 },
 "nbformat": 4,
 "nbformat_minor": 2
}
